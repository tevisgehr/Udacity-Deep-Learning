{
 "cells": [
  {
   "cell_type": "markdown",
   "metadata": {},
   "source": [
    "# Sentiment Classification & How To \"Frame Problems\" for a Neural Network\n",
    "\n",
    "by Andrew Trask\n",
    "\n",
    "- **Twitter**: @iamtrask\n",
    "- **Blog**: http://iamtrask.github.io"
   ]
  },
  {
   "cell_type": "markdown",
   "metadata": {},
   "source": [
    "### What You Should Already Know\n",
    "\n",
    "- neural networks, forward and back-propagation\n",
    "- stochastic gradient descent\n",
    "- mean squared error\n",
    "- and train/test splits\n",
    "\n",
    "### Where to Get Help if You Need it\n",
    "- Re-watch previous Udacity Lectures\n",
    "- Leverage the recommended Course Reading Material - [Grokking Deep Learning](https://www.manning.com/books/grokking-deep-learning) (40% Off: **traskud17**)\n",
    "- Shoot me a tweet @iamtrask\n",
    "\n",
    "\n",
    "### Tutorial Outline:\n",
    "\n",
    "- Intro: The Importance of \"Framing a Problem\"\n",
    "\n",
    "\n",
    "- Curate a Dataset\n",
    "- Developing a \"Predictive Theory\"\n",
    "- **PROJECT 1**: Quick Theory Validation\n",
    "\n",
    "\n",
    "- Transforming Text to Numbers\n",
    "- **PROJECT 2**: Creating the Input/Output Data\n",
    "\n",
    "\n",
    "- Putting it all together in a Neural Network\n",
    "- **PROJECT 3**: Building our Neural Network\n",
    "\n",
    "\n",
    "- Understanding Neural Noise\n",
    "- **PROJECT 4**: Making Learning Faster by Reducing Noise\n",
    "\n",
    "\n",
    "- Analyzing Inefficiencies in our Network\n",
    "- **PROJECT 5**: Making our Network Train and Run Faster\n",
    "\n",
    "\n",
    "- Further Noise Reduction\n",
    "- **PROJECT 6**: Reducing Noise by Strategically Reducing the Vocabulary\n",
    "\n",
    "\n",
    "- Analysis: What's going on in the weights?"
   ]
  },
  {
   "cell_type": "markdown",
   "metadata": {
    "nbpresent": {
     "id": "56bb3cba-260c-4ebe-9ed6-b995b4c72aa3"
    }
   },
   "source": [
    "# Lesson: Curate a Dataset"
   ]
  },
  {
   "cell_type": "code",
   "execution_count": 5,
   "metadata": {
    "collapsed": false,
    "nbpresent": {
     "id": "eba2b193-0419-431e-8db9-60f34dd3fe83"
    }
   },
   "outputs": [],
   "source": [
    "def pretty_print_review_and_label(i):\n",
    "    print(labels[i] + \"\\t:\\t\" + reviews[i][:80] + \"...\")\n",
    "\n",
    "g = open('reviews.txt','r') # What we know!\n",
    "reviews = list(map(lambda x:x[:-1],g.readlines()))\n",
    "g.close()\n",
    "\n",
    "g = open('labels.txt','r') # What we WANT to know!\n",
    "labels = list(map(lambda x:x[:-1].upper(),g.readlines()))\n",
    "g.close()"
   ]
  },
  {
   "cell_type": "code",
   "execution_count": 6,
   "metadata": {
    "collapsed": false
   },
   "outputs": [
    {
     "data": {
      "text/plain": [
       "25000"
      ]
     },
     "execution_count": 6,
     "metadata": {},
     "output_type": "execute_result"
    }
   ],
   "source": [
    "len(reviews)"
   ]
  },
  {
   "cell_type": "code",
   "execution_count": 7,
   "metadata": {
    "collapsed": false,
    "nbpresent": {
     "id": "bb95574b-21a0-4213-ae50-34363cf4f87f"
    }
   },
   "outputs": [
    {
     "data": {
      "text/plain": [
       "'bromwell high is a cartoon comedy . it ran at the same time as some other programs about school life  such as  teachers  . my   years in the teaching profession lead me to believe that bromwell high  s satire is much closer to reality than is  teachers  . the scramble to survive financially  the insightful students who can see right through their pathetic teachers  pomp  the pettiness of the whole situation  all remind me of the schools i knew and their students . when i saw the episode in which a student repeatedly tried to burn down the school  i immediately recalled . . . . . . . . . at . . . . . . . . . . high . a classic line inspector i  m here to sack one of your teachers . student welcome to bromwell high . i expect that many adults of my age think that bromwell high is far fetched . what a pity that it isn  t   '"
      ]
     },
     "execution_count": 7,
     "metadata": {},
     "output_type": "execute_result"
    }
   ],
   "source": [
    "reviews[0]"
   ]
  },
  {
   "cell_type": "code",
   "execution_count": 8,
   "metadata": {
    "collapsed": false,
    "nbpresent": {
     "id": "e0408810-c424-4ed4-afb9-1735e9ddbd0a"
    }
   },
   "outputs": [
    {
     "data": {
      "text/plain": [
       "'POSITIVE'"
      ]
     },
     "execution_count": 8,
     "metadata": {},
     "output_type": "execute_result"
    }
   ],
   "source": [
    "labels[0]"
   ]
  },
  {
   "cell_type": "markdown",
   "metadata": {},
   "source": [
    "# Lesson: Develop a Predictive Theory"
   ]
  },
  {
   "cell_type": "code",
   "execution_count": 9,
   "metadata": {
    "collapsed": false,
    "nbpresent": {
     "id": "e67a709f-234f-4493-bae6-4fb192141ee0"
    }
   },
   "outputs": [
    {
     "name": "stdout",
     "output_type": "stream",
     "text": [
      "labels.txt \t : \t reviews.txt\n",
      "\n",
      "NEGATIVE\t:\tthis movie is terrible but it has some good effects .  ...\n",
      "POSITIVE\t:\tadrian pasdar is excellent is this film . he makes a fascinating woman .  ...\n",
      "NEGATIVE\t:\tcomment this movie is impossible . is terrible  very improbable  bad interpretat...\n",
      "POSITIVE\t:\texcellent episode movie ala pulp fiction .  days   suicides . it doesnt get more...\n",
      "NEGATIVE\t:\tif you haven  t seen this  it  s terrible . it is pure trash . i saw this about ...\n",
      "POSITIVE\t:\tthis schiffer guy is a real genius  the movie is of excellent quality and both e...\n"
     ]
    }
   ],
   "source": [
    "print(\"labels.txt \\t : \\t reviews.txt\\n\")\n",
    "pretty_print_review_and_label(2137)\n",
    "pretty_print_review_and_label(12816)\n",
    "pretty_print_review_and_label(6267)\n",
    "pretty_print_review_and_label(21934)\n",
    "pretty_print_review_and_label(5297)\n",
    "pretty_print_review_and_label(4998)"
   ]
  },
  {
   "cell_type": "code",
   "execution_count": 26,
   "metadata": {
    "collapsed": false
   },
   "outputs": [
    {
     "name": "stdout",
     "output_type": "stream",
     "text": [
      "Words: 28400\n",
      "Unique words: 4449\n"
     ]
    }
   ],
   "source": [
    "words_list = [] #List of all words\n",
    "\n",
    "sentiment_list = [] #List of sentiment lable attached to each instance of a word \n",
    "                    #(depending on what review is comes from)\n",
    "\n",
    "unique_words = [] #List of unique words\n",
    "\n",
    "search_length = 100  \n",
    "#Number of reviews to include, for speed of testing (starting from beginning, may want to randomize)\n",
    "\n",
    "for i in range (search_length):\n",
    "    _ = reviews[i].split()\n",
    "    for j in _:\n",
    "        words_list.append(j)\n",
    "        sentiment_list.append(labels[i])\n",
    "print(\"Words:\",len(words_list))\n",
    "unique_words = list(set(words_list))\n",
    "print(\"Unique words:\",len(unique_words))"
   ]
  },
  {
   "cell_type": "code",
   "execution_count": 51,
   "metadata": {
    "collapsed": false
   },
   "outputs": [],
   "source": [
    "counts_list = []  #List of the counts of each word\n",
    "goods_list = []\n",
    "bads_list = []\n",
    "for u in range(len(unique_words)):\n",
    "    counts_list.append(words_list.count(unique_words[u]))\n",
    "    goods = 0\n",
    "    bads = 0\n",
    "    for k in range(len(words_list)):\n",
    "        if words_list[k] == unique_word:\n",
    "            if sentiment_list[k] == \"POSITIVE\":\n",
    "                goods += 1\n",
    "            else:\n",
    "                bads += 1\n",
    "    goods_list.append(goods)\n",
    "    bads_list.append(bads)\n",
    "    \n",
    "    "
   ]
  },
  {
   "cell_type": "code",
   "execution_count": 54,
   "metadata": {
    "collapsed": false
   },
   "outputs": [],
   "source": [
    "import numpy as np\n",
    "data = np.array([unique_words,counts_list,goods_list,bads_list])"
   ]
  },
  {
   "cell_type": "code",
   "execution_count": 58,
   "metadata": {
    "collapsed": false
   },
   "outputs": [
    {
     "name": "stdout",
     "output_type": "stream",
     "text": [
      "               Word Count Positives Negatives\n",
      "89               by    99         1         2\n",
      "2876           from    96         1         2\n",
      "3949          story    96         1         2\n",
      "578              or    90         1         2\n",
      "4327        titanic    90         1         2\n",
      "2195        acharya     9         1         2\n",
      "3991         seemed     9         1         2\n",
      "2228      beautiful     9         1         2\n",
      "1287     understand     9         1         2\n",
      "2217       favorite     9         1         2\n",
      "3295          stars     9         1         2\n",
      "3910        believe     9         1         2\n",
      "1961            fan     9         1         2\n",
      "3993            car     9         1         2\n",
      "2229        krishna     9         1         2\n",
      "3260       suspense     9         1         2\n",
      "1438         anyone     9         1         2\n",
      "786          during     9         1         2\n",
      "1749         moving     9         1         2\n",
      "310      completely     9         1         2\n",
      "4129          found     9         1         2\n",
      "3225           gave     9         1         2\n",
      "1241          shown     9         1         2\n",
      "1633          vijay     9         1         2\n",
      "4409            hot     9         1         2\n",
      "1117         expect     9         1         2\n",
      "2816           else     9         1         2\n",
      "3331       leonardo     9         1         2\n",
      "948        thinking     9         1         2\n",
      "968      absolutely     9         1         2\n",
      "...             ...   ...       ...       ...\n",
      "2350    potentially     1         1         2\n",
      "522          junked     1         1         2\n",
      "2352        tricked     1         1         2\n",
      "521        machines     1         1         2\n",
      "2354         asylum     1         1         2\n",
      "2355        affects     1         1         2\n",
      "2356          table     1         1         2\n",
      "2332   increasingly     1         1         2\n",
      "528           votes     1         1         2\n",
      "2328           foul     1         1         2\n",
      "2313      submerged     1         1         2\n",
      "2303        stretch     1         1         2\n",
      "2304     flawlessly     1         1         2\n",
      "2306          light     1         1         2\n",
      "2307        classes     1         1         2\n",
      "2308      gathering     1         1         2\n",
      "2309        ashamed     1         1         2\n",
      "2311         twists     1         1         2\n",
      "2312   successfully     1         1         2\n",
      "535          public     1         1         2\n",
      "2327     aggravates     1         1         2\n",
      "534        millions     1         1         2\n",
      "2317        correct     1         1         2\n",
      "2318       recovers     1         1         2\n",
      "532          psycho     1         1         2\n",
      "2322          mumbo     1         1         2\n",
      "530        persuade     1         1         2\n",
      "2325         aplomb     1         1         2\n",
      "2326          hacks     1         1         2\n",
      "2224  homosexuality     1         1         2\n",
      "\n",
      "[4449 rows x 4 columns]\n"
     ]
    }
   ],
   "source": [
    "import pandas as pd\n",
    "df = pd.DataFrame(data.T, columns=[\"Word\",\"Count\",\"Positives\",\"Negatives\"])\n",
    "df = df.sort_values(\"Count\",ascending=False)\n",
    "print(df)"
   ]
  },
  {
   "cell_type": "code",
   "execution_count": null,
   "metadata": {
    "collapsed": true
   },
   "outputs": [],
   "source": []
  }
 ],
 "metadata": {
  "anaconda-cloud": {},
  "kernelspec": {
   "display_name": "Python 3",
   "language": "python",
   "name": "python3"
  },
  "language_info": {
   "codemirror_mode": {
    "name": "ipython",
    "version": 3
   },
   "file_extension": ".py",
   "mimetype": "text/x-python",
   "name": "python",
   "nbconvert_exporter": "python",
   "pygments_lexer": "ipython3",
   "version": "3.6.0"
  }
 },
 "nbformat": 4,
 "nbformat_minor": 1
}
