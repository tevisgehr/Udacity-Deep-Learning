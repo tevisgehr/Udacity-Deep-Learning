{
 "cells": [
  {
   "cell_type": "markdown",
   "metadata": {
    "collapsed": true,
    "deletable": true,
    "editable": true
   },
   "source": [
    "# Language Translation\n",
    "In this project, you’re going to take a peek into the realm of neural network machine translation.  You’ll be training a sequence to sequence model on a dataset of English and French sentences that can translate new sentences from English to French.\n",
    "## Get the Data\n",
    "Since translating the whole language of English to French will take lots of time to train, we have provided you with a small portion of the English corpus."
   ]
  },
  {
   "cell_type": "code",
   "execution_count": 1,
   "metadata": {
    "collapsed": false,
    "deletable": true,
    "editable": true
   },
   "outputs": [],
   "source": [
    "\"\"\"\n",
    "DON'T MODIFY ANYTHING IN THIS CELL\n",
    "\"\"\"\n",
    "import helper\n",
    "import problem_unittests as tests\n",
    "\n",
    "source_path = 'data/small_vocab_en'\n",
    "target_path = 'data/small_vocab_fr'\n",
    "source_text = helper.load_data(source_path)\n",
    "target_text = helper.load_data(target_path)"
   ]
  },
  {
   "cell_type": "markdown",
   "metadata": {
    "deletable": true,
    "editable": true
   },
   "source": [
    "## Explore the Data\n",
    "Play around with view_sentence_range to view different parts of the data."
   ]
  },
  {
   "cell_type": "code",
   "execution_count": 2,
   "metadata": {
    "collapsed": false,
    "deletable": true,
    "editable": true
   },
   "outputs": [
    {
     "name": "stdout",
     "output_type": "stream",
     "text": [
      "Dataset Stats\n",
      "Roughly the number of unique words: 227\n",
      "Number of sentences: 137861\n",
      "Average number of words in a sentence: 13.225277634719028\n",
      "\n",
      "English sentences 0 to 10:\n",
      "new jersey is sometimes quiet during autumn , and it is snowy in april .\n",
      "the united states is usually chilly during july , and it is usually freezing in november .\n",
      "california is usually quiet during march , and it is usually hot in june .\n",
      "the united states is sometimes mild during june , and it is cold in september .\n",
      "your least liked fruit is the grape , but my least liked is the apple .\n",
      "his favorite fruit is the orange , but my favorite is the grape .\n",
      "paris is relaxing during december , but it is usually chilly in july .\n",
      "new jersey is busy during spring , and it is never hot in march .\n",
      "our least liked fruit is the lemon , but my least liked is the grape .\n",
      "the united states is sometimes busy during january , and it is sometimes warm in november .\n",
      "\n",
      "French sentences 0 to 10:\n",
      "new jersey est parfois calme pendant l' automne , et il est neigeux en avril .\n",
      "les états-unis est généralement froid en juillet , et il gèle habituellement en novembre .\n",
      "california est généralement calme en mars , et il est généralement chaud en juin .\n",
      "les états-unis est parfois légère en juin , et il fait froid en septembre .\n",
      "votre moins aimé fruit est le raisin , mais mon moins aimé est la pomme .\n",
      "son fruit préféré est l'orange , mais mon préféré est le raisin .\n",
      "paris est relaxant en décembre , mais il est généralement froid en juillet .\n",
      "new jersey est occupé au printemps , et il est jamais chaude en mars .\n",
      "notre fruit est moins aimé le citron , mais mon moins aimé est le raisin .\n",
      "les états-unis est parfois occupé en janvier , et il est parfois chaud en novembre .\n"
     ]
    }
   ],
   "source": [
    "view_sentence_range = (0, 10)\n",
    "\n",
    "\"\"\"\n",
    "DON'T MODIFY ANYTHING IN THIS CELL\n",
    "\"\"\"\n",
    "import numpy as np\n",
    "\n",
    "print('Dataset Stats')\n",
    "print('Roughly the number of unique words: {}'.format(len({word: None for word in source_text.split()})))\n",
    "\n",
    "sentences = source_text.split('\\n')\n",
    "word_counts = [len(sentence.split()) for sentence in sentences]\n",
    "print('Number of sentences: {}'.format(len(sentences)))\n",
    "print('Average number of words in a sentence: {}'.format(np.average(word_counts)))\n",
    "\n",
    "print()\n",
    "print('English sentences {} to {}:'.format(*view_sentence_range))\n",
    "print('\\n'.join(source_text.split('\\n')[view_sentence_range[0]:view_sentence_range[1]]))\n",
    "print()\n",
    "print('French sentences {} to {}:'.format(*view_sentence_range))\n",
    "print('\\n'.join(target_text.split('\\n')[view_sentence_range[0]:view_sentence_range[1]]))"
   ]
  },
  {
   "cell_type": "markdown",
   "metadata": {
    "deletable": true,
    "editable": true
   },
   "source": [
    "## Implement Preprocessing Function\n",
    "### Text to Word Ids\n",
    "As you did with other RNNs, you must turn the text into a number so the computer can understand it. In the function `text_to_ids()`, you'll turn `source_text` and `target_text` from words to ids.  However, you need to add the `<EOS>` word id at the end of each sentence from `target_text`.  This will help the neural network predict when the sentence should end.\n",
    "\n",
    "You can get the `<EOS>` word id by doing:\n",
    "```python\n",
    "target_vocab_to_int['<EOS>']\n",
    "```\n",
    "You can get other word ids using `source_vocab_to_int` and `target_vocab_to_int`."
   ]
  },
  {
   "cell_type": "code",
   "execution_count": 3,
   "metadata": {
    "collapsed": false,
    "deletable": true,
    "editable": true
   },
   "outputs": [
    {
     "name": "stdout",
     "output_type": "stream",
     "text": [
      "Tests Passed\n"
     ]
    }
   ],
   "source": [
    "def text_to_ids(source_text, target_text, source_vocab_to_int, target_vocab_to_int):\n",
    "    \"\"\"\n",
    "    Convert source and target text to proper word ids\n",
    "    :param source_text: String that contains all the source text.\n",
    "    :param target_text: String that contains all the target text.\n",
    "    :param source_vocab_to_int: Dictionary to go from the source words to an id\n",
    "    :param target_vocab_to_int: Dictionary to go from the target words to an id\n",
    "    :return: A tuple of lists (source_id_text, target_id_text)\n",
    "    \"\"\"\n",
    "    source_id_text = []\n",
    "    for sentence in source_text.split('\\n'):\n",
    "        source_id_text.append([source_vocab_to_int[word] if word in list(source_vocab_to_int.keys()) \\\n",
    "            else source_vocab_to_int['<UNK>'] for word in sentence.split(' ')])\n",
    "    \n",
    "    target_id_text = []\n",
    "    target_text = target_text.replace('\\n',' <EOS>*')\n",
    "    for sentence in target_text.split('*'):\n",
    "        target_id_text.append([target_vocab_to_int[word] if word in list(target_vocab_to_int.keys()) \\\n",
    "            else target_vocab_to_int['<UNK>'] for word in sentence.split(' ')])\n",
    "    target_id_text[len(target_id_text)-1].append(target_vocab_to_int['<EOS>'])\n",
    "    \n",
    "    return source_id_text, target_id_text\n",
    "    \n",
    "\"\"\"\n",
    "DON'T MODIFY ANYTHING IN THIS CELL THAT IS BELOW THIS LINE\n",
    "\"\"\"\n",
    "tests.test_text_to_ids(text_to_ids)"
   ]
  },
  {
   "cell_type": "markdown",
   "metadata": {
    "deletable": true,
    "editable": true
   },
   "source": [
    "### Preprocess all the data and save it\n",
    "Running the code cell below will preprocess all the data and save it to file."
   ]
  },
  {
   "cell_type": "code",
   "execution_count": 4,
   "metadata": {
    "collapsed": false,
    "deletable": true,
    "editable": true
   },
   "outputs": [],
   "source": [
    "\"\"\"\n",
    "DON'T MODIFY ANYTHING IN THIS CELL\n",
    "\"\"\"\n",
    "helper.preprocess_and_save_data(source_path, target_path, text_to_ids)"
   ]
  },
  {
   "cell_type": "markdown",
   "metadata": {
    "deletable": true,
    "editable": true
   },
   "source": [
    "# Check Point\n",
    "This is your first checkpoint. If you ever decide to come back to this notebook or have to restart the notebook, you can start from here. The preprocessed data has been saved to disk."
   ]
  },
  {
   "cell_type": "code",
   "execution_count": 5,
   "metadata": {
    "collapsed": false,
    "deletable": true,
    "editable": true
   },
   "outputs": [],
   "source": [
    "\"\"\"\n",
    "DON'T MODIFY ANYTHING IN THIS CELL\n",
    "\"\"\"\n",
    "import numpy as np\n",
    "import helper\n",
    "\n",
    "(source_int_text, target_int_text), (source_vocab_to_int, target_vocab_to_int), _ = helper.load_preprocess()"
   ]
  },
  {
   "cell_type": "markdown",
   "metadata": {
    "deletable": true,
    "editable": true
   },
   "source": [
    "### Check the Version of TensorFlow and Access to GPU\n",
    "This will check to make sure you have the correct version of TensorFlow and access to a GPU"
   ]
  },
  {
   "cell_type": "code",
   "execution_count": 6,
   "metadata": {
    "collapsed": false,
    "deletable": true,
    "editable": true
   },
   "outputs": [
    {
     "name": "stdout",
     "output_type": "stream",
     "text": [
      "TensorFlow Version: 1.0.0\n",
      "Default GPU Device: /gpu:0\n"
     ]
    }
   ],
   "source": [
    "\"\"\"\n",
    "DON'T MODIFY ANYTHING IN THIS CELL\n",
    "\"\"\"\n",
    "from distutils.version import LooseVersion\n",
    "import warnings\n",
    "import tensorflow as tf\n",
    "\n",
    "# Check TensorFlow Version\n",
    "assert LooseVersion(tf.__version__) in [LooseVersion('1.0.0'), LooseVersion('1.0.1')], 'This project requires TensorFlow version 1.0  You are using {}'.format(tf.__version__)\n",
    "print('TensorFlow Version: {}'.format(tf.__version__))\n",
    "\n",
    "# Check for a GPU\n",
    "if not tf.test.gpu_device_name():\n",
    "    warnings.warn('No GPU found. Please use a GPU to train your neural network.')\n",
    "else:\n",
    "    print('Default GPU Device: {}'.format(tf.test.gpu_device_name()))"
   ]
  },
  {
   "cell_type": "markdown",
   "metadata": {
    "deletable": true,
    "editable": true
   },
   "source": [
    "## Build the Neural Network\n",
    "You'll build the components necessary to build a Sequence-to-Sequence model by implementing the following functions below:\n",
    "- `model_inputs`\n",
    "- `process_decoding_input`\n",
    "- `encoding_layer`\n",
    "- `decoding_layer_train`\n",
    "- `decoding_layer_infer`\n",
    "- `decoding_layer`\n",
    "- `seq2seq_model`\n",
    "\n",
    "### Input\n",
    "Implement the `model_inputs()` function to create TF Placeholders for the Neural Network. It should create the following placeholders:\n",
    "\n",
    "- Input text placeholder named \"input\" using the TF Placeholder name parameter with rank 2.\n",
    "- Targets placeholder with rank 2.\n",
    "- Learning rate placeholder with rank 0.\n",
    "- Keep probability placeholder named \"keep_prob\" using the TF Placeholder name parameter with rank 0.\n",
    "\n",
    "Return the placeholders in the following the tuple (Input, Targets, Learing Rate, Keep Probability)"
   ]
  },
  {
   "cell_type": "code",
   "execution_count": 7,
   "metadata": {
    "collapsed": false,
    "deletable": true,
    "editable": true
   },
   "outputs": [
    {
     "name": "stdout",
     "output_type": "stream",
     "text": [
      "Tests Passed\n"
     ]
    }
   ],
   "source": [
    "def model_inputs():\n",
    "    \"\"\"\n",
    "    Create TF Placeholders for input, targets, and learning rate.\n",
    "    :return: Tuple (input, targets, learning rate, keep probability)\n",
    "    \"\"\"\n",
    "    inputs = tf.placeholder(shape=(None, None),dtype = tf.int32,name='input') \n",
    "    targets = tf.placeholder(shape=(None, None),dtype = tf.int32) \n",
    "    learning_rate = tf.placeholder(shape=(),dtype = tf.int32)  \n",
    "    keep_probability = tf.placeholder(shape=(),dtype = tf.float32,name='keep_prob') \n",
    "    return inputs, targets, learning_rate, keep_probability\n",
    "\n",
    "\"\"\"\n",
    "DON'T MODIFY ANYTHING IN THIS CELL THAT IS BELOW THIS LINE\n",
    "\"\"\"\n",
    "tests.test_model_inputs(model_inputs)"
   ]
  },
  {
   "cell_type": "markdown",
   "metadata": {
    "deletable": true,
    "editable": true
   },
   "source": [
    "### Process Decoding Input\n",
    "Implement `process_decoding_input` using TensorFlow to remove the last word id from each batch in `target_data` and concat the GO ID to the begining of each batch."
   ]
  },
  {
   "cell_type": "code",
   "execution_count": 8,
   "metadata": {
    "collapsed": false,
    "deletable": true,
    "editable": true
   },
   "outputs": [
    {
     "name": "stdout",
     "output_type": "stream",
     "text": [
      "Tests Passed\n"
     ]
    }
   ],
   "source": [
    "def process_decoding_input(target_data, target_vocab_to_int, batch_size):\n",
    "    \"\"\"\n",
    "    Preprocess target data for dencoding\n",
    "    :param target_data: Target Placehoder\n",
    "    :param target_vocab_to_int: Dictionary to go from the target words to an id\n",
    "    :param batch_size: Batch Size\n",
    "    :return: Preprocessed target data\n",
    "    \"\"\"\n",
    "    '''\n",
    "    go_ = [[target_vocab_to_int['<GO>']] for i in range(target_data.shape[0])]\n",
    "    print(type(go_[0][0]))\n",
    "    target_data = tf.strided_slice(target_data, [0, 0], [batch_size, -1], [1, 1])\n",
    "    target_data = tf.concat([go_,target_data], 1)\n",
    "    return target_data\n",
    "    '''\n",
    "    ending = tf.strided_slice(target_data, [0, 0], [batch_size, -1], [1, 1])\n",
    "    dec_input = tf.concat([tf.fill([batch_size, 1], target_vocab_to_int['<GO>']), ending], 1)\n",
    "    return dec_input\n",
    "\"\"\"\n",
    "DON'T MODIFY ANYTHING IN THIS CELL THAT IS BELOW THIS LINE\n",
    "\"\"\"\n",
    "tests.test_process_decoding_input(process_decoding_input)"
   ]
  },
  {
   "cell_type": "markdown",
   "metadata": {
    "deletable": true,
    "editable": true
   },
   "source": [
    "### Encoding\n",
    "Implement `encoding_layer()` to create a Encoder RNN layer using [`tf.nn.dynamic_rnn()`](https://www.tensorflow.org/api_docs/python/tf/nn/dynamic_rnn)."
   ]
  },
  {
   "cell_type": "code",
   "execution_count": 9,
   "metadata": {
    "collapsed": false,
    "deletable": true,
    "editable": true
   },
   "outputs": [
    {
     "name": "stdout",
     "output_type": "stream",
     "text": [
      "Tests Passed\n"
     ]
    }
   ],
   "source": [
    "def encoding_layer(rnn_inputs, rnn_size, num_layers, keep_prob):\n",
    "    \"\"\"\n",
    "    Create encoding layer\n",
    "    :param rnn_inputs: Inputs for the RNN\n",
    "    :param rnn_size: RNN Size\n",
    "    :param num_layers: Number of layers\n",
    "    :param keep_prob: Dropout keep probability\n",
    "    :return: RNN state\n",
    "    \"\"\"\n",
    "    \n",
    "    ### Build the RNN layers\n",
    "    # Use a basic LSTM cell\n",
    "    lstm = tf.contrib.rnn.BasicLSTMCell(rnn_size)\n",
    "    \n",
    "    # Add dropout to the cell\n",
    "    drop = tf.contrib.rnn.DropoutWrapper(lstm, output_keep_prob=keep_prob)\n",
    "    \n",
    "    # Stack up multiple LSTM layers, for deep learning\n",
    "    cell = tf.contrib.rnn.MultiRNNCell([drop] * num_layers)\n",
    "    \n",
    "    #Get the encoded final state\n",
    "    _, enc_state = tf.nn.dynamic_rnn(cell, rnn_inputs, dtype=tf.float32)\n",
    "    \n",
    "    return enc_state\n",
    "\n",
    "\"\"\"\n",
    "DON'T MODIFY ANYTHING IN THIS CELL THAT IS BELOW THIS LINE\n",
    "\"\"\"\n",
    "tests.test_encoding_layer(encoding_layer)"
   ]
  },
  {
   "cell_type": "markdown",
   "metadata": {
    "deletable": true,
    "editable": true
   },
   "source": [
    "### Decoding - Training\n",
    "Create training logits using [`tf.contrib.seq2seq.simple_decoder_fn_train()`](https://www.tensorflow.org/api_docs/python/tf/contrib/seq2seq/simple_decoder_fn_train) and [`tf.contrib.seq2seq.dynamic_rnn_decoder()`](https://www.tensorflow.org/api_docs/python/tf/contrib/seq2seq/dynamic_rnn_decoder).  Apply the `output_fn` to the [`tf.contrib.seq2seq.dynamic_rnn_decoder()`](https://www.tensorflow.org/api_docs/python/tf/contrib/seq2seq/dynamic_rnn_decoder) outputs."
   ]
  },
  {
   "cell_type": "code",
   "execution_count": 10,
   "metadata": {
    "collapsed": false,
    "deletable": true,
    "editable": true
   },
   "outputs": [
    {
     "name": "stdout",
     "output_type": "stream",
     "text": [
      "Tests Passed\n"
     ]
    }
   ],
   "source": [
    "def decoding_layer_train(encoder_state, dec_cell, dec_embed_input, sequence_length, decoding_scope,\n",
    "                         output_fn, keep_prob):\n",
    "    \"\"\"\n",
    "    Create a decoding layer for training\n",
    "    :param encoder_state: Encoder State\n",
    "    :param dec_cell: Decoder RNN Cell\n",
    "    :param dec_embed_input: Decoder embedded input\n",
    "    :param sequence_length: Sequence Length\n",
    "    :param decoding_scope: TenorFlow Variable Scope for decoding\n",
    "    :param output_fn: Function to apply the output layer\n",
    "    :param keep_prob: Dropout keep probability\n",
    "    :return: Train Logits\n",
    "    \"\"\"\n",
    "    # Training Decoder\n",
    "    train_decoder_fn = tf.contrib.seq2seq.simple_decoder_fn_train(encoder_state)\n",
    "    train_pred, _, _ = tf.contrib.seq2seq.dynamic_rnn_decoder(dec_cell, train_decoder_fn, dec_embed_input, sequence_length, scope=decoding_scope)\n",
    "    \n",
    "    # Apply output function\n",
    "    train_logits =  output_fn(train_pred)\n",
    "    return train_logits\n",
    "\n",
    "\n",
    "\"\"\"\n",
    "DON'T MODIFY ANYTHING IN THIS CELL THAT IS BELOW THIS LINE\n",
    "\"\"\"\n",
    "tests.test_decoding_layer_train(decoding_layer_train)"
   ]
  },
  {
   "cell_type": "markdown",
   "metadata": {
    "deletable": true,
    "editable": true
   },
   "source": [
    "### Decoding - Inference\n",
    "Create inference logits using [`tf.contrib.seq2seq.simple_decoder_fn_inference()`](https://www.tensorflow.org/api_docs/python/tf/contrib/seq2seq/simple_decoder_fn_inference) and [`tf.contrib.seq2seq.dynamic_rnn_decoder()`](https://www.tensorflow.org/api_docs/python/tf/contrib/seq2seq/dynamic_rnn_decoder). "
   ]
  },
  {
   "cell_type": "code",
   "execution_count": 11,
   "metadata": {
    "collapsed": false,
    "deletable": true,
    "editable": true
   },
   "outputs": [
    {
     "name": "stdout",
     "output_type": "stream",
     "text": [
      "#######decoding_layer_infer()#######\n",
      "encoder_state:  (LSTMStateTuple(c=<tf.Tensor 'decoding/Placeholder_2:0' shape=(?, 512) dtype=float32>, h=<tf.Tensor 'decoding/Placeholder_3:0' shape=(?, 512) dtype=float32>), LSTMStateTuple(c=<tf.Tensor 'decoding/Placeholder_2:0' shape=(?, 512) dtype=float32>, h=<tf.Tensor 'decoding/Placeholder_3:0' shape=(?, 512) dtype=float32>), LSTMStateTuple(c=<tf.Tensor 'decoding/Placeholder_2:0' shape=(?, 512) dtype=float32>, h=<tf.Tensor 'decoding/Placeholder_3:0' shape=(?, 512) dtype=float32>))\n",
      "dec_cell:  <tensorflow.contrib.rnn.python.ops.core_rnn_cell_impl.MultiRNNCell object at 0x7fdbe778d940>\n",
      "dec_embeddings:  Tensor(\"decoding/Placeholder:0\", shape=(1000, 200), dtype=float32)\n",
      "start_of_sequence_id:  10\n",
      "end_of_sequence_id:  20\n",
      "maximum_length:  22\n",
      "vocab_size:  1000\n",
      "decoding_scope:  <tensorflow.python.ops.variable_scope.VariableScope object at 0x7fdbe778d8d0>\n",
      "output_fn:  <function test_decoding_layer_infer.<locals>.<lambda> at 0x7fdbe7b74488>\n",
      "keep_prob:  Tensor(\"decoding/Placeholder_1:0\", dtype=float32)\n",
      "Tests Passed\n"
     ]
    }
   ],
   "source": [
    "def decoding_layer_infer(encoder_state, dec_cell, dec_embeddings, start_of_sequence_id, end_of_sequence_id,\n",
    "                         maximum_length, vocab_size, decoding_scope, output_fn, keep_prob):\n",
    "    \"\"\"\n",
    "    Create a decoding layer for inference\n",
    "    :param encoder_state: Encoder state\n",
    "    :param dec_cell: Decoder RNN Cell\n",
    "    :param dec_embeddings: Decoder embeddings\n",
    "    :param start_of_sequence_id: GO ID\n",
    "    :param end_of_sequence_id: EOS Id\n",
    "    :param maximum_length: The maximum allowed time steps to decode\n",
    "    :param vocab_size: Size of vocabulary\n",
    "    :param decoding_scope: TensorFlow Variable Scope for decoding\n",
    "    :param output_fn: Function to apply the output layer\n",
    "    :param keep_prob: Dropout keep probability\n",
    "    :return: Inference Logits\n",
    "    \"\"\"\n",
    "    # Inference Decoder\n",
    "    (encoder_state, dec_cell, dec_embeddings, start_of_sequence_id, end_of_sequence_id,\n",
    "                         maximum_length, vocab_size, decoding_scope, output_fn, keep_prob)\n",
    "    \n",
    "    print('#######decoding_layer_infer()#######')\n",
    "    print('encoder_state: ',encoder_state)\n",
    "    print('dec_cell: ',dec_cell)\n",
    "    print('dec_embeddings: ',dec_embeddings)\n",
    "    print('start_of_sequence_id: ',start_of_sequence_id)\n",
    "    print('end_of_sequence_id: ',end_of_sequence_id)\n",
    "    print('maximum_length: ',maximum_length)\n",
    "    print('vocab_size: ',vocab_size)\n",
    "    print('decoding_scope: ',decoding_scope)\n",
    "    print('output_fn: ',output_fn)\n",
    "    print('keep_prob: ',keep_prob)\n",
    "    infer_decoder_fn = tf.contrib.seq2seq.simple_decoder_fn_inference(output_fn, encoder_state, dec_embeddings, start_of_sequence_id, end_of_sequence_id, maximum_length - 1, vocab_size)\n",
    "    #infer_decoder_fn = tf.contrib.seq2seq.simple_decoder_fn_inference(output_fn, encoder_state, dec_embeddings, start_of_sequence_id, end_of_sequence_id, maximum_length, vocab_size)\n",
    "\n",
    "    inference_logits, _, _ = tf.contrib.seq2seq.dynamic_rnn_decoder(dec_cell, infer_decoder_fn, scope=decoding_scope)\n",
    "    return inference_logits\n",
    "\n",
    "\n",
    "\"\"\"\n",
    "DON'T MODIFY ANYTHING IN THIS CELL THAT IS BELOW THIS LINE\n",
    "\"\"\"\n",
    "tests.test_decoding_layer_infer(decoding_layer_infer)"
   ]
  },
  {
   "cell_type": "markdown",
   "metadata": {
    "deletable": true,
    "editable": true
   },
   "source": [
    "### Build the Decoding Layer\n",
    "Implement `decoding_layer()` to create a Decoder RNN layer.\n",
    "\n",
    "- Create RNN cell for decoding using `rnn_size` and `num_layers`.\n",
    "- Create the output fuction using [`lambda`](https://docs.python.org/3/tutorial/controlflow.html#lambda-expressions) to transform it's input, logits, to class logits.\n",
    "- Use the your `decoding_layer_train(encoder_state, dec_cell, dec_embed_input, sequence_length, decoding_scope, output_fn, keep_prob)` function to get the training logits.\n",
    "- Use your `decoding_layer_infer(encoder_state, dec_cell, dec_embeddings, start_of_sequence_id, end_of_sequence_id, maximum_length, vocab_size, decoding_scope, output_fn, keep_prob)` function to get the inference logits.\n",
    "\n",
    "Note: You'll need to use [tf.variable_scope](https://www.tensorflow.org/api_docs/python/tf/variable_scope) to share variables between training and inference."
   ]
  },
  {
   "cell_type": "code",
   "execution_count": 12,
   "metadata": {
    "collapsed": false,
    "deletable": true,
    "editable": true,
    "scrolled": false
   },
   "outputs": [
    {
     "name": "stdout",
     "output_type": "stream",
     "text": [
      "#######decoding_layer()#######\n",
      "target_vocab_to_int:  {'<EOS>': 1, '<GO>': 3}\n",
      "dec_embeddings:  Tensor(\"Placeholder_1:0\", shape=(1000, 200), dtype=float32)\n",
      "encoder_state:  (LSTMStateTuple(c=<tf.Tensor 'Placeholder_3:0' shape=(?, 512) dtype=float32>, h=<tf.Tensor 'Placeholder_4:0' shape=(?, 512) dtype=float32>), LSTMStateTuple(c=<tf.Tensor 'Placeholder_3:0' shape=(?, 512) dtype=float32>, h=<tf.Tensor 'Placeholder_4:0' shape=(?, 512) dtype=float32>), LSTMStateTuple(c=<tf.Tensor 'Placeholder_3:0' shape=(?, 512) dtype=float32>, h=<tf.Tensor 'Placeholder_4:0' shape=(?, 512) dtype=float32>))\n",
      "vocab_size:  1000\n",
      "sequence_length:  22\n",
      "rnn_size:  512\n",
      "num_layers:  3\n",
      "target_vocab_to_int:  {'<EOS>': 1, '<GO>': 3}\n",
      "keep_prob:  Tensor(\"Placeholder_2:0\", dtype=float32)\n",
      "#######decoding_layer_infer()#######\n",
      "encoder_state:  (LSTMStateTuple(c=<tf.Tensor 'Placeholder_3:0' shape=(?, 512) dtype=float32>, h=<tf.Tensor 'Placeholder_4:0' shape=(?, 512) dtype=float32>), LSTMStateTuple(c=<tf.Tensor 'Placeholder_3:0' shape=(?, 512) dtype=float32>, h=<tf.Tensor 'Placeholder_4:0' shape=(?, 512) dtype=float32>), LSTMStateTuple(c=<tf.Tensor 'Placeholder_3:0' shape=(?, 512) dtype=float32>, h=<tf.Tensor 'Placeholder_4:0' shape=(?, 512) dtype=float32>))\n",
      "dec_cell:  <tensorflow.contrib.rnn.python.ops.core_rnn_cell_impl.DropoutWrapper object at 0x7fdbe74dd470>\n",
      "dec_embeddings:  Tensor(\"Placeholder_1:0\", shape=(1000, 200), dtype=float32)\n",
      "start_of_sequence_id:  3\n",
      "end_of_sequence_id:  1\n",
      "maximum_length:  22\n",
      "vocab_size:  1000\n",
      "decoding_scope:  <tensorflow.python.ops.variable_scope.VariableScope object at 0x7fdbe74dae80>\n",
      "output_fn:  <function decoding_layer.<locals>.<lambda> at 0x7fdbe74df620>\n",
      "keep_prob:  Tensor(\"Placeholder_2:0\", dtype=float32)\n",
      "Tests Passed\n"
     ]
    }
   ],
   "source": [
    "def decoding_layer(dec_embed_input, dec_embeddings, encoder_state, vocab_size, sequence_length, rnn_size,\n",
    "                   num_layers, target_vocab_to_int, keep_prob):\n",
    "    \"\"\"\n",
    "    Create decoding layer\n",
    "    :param dec_embed_input: Decoder embedded input\n",
    "    :param dec_embeddings: Decoder embeddings\n",
    "    :param encoder_state: The encoded state\n",
    "    :param vocab_size: Size of vocabulary\n",
    "    :param sequence_length: Sequence Length\n",
    "    :param rnn_size: RNN Size\n",
    "    :param num_layers: Number of layers\n",
    "    :param target_vocab_to_int: Dictionary to go from the target words to an id\n",
    "    :param keep_prob: Dropout keep probability\n",
    "    :return: Tuple of (Training Logits, Inference Logits)\n",
    "    \"\"\"\n",
    "    print('#######decoding_layer()#######')\n",
    "    print('target_vocab_to_int: ',target_vocab_to_int)\n",
    "    print('dec_embeddings: ',dec_embeddings)\n",
    "    print('encoder_state: ',encoder_state)\n",
    "    print('vocab_size: ',vocab_size)\n",
    "    print('sequence_length: ',sequence_length)\n",
    "    print('rnn_size: ',rnn_size)\n",
    "    print('num_layers: ',num_layers)\n",
    "    print('target_vocab_to_int: ',target_vocab_to_int)\n",
    "    print('keep_prob: ',keep_prob)\n",
    "\n",
    "    # TODO: Implement Function\n",
    "    start_of_sequence_id = target_vocab_to_int['<GO>']\n",
    "    end_of_sequence_id = target_vocab_to_int['<EOS>']\n",
    "\n",
    "    # 1. Create RNN cell for decoding using rnn_size and num_layers.\n",
    "    lstm = tf.contrib.rnn.BasicLSTMCell(rnn_size)\n",
    "    cell = tf.contrib.rnn.MultiRNNCell([lstm]*num_layers)\n",
    "    cell = tf.contrib.rnn.DropoutWrapper(cell, output_keep_prob=keep_prob)\n",
    "\n",
    "    # 2. Create the output fuction using lambda to transform it's input, logits, to class logits.\n",
    "    # 3. Use the your decoding_layer_train(encoder_state, dec_cell, dec_embed_input, \n",
    "    with tf.variable_scope('decoding') as decoding_scope:\n",
    "        output_fn = lambda x: tf.contrib.layers.fully_connected(x, vocab_size, None, scope=decoding_scope)\n",
    "        train_logits = decoding_layer_train(encoder_state, cell, dec_embed_input, sequence_length,decoding_scope, \n",
    "                                          output_fn, keep_prob)\n",
    "\n",
    "    # 4. Use your decoding_layer_infer(encoder_state, dec_cell, dec_embeddings, start_of_sequence_id, \n",
    "        #end_of_sequence_id, maximum_length, vocab_size, decoding_scope, output_fn, keep_prob) function to get the inference logits.        \n",
    "    with tf.variable_scope('decoding', reuse=True) as decoding_scope:\n",
    "        infer_logits = decoding_layer_infer(encoder_state, cell, dec_embeddings, start_of_sequence_id,\n",
    "                                        end_of_sequence_id, sequence_length, vocab_size, decoding_scope,\n",
    "                                        output_fn, keep_prob)\n",
    "\n",
    "    return train_logits, infer_logits\n",
    "    \n",
    "    '''\n",
    "    start_of_sequence_id = target_vocab_to_int['<GO>']\n",
    "    end_of_sequence_id = target_vocab_to_int['<EOS>']\n",
    "    \n",
    "    ### Build the RNN layers\n",
    "    # Use a basic LSTM cell\n",
    "    lstm = tf.contrib.rnn.BasicLSTMCell(rnn_size)\n",
    "    \n",
    "    # Add dropout to the cell\n",
    "    drop = tf.contrib.rnn.DropoutWrapper(lstm, output_keep_prob=keep_prob)\n",
    "    \n",
    "    # Stack up multiple LSTM layers, for deep learning\n",
    "    dec_cell = tf.contrib.rnn.MultiRNNCell([drop] * num_layers)\n",
    "    \n",
    "    \n",
    "    \n",
    "    target_vocab_size = len(target_vocab_to_int)\n",
    "\n",
    "\n",
    "\n",
    "    with tf.variable_scope(\"decoding\") as decoding_scope:\n",
    "        # Output Layer\n",
    "        output_fn = lambda x: tf.contrib.layers.fully_connected(x, target_vocab_size, None, scope=decoding_scope)\n",
    "        Training_Logits = decoding_layer_train(encoder_state, dec_cell, dec_embed_input, sequence_length, decoding_scope,\n",
    "                                               output_fn, keep_prob)\n",
    "    \n",
    "    with tf.variable_scope(\"decoding\", reuse=True) as decoding_scope:\n",
    "        Inference_Logits = decoding_layer_infer(encoder_state, dec_cell, dec_embeddings, start_of_sequence_id, end_of_sequence_id,\n",
    "                                                sequence_length, vocab_size, decoding_scope, output_fn, keep_prob) \n",
    "    return Training_Logits, Inference_Logits\n",
    "'''\n",
    "\n",
    "\"\"\"\n",
    "DON'T MODIFY ANYTHING IN THIS CELL THAT IS BELOW THIS LINE\n",
    "\"\"\"\n",
    "tests.test_decoding_layer(decoding_layer)"
   ]
  },
  {
   "cell_type": "markdown",
   "metadata": {
    "deletable": true,
    "editable": true
   },
   "source": [
    "### Build the Neural Network\n",
    "Apply the functions you implemented above to:\n",
    "\n",
    "- Apply embedding to the input data for the encoder.\n",
    "- Encode the input using your `encoding_layer(rnn_inputs, rnn_size, num_layers, keep_prob)`.\n",
    "- Process target data using your `process_decoding_input(target_data, target_vocab_to_int, batch_size)` function.\n",
    "- Apply embedding to the target data for the decoder.\n",
    "- Decode the encoded input using your `decoding_layer(dec_embed_input, dec_embeddings, encoder_state, vocab_size, sequence_length, rnn_size, num_layers, target_vocab_to_int, keep_prob)`."
   ]
  },
  {
   "cell_type": "code",
   "execution_count": 13,
   "metadata": {
    "collapsed": false,
    "deletable": true,
    "editable": true
   },
   "outputs": [
    {
     "name": "stdout",
     "output_type": "stream",
     "text": [
      "#######decoding_layer()#######\n",
      "target_vocab_to_int:  {'<EOS>': 1, '<GO>': 3}\n",
      "dec_embeddings:  Tensor(\"Variable/read:0\", shape=(300, 80), dtype=float32)\n",
      "encoder_state:  (LSTMStateTuple(c=<tf.Tensor 'rnn/while/Exit_2:0' shape=(?, 512) dtype=float32>, h=<tf.Tensor 'rnn/while/Exit_3:0' shape=(?, 512) dtype=float32>), LSTMStateTuple(c=<tf.Tensor 'rnn/while/Exit_4:0' shape=(?, 512) dtype=float32>, h=<tf.Tensor 'rnn/while/Exit_5:0' shape=(?, 512) dtype=float32>), LSTMStateTuple(c=<tf.Tensor 'rnn/while/Exit_6:0' shape=(?, 512) dtype=float32>, h=<tf.Tensor 'rnn/while/Exit_7:0' shape=(?, 512) dtype=float32>))\n",
      "vocab_size:  300\n",
      "sequence_length:  22\n",
      "rnn_size:  512\n",
      "num_layers:  3\n",
      "target_vocab_to_int:  {'<EOS>': 1, '<GO>': 3}\n",
      "keep_prob:  Tensor(\"Placeholder_2:0\", dtype=float32)\n",
      "#######decoding_layer_infer()#######\n",
      "encoder_state:  (LSTMStateTuple(c=<tf.Tensor 'rnn/while/Exit_2:0' shape=(?, 512) dtype=float32>, h=<tf.Tensor 'rnn/while/Exit_3:0' shape=(?, 512) dtype=float32>), LSTMStateTuple(c=<tf.Tensor 'rnn/while/Exit_4:0' shape=(?, 512) dtype=float32>, h=<tf.Tensor 'rnn/while/Exit_5:0' shape=(?, 512) dtype=float32>), LSTMStateTuple(c=<tf.Tensor 'rnn/while/Exit_6:0' shape=(?, 512) dtype=float32>, h=<tf.Tensor 'rnn/while/Exit_7:0' shape=(?, 512) dtype=float32>))\n",
      "dec_cell:  <tensorflow.contrib.rnn.python.ops.core_rnn_cell_impl.DropoutWrapper object at 0x7fdbe775d978>\n",
      "dec_embeddings:  Tensor(\"Variable/read:0\", shape=(300, 80), dtype=float32)\n",
      "start_of_sequence_id:  3\n",
      "end_of_sequence_id:  1\n",
      "maximum_length:  22\n",
      "vocab_size:  300\n",
      "decoding_scope:  <tensorflow.python.ops.variable_scope.VariableScope object at 0x7fdbe775de80>\n",
      "output_fn:  <function decoding_layer.<locals>.<lambda> at 0x7fdbe72b5ae8>\n",
      "keep_prob:  Tensor(\"Placeholder_2:0\", dtype=float32)\n",
      "Tests Passed\n"
     ]
    }
   ],
   "source": [
    "def seq2seq_model(input_data, target_data, keep_prob, batch_size, sequence_length, source_vocab_size, target_vocab_size,\n",
    "                  enc_embedding_size, dec_embedding_size, rnn_size, num_layers, target_vocab_to_int):\n",
    "    \"\"\"\n",
    "    Build the Sequence-to-Sequence part of the neural network\n",
    "    :param input_data: Input placeholder\n",
    "    :param target_data: Target placeholder\n",
    "    :param keep_prob: Dropout keep probability placeholder\n",
    "    :param batch_size: Batch Size\n",
    "    :param sequence_length: Sequence Length\n",
    "    :param source_vocab_size: Source vocabulary size\n",
    "    :param target_vocab_size: Target vocabulary size\n",
    "    :param enc_embedding_size: Decoder embedding size\n",
    "    :param dec_embedding_size: Encoder embedding size\n",
    "    :param rnn_size: RNN Size\n",
    "    :param num_layers: Number of layers\n",
    "    :param target_vocab_to_int: Dictionary to go from the target words to an id\n",
    "    :return: Tuple of (Training Logits, Inference Logits)\n",
    "    \"\"\"\n",
    "    # Encoder embedding\n",
    "    enc_embed_input = tf.contrib.layers.embed_sequence(input_data, source_vocab_size, enc_embedding_size)\n",
    "    encoder_state = encoding_layer(enc_embed_input, rnn_size, num_layers, keep_prob)\n",
    "    # Decoder embedding\n",
    "    dec_input = process_decoding_input(target_data, target_vocab_to_int, batch_size)\n",
    "    dec_embeddings = tf.Variable(tf.random_uniform([target_vocab_size, dec_embedding_size]))\n",
    "    dec_embed_input = tf.contrib.layers.embed_sequence(dec_input, target_vocab_size, dec_embedding_size)\n",
    "\n",
    "    # Decoding layer\n",
    "    train, infer = decoding_layer(dec_embed_input, dec_embeddings, encoder_state, target_vocab_size, sequence_length, rnn_size,\n",
    "                                  num_layers, target_vocab_to_int, keep_prob)\n",
    "\n",
    "    return (train, infer)\n",
    "\n",
    "\n",
    "\"\"\"\n",
    "DON'T MODIFY ANYTHING IN THIS CELL THAT IS BELOW THIS LINE\n",
    "\"\"\"\n",
    "tests.test_seq2seq_model(seq2seq_model)"
   ]
  },
  {
   "cell_type": "markdown",
   "metadata": {
    "deletable": true,
    "editable": true
   },
   "source": [
    "## Neural Network Training\n",
    "### Hyperparameters\n",
    "Tune the following parameters:\n",
    "\n",
    "- Set `epochs` to the number of epochs.\n",
    "- Set `batch_size` to the batch size.\n",
    "- Set `rnn_size` to the size of the RNNs.\n",
    "- Set `num_layers` to the number of layers.\n",
    "- Set `encoding_embedding_size` to the size of the embedding for the encoder.\n",
    "- Set `decoding_embedding_size` to the size of the embedding for the decoder.\n",
    "- Set `learning_rate` to the learning rate.\n",
    "- Set `keep_probability` to the Dropout keep probability"
   ]
  },
  {
   "cell_type": "code",
   "execution_count": 14,
   "metadata": {
    "collapsed": true,
    "deletable": true,
    "editable": true
   },
   "outputs": [],
   "source": [
    "# Number of Epochs\n",
    "epochs = 3\n",
    "# Batch Size\n",
    "batch_size = 512\n",
    "# RNN Size\n",
    "rnn_size = 5\n",
    "# Number of Layers\n",
    "num_layers = 3\n",
    "# Embedding Size\n",
    "encoding_embedding_size = 20\n",
    "decoding_embedding_size = 20\n",
    "# Learning Rate\n",
    "learning_rate = 0.001\n",
    "# Dropout Keep Probability\n",
    "keep_probability = 0.5"
   ]
  },
  {
   "cell_type": "markdown",
   "metadata": {
    "deletable": true,
    "editable": true
   },
   "source": [
    "### Build the Graph\n",
    "Build the graph using the neural network you implemented."
   ]
  },
  {
   "cell_type": "code",
   "execution_count": 15,
   "metadata": {
    "collapsed": false,
    "deletable": true,
    "editable": true
   },
   "outputs": [
    {
     "name": "stdout",
     "output_type": "stream",
     "text": [
      "#######decoding_layer()#######\n",
      "target_vocab_to_int:  {'êtes-vous': 4, 'etats-unis': 170, 'pluie': 5, 'allez': 6, 'raisin': 172, 'été': 173, 'éléphant': 8, 'voiture': 9, \"c'est\": 10, 'gel': 175, 'que': 176, 'pleut': 11, 'aime': 167, '<EOS>': 1, 'oranges': 12, \"l'école\": 13, 'beau': 143, 'lions': 14, 'belle': 177, '<UNK>': 2, 'pourraient': 15, 'à': 178, 'comment': 16, 'animaux': 7, 'généralement': 179, 'fruits': 181, 'chaude': 182, 'citron': 124, 'chiens': 183, 'mouillé': 17, 'des': 18, \"j'aime\": 185, 'fraise': 19, 'france': 20, 'pourquoi': 201, 'sèche': 187, 'aux': 297, 'amusant': 23, 'monde': 24, 'février': 25, 'petit': 26, 'est-ce': 189, 'rouille': 174, 'pourrait': 27, 'pamplemousses': 191, 'nouveau': 192, 'pensez': 28, 'rouge': 29, 'juillet': 31, 'aimeraient': 32, 'paris': 240, 'verts': 33, 'difficile': 34, 'allions': 193, 'mois': 35, 'occupé': 194, ',': 36, 'gèle': 37, \"n'est\": 195, 'requin': 38, 'avril': 39, 'grosses': 40, 'doux': 197, 'redouté': 198, 'anglais': 199, 'fait': 41, 'préférés': 42, 'as-tu': 43, 'clémentes': 202, 'de': 44, 'voulez': 203, 'détestait': 204, 'cet': 205, 'bien': 144, 'ses': 45, 'enneigée': 46, 'pommes': 302, 'pêches': 206, 'qui': 47, 'portugais': 207, '-ils': 208, 'voulaient': 171, 'california': 209, 'ont': 210, 'citrons': 48, 'allé': 304, \"l'animal\": 211, 'lion': 212, 'vit': 196, 'grandes': 51, 'animal': 52, 'parfois': 54, 'leur': 55, 'temps': 242, 'préférée': 216, 'porcelaine': 56, 'légère': 161, 'mars': 57, 'août': 217, 'gelé': 75, 'trop': 58, 'rouillée': 218, 'pousse': 219, 'moins': 60, 'new': 110, 'jaune': 220, 'au': 62, 'traduire': 63, 'maillot': 64, 'aimez': 223, 'chat': 225, 'intention': 65, \"d'\": 226, 'ne': 227, 'aimé': 66, '-': 104, 'pomme': 228, 'calme': 68, 'lapin': 231, 'sur': 232, 'sont': 233, 'conduisait': 234, 'souris': 235, 'avons': 236, 'prévoyons': 70, 'enneigé': 71, 'vieille': 72, 'plaît': 237, 'nous': 279, '-elle': 238, 'ce': 239, 'tout': 73, 'mon': 241, 'mai': 74, 'pluvieux': 243, 'tranquille': 76, 'il': 281, 'jamais': 244, 'gros': 152, 'lac': 245, 'raisins': 77, 'gelés': 78, 'banane': 200, 'football': 79, 'étaient': 246, 'fraises': 80, 'la': 247, 'blanc': 82, 'californie': 83, 'noir': 248, 'janvier': 84, 'vont': 249, 'allons': 180, 'congélation': 252, 'dernière': 251, 'peu': 85, 'mangue': 86, 'pendant': 254, '-ce': 87, 'neigeux': 153, 'pamplemousse': 255, 'mangues': 256, 'chinois': 81, 'en': 257, 'camion': 88, 'facile': 89, 'pense': 213, '<GO>': 3, 'conduit': 259, 'voulait': 260, 'relaxant': 90, 'brillante': 91, \"qu'elle\": 93, 'habituellement': 261, 'envisage': 94, 'leurs': 262, 'elle': 95, 'rendre': 96, 'rouillé': 264, 'prévois': 97, 'bénigne': 98, 'bleue': 50, 'cépage': 265, 'une': 266, 'neige': 99, 'aimait': 214, 'chaux': 267, 'grosse': 100, 'vais': 268, 'favoris': 269, 'allés': 101, 'frisquet': 270, \"l'automobile\": 271, 'verte': 272, 'était': 102, \"l'\": 103, 'occupée': 273, 'petite': 274, 'voudrait': 275, 'visite': 105, 'quand': 276, 'dernier': 277, 'vert': 278, \"l'épicerie\": 280, 'entre': 282, 'va': 106, 'humide': 107, 'lui': 108, 'déteste': 283, 'préféré.': 109, 'envisagent': 284, 'proches': 285, '<PAD>': 0, 'chaud': 286, 'détestons': 111, 'vos': 287, 'prochain': 288, 'oiseau': 22, '?': 186, 'chien': 250, 'grande': 290, 'petits': 291, 'tour': 112, 'décembre': 292, 'plus': 316, 'vers': 184, 'douce': 113, 'prévoient': 114, 'i': 115, 'sec': 293, 'nouvelle': 253, 'ours': 294, 'votre': 295, 'pêche': 117, 'détendre': 118, 'mes': 296, 'printemps': 289, 'limes': 119, 'mais': 49, \"l'ours\": 298, 'bleu': 135, 'fruit': 120, 'volant': 299, 'automobile': 121, 'avez': 122, 'aimons': 300, 'veulent': 123, 'jersey': 59, 'poire': 125, 'magnifique': 303, 'du': 126, 'octobre': 190, 'français': 305, 'froid': 127, 'son': 349, 'a': 128, 'singe': 61, 'moindres': 129, 'et': 130, 'notre': 131, 'vieux': 306, 'inde': 307, 'petites': 308, \"n'a\": 222, \"qu'il\": 309, 'grand': 310, 't': 311, 'trouvé': 132, 'novembre': 312, 'détestez': 133, 'eiffel': 313, 'où': 224, 'at': 314, 'serpents': 30, 'oiseaux': 315, 'visiter': 215, 'cette': 317, \"n'aimons\": 188, 'ils': 134, 'agréable': 318, 'conduite': 136, 'poires': 319, 'allée': 320, 'apprécié': 137, 'cours': 321, 'dans': 138, 'un': 258, 'vous': 140, 'est': 139, '.': 322, 'favori': 141, 'prévoit': 323, 'redoutée': 324, 'aiment-ils': 325, 'septembre': 326, 'aimé.': 327, 'singes': 145, 'préféré': 146, 'hiver': 163, 'requins': 328, 'souvent': 147, 'es-tu': 329, '-il': 330, 'le': 148, \"n'aimait\": 149, \"n'êtes\": 150, 'moteur': 331, 'aiment': 332, 'noire': 333, 'serpent': 334, 'aller': 92, 'redoutés': 335, 'frais': 21, 'ressort': 336, 'grands': 151, \"l'éléphant\": 116, 'traduis': 53, 'juin': 67, \"l'oiseau\": 337, 'cheval': 338, 'automne': 339, 'se': 154, 'mouillée': 340, 'pluies': 229, 'terrain': 341, 'merveilleux': 342, \"n'aime\": 230, 'durant': 343, 'espagnol': 344, 'blanche': 155, 'manguiers': 345, \"l'automne\": 165, 'brillant': 156, 'pas': 346, 'nos': 347, 'chats': 348, 'bananes': 157, 'lapins': 69, 'chevaux': 158, 'traduction': 142, 'états-unis': 263, 'comme': 350, 'veut': 301, 'cher': 351, 'les': 159, 'aimée': 160, \"l'orange\": 162, \"n'aimez\": 164, 'faire': 352, 'éléphants': 353, 'aimés': 354, 'glaciales': 355, 'préférées': 166, \"n'aiment\": 356, 'détend': 168, 'vu': 169, 'chine': 221, 'je': 357}\n",
      "dec_embeddings:  Tensor(\"Variable/read:0\", shape=(358, 20), dtype=float32)\n",
      "encoder_state:  (LSTMStateTuple(c=<tf.Tensor 'rnn/while/Exit_2:0' shape=(?, 5) dtype=float32>, h=<tf.Tensor 'rnn/while/Exit_3:0' shape=(?, 5) dtype=float32>), LSTMStateTuple(c=<tf.Tensor 'rnn/while/Exit_4:0' shape=(?, 5) dtype=float32>, h=<tf.Tensor 'rnn/while/Exit_5:0' shape=(?, 5) dtype=float32>), LSTMStateTuple(c=<tf.Tensor 'rnn/while/Exit_6:0' shape=(?, 5) dtype=float32>, h=<tf.Tensor 'rnn/while/Exit_7:0' shape=(?, 5) dtype=float32>))\n",
      "vocab_size:  358\n",
      "sequence_length:  Tensor(\"sequence_length:0\", dtype=int32)\n",
      "rnn_size:  5\n",
      "num_layers:  3\n",
      "target_vocab_to_int:  {'êtes-vous': 4, 'etats-unis': 170, 'pluie': 5, 'allez': 6, 'raisin': 172, 'été': 173, 'éléphant': 8, 'voiture': 9, \"c'est\": 10, 'gel': 175, 'que': 176, 'pleut': 11, 'aime': 167, '<EOS>': 1, 'oranges': 12, \"l'école\": 13, 'beau': 143, 'lions': 14, 'belle': 177, '<UNK>': 2, 'pourraient': 15, 'à': 178, 'comment': 16, 'animaux': 7, 'généralement': 179, 'fruits': 181, 'chaude': 182, 'citron': 124, 'chiens': 183, 'mouillé': 17, 'des': 18, \"j'aime\": 185, 'fraise': 19, 'france': 20, 'pourquoi': 201, 'sèche': 187, 'aux': 297, 'amusant': 23, 'monde': 24, 'février': 25, 'petit': 26, 'est-ce': 189, 'rouille': 174, 'pourrait': 27, 'pamplemousses': 191, 'nouveau': 192, 'pensez': 28, 'rouge': 29, 'juillet': 31, 'aimeraient': 32, 'paris': 240, 'verts': 33, 'difficile': 34, 'allions': 193, 'mois': 35, 'occupé': 194, ',': 36, 'gèle': 37, \"n'est\": 195, 'requin': 38, 'avril': 39, 'grosses': 40, 'doux': 197, 'redouté': 198, 'anglais': 199, 'fait': 41, 'préférés': 42, 'as-tu': 43, 'clémentes': 202, 'de': 44, 'voulez': 203, 'détestait': 204, 'cet': 205, 'bien': 144, 'ses': 45, 'enneigée': 46, 'pommes': 302, 'pêches': 206, 'qui': 47, 'portugais': 207, '-ils': 208, 'voulaient': 171, 'california': 209, 'ont': 210, 'citrons': 48, 'allé': 304, \"l'animal\": 211, 'lion': 212, 'vit': 196, 'grandes': 51, 'animal': 52, 'parfois': 54, 'leur': 55, 'temps': 242, 'préférée': 216, 'porcelaine': 56, 'légère': 161, 'mars': 57, 'août': 217, 'gelé': 75, 'trop': 58, 'rouillée': 218, 'pousse': 219, 'moins': 60, 'new': 110, 'jaune': 220, 'au': 62, 'traduire': 63, 'maillot': 64, 'aimez': 223, 'chat': 225, 'intention': 65, \"d'\": 226, 'ne': 227, 'aimé': 66, '-': 104, 'pomme': 228, 'calme': 68, 'lapin': 231, 'sur': 232, 'sont': 233, 'conduisait': 234, 'souris': 235, 'avons': 236, 'prévoyons': 70, 'enneigé': 71, 'vieille': 72, 'plaît': 237, 'nous': 279, '-elle': 238, 'ce': 239, 'tout': 73, 'mon': 241, 'mai': 74, 'pluvieux': 243, 'tranquille': 76, 'il': 281, 'jamais': 244, 'gros': 152, 'lac': 245, 'raisins': 77, 'gelés': 78, 'banane': 200, 'football': 79, 'étaient': 246, 'fraises': 80, 'la': 247, 'blanc': 82, 'californie': 83, 'noir': 248, 'janvier': 84, 'vont': 249, 'allons': 180, 'congélation': 252, 'dernière': 251, 'peu': 85, 'mangue': 86, 'pendant': 254, '-ce': 87, 'neigeux': 153, 'pamplemousse': 255, 'mangues': 256, 'chinois': 81, 'en': 257, 'camion': 88, 'facile': 89, 'pense': 213, '<GO>': 3, 'conduit': 259, 'voulait': 260, 'relaxant': 90, 'brillante': 91, \"qu'elle\": 93, 'habituellement': 261, 'envisage': 94, 'leurs': 262, 'elle': 95, 'rendre': 96, 'rouillé': 264, 'prévois': 97, 'bénigne': 98, 'bleue': 50, 'cépage': 265, 'une': 266, 'neige': 99, 'aimait': 214, 'chaux': 267, 'grosse': 100, 'vais': 268, 'favoris': 269, 'allés': 101, 'frisquet': 270, \"l'automobile\": 271, 'verte': 272, 'était': 102, \"l'\": 103, 'occupée': 273, 'petite': 274, 'voudrait': 275, 'visite': 105, 'quand': 276, 'dernier': 277, 'vert': 278, \"l'épicerie\": 280, 'entre': 282, 'va': 106, 'humide': 107, 'lui': 108, 'déteste': 283, 'préféré.': 109, 'envisagent': 284, 'proches': 285, '<PAD>': 0, 'chaud': 286, 'détestons': 111, 'vos': 287, 'prochain': 288, 'oiseau': 22, '?': 186, 'chien': 250, 'grande': 290, 'petits': 291, 'tour': 112, 'décembre': 292, 'plus': 316, 'vers': 184, 'douce': 113, 'prévoient': 114, 'i': 115, 'sec': 293, 'nouvelle': 253, 'ours': 294, 'votre': 295, 'pêche': 117, 'détendre': 118, 'mes': 296, 'printemps': 289, 'limes': 119, 'mais': 49, \"l'ours\": 298, 'bleu': 135, 'fruit': 120, 'volant': 299, 'automobile': 121, 'avez': 122, 'aimons': 300, 'veulent': 123, 'jersey': 59, 'poire': 125, 'magnifique': 303, 'du': 126, 'octobre': 190, 'français': 305, 'froid': 127, 'son': 349, 'a': 128, 'singe': 61, 'moindres': 129, 'et': 130, 'notre': 131, 'vieux': 306, 'inde': 307, 'petites': 308, \"n'a\": 222, \"qu'il\": 309, 'grand': 310, 't': 311, 'trouvé': 132, 'novembre': 312, 'détestez': 133, 'eiffel': 313, 'où': 224, 'at': 314, 'serpents': 30, 'oiseaux': 315, 'visiter': 215, 'cette': 317, \"n'aimons\": 188, 'ils': 134, 'agréable': 318, 'conduite': 136, 'poires': 319, 'allée': 320, 'apprécié': 137, 'cours': 321, 'dans': 138, 'un': 258, 'vous': 140, 'est': 139, '.': 322, 'favori': 141, 'prévoit': 323, 'redoutée': 324, 'aiment-ils': 325, 'septembre': 326, 'aimé.': 327, 'singes': 145, 'préféré': 146, 'hiver': 163, 'requins': 328, 'souvent': 147, 'es-tu': 329, '-il': 330, 'le': 148, \"n'aimait\": 149, \"n'êtes\": 150, 'moteur': 331, 'aiment': 332, 'noire': 333, 'serpent': 334, 'aller': 92, 'redoutés': 335, 'frais': 21, 'ressort': 336, 'grands': 151, \"l'éléphant\": 116, 'traduis': 53, 'juin': 67, \"l'oiseau\": 337, 'cheval': 338, 'automne': 339, 'se': 154, 'mouillée': 340, 'pluies': 229, 'terrain': 341, 'merveilleux': 342, \"n'aime\": 230, 'durant': 343, 'espagnol': 344, 'blanche': 155, 'manguiers': 345, \"l'automne\": 165, 'brillant': 156, 'pas': 346, 'nos': 347, 'chats': 348, 'bananes': 157, 'lapins': 69, 'chevaux': 158, 'traduction': 142, 'états-unis': 263, 'comme': 350, 'veut': 301, 'cher': 351, 'les': 159, 'aimée': 160, \"l'orange\": 162, \"n'aimez\": 164, 'faire': 352, 'éléphants': 353, 'aimés': 354, 'glaciales': 355, 'préférées': 166, \"n'aiment\": 356, 'détend': 168, 'vu': 169, 'chine': 221, 'je': 357}\n",
      "keep_prob:  Tensor(\"keep_prob:0\", shape=(), dtype=float32)\n",
      "#######decoding_layer_infer()#######\n",
      "encoder_state:  (LSTMStateTuple(c=<tf.Tensor 'rnn/while/Exit_2:0' shape=(?, 5) dtype=float32>, h=<tf.Tensor 'rnn/while/Exit_3:0' shape=(?, 5) dtype=float32>), LSTMStateTuple(c=<tf.Tensor 'rnn/while/Exit_4:0' shape=(?, 5) dtype=float32>, h=<tf.Tensor 'rnn/while/Exit_5:0' shape=(?, 5) dtype=float32>), LSTMStateTuple(c=<tf.Tensor 'rnn/while/Exit_6:0' shape=(?, 5) dtype=float32>, h=<tf.Tensor 'rnn/while/Exit_7:0' shape=(?, 5) dtype=float32>))\n",
      "dec_cell:  <tensorflow.contrib.rnn.python.ops.core_rnn_cell_impl.DropoutWrapper object at 0x7fdc55290eb8>\n",
      "dec_embeddings:  Tensor(\"Variable/read:0\", shape=(358, 20), dtype=float32)\n",
      "start_of_sequence_id:  3\n",
      "end_of_sequence_id:  1\n",
      "maximum_length:  Tensor(\"sequence_length:0\", dtype=int32)\n",
      "vocab_size:  358\n",
      "decoding_scope:  <tensorflow.python.ops.variable_scope.VariableScope object at 0x7fdbe70bd5c0>\n",
      "output_fn:  <function decoding_layer.<locals>.<lambda> at 0x7fdbe7162730>\n",
      "keep_prob:  Tensor(\"keep_prob:0\", shape=(), dtype=float32)\n"
     ]
    }
   ],
   "source": [
    "\"\"\"\n",
    "DON'T MODIFY ANYTHING IN THIS CELL\n",
    "\"\"\"\n",
    "save_path = 'checkpoints/dev'\n",
    "(source_int_text, target_int_text), (source_vocab_to_int, target_vocab_to_int), _ = helper.load_preprocess()\n",
    "max_source_sentence_length = max([len(sentence) for sentence in source_int_text])\n",
    "\n",
    "train_graph = tf.Graph()\n",
    "with train_graph.as_default():\n",
    "    input_data, targets, lr, keep_prob = model_inputs()\n",
    "    sequence_length = tf.placeholder_with_default(max_source_sentence_length, None, name='sequence_length')\n",
    "    input_shape = tf.shape(input_data)\n",
    "    \n",
    "    train_logits, inference_logits = seq2seq_model(\n",
    "        tf.reverse(input_data, [-1]), targets, keep_prob, batch_size, sequence_length, len(source_vocab_to_int), len(target_vocab_to_int),\n",
    "        encoding_embedding_size, decoding_embedding_size, rnn_size, num_layers, target_vocab_to_int)\n",
    "\n",
    "    tf.identity(inference_logits, 'logits')\n",
    "    with tf.name_scope(\"optimization\"):\n",
    "        # Loss function\n",
    "        cost = tf.contrib.seq2seq.sequence_loss(\n",
    "            train_logits,\n",
    "            targets,\n",
    "            tf.ones([input_shape[0], sequence_length]))\n",
    "\n",
    "        # Optimizer\n",
    "        optimizer = tf.train.AdamOptimizer(lr)\n",
    "\n",
    "        # Gradient Clipping\n",
    "        gradients = optimizer.compute_gradients(cost)\n",
    "        capped_gradients = [(tf.clip_by_value(grad, -1., 1.), var) for grad, var in gradients if grad is not None]\n",
    "        train_op = optimizer.apply_gradients(capped_gradients)"
   ]
  },
  {
   "cell_type": "markdown",
   "metadata": {
    "deletable": true,
    "editable": true
   },
   "source": [
    "### Train\n",
    "Train the neural network on the preprocessed data. If you have a hard time getting a good loss, check the forms to see if anyone is having the same problem."
   ]
  },
  {
   "cell_type": "code",
   "execution_count": 16,
   "metadata": {
    "collapsed": false,
    "deletable": true,
    "editable": true,
    "scrolled": true
   },
   "outputs": [
    {
     "name": "stdout",
     "output_type": "stream",
     "text": [
      "Epoch   0 Batch    0/269 - Train Accuracy:  0.144, Validation Accuracy:  0.222, Loss:  5.881\n",
      "Epoch   0 Batch    1/269 - Train Accuracy:  0.141, Validation Accuracy:  0.222, Loss:  5.881\n",
      "Epoch   0 Batch    2/269 - Train Accuracy:  0.183, Validation Accuracy:  0.222, Loss:  5.881\n",
      "Epoch   0 Batch    3/269 - Train Accuracy:  0.142, Validation Accuracy:  0.222, Loss:  5.881\n",
      "Epoch   0 Batch    4/269 - Train Accuracy:  0.143, Validation Accuracy:  0.222, Loss:  5.881\n",
      "Epoch   0 Batch    5/269 - Train Accuracy:  0.142, Validation Accuracy:  0.222, Loss:  5.881\n",
      "Epoch   0 Batch    6/269 - Train Accuracy:  0.183, Validation Accuracy:  0.222, Loss:  5.881\n",
      "Epoch   0 Batch    7/269 - Train Accuracy:  0.184, Validation Accuracy:  0.222, Loss:  5.881\n",
      "Epoch   0 Batch    8/269 - Train Accuracy:  0.144, Validation Accuracy:  0.222, Loss:  5.881\n",
      "Epoch   0 Batch    9/269 - Train Accuracy:  0.184, Validation Accuracy:  0.222, Loss:  5.881\n",
      "Epoch   0 Batch   10/269 - Train Accuracy:  0.145, Validation Accuracy:  0.222, Loss:  5.881\n",
      "Epoch   0 Batch   11/269 - Train Accuracy:  0.182, Validation Accuracy:  0.222, Loss:  5.881\n",
      "Epoch   0 Batch   12/269 - Train Accuracy:  0.144, Validation Accuracy:  0.222, Loss:  5.881\n",
      "Epoch   0 Batch   13/269 - Train Accuracy:  0.219, Validation Accuracy:  0.222, Loss:  5.881\n",
      "Epoch   0 Batch   14/269 - Train Accuracy:  0.185, Validation Accuracy:  0.222, Loss:  5.881\n",
      "Epoch   0 Batch   15/269 - Train Accuracy:  0.183, Validation Accuracy:  0.222, Loss:  5.881\n",
      "Epoch   0 Batch   16/269 - Train Accuracy:  0.184, Validation Accuracy:  0.222, Loss:  5.881\n",
      "Epoch   0 Batch   17/269 - Train Accuracy:  0.182, Validation Accuracy:  0.222, Loss:  5.881\n",
      "Epoch   0 Batch   18/269 - Train Accuracy:  0.144, Validation Accuracy:  0.222, Loss:  5.881\n",
      "Epoch   0 Batch   19/269 - Train Accuracy:  0.223, Validation Accuracy:  0.222, Loss:  5.881\n",
      "Epoch   0 Batch   20/269 - Train Accuracy:  0.145, Validation Accuracy:  0.222, Loss:  5.881\n",
      "Epoch   0 Batch   21/269 - Train Accuracy:  0.145, Validation Accuracy:  0.222, Loss:  5.881\n",
      "Epoch   0 Batch   22/269 - Train Accuracy:  0.184, Validation Accuracy:  0.222, Loss:  5.881\n",
      "Epoch   0 Batch   23/269 - Train Accuracy:  0.182, Validation Accuracy:  0.222, Loss:  5.881\n",
      "Epoch   0 Batch   24/269 - Train Accuracy:  0.142, Validation Accuracy:  0.222, Loss:  5.881\n",
      "Epoch   0 Batch   25/269 - Train Accuracy:  0.143, Validation Accuracy:  0.222, Loss:  5.881\n",
      "Epoch   0 Batch   26/269 - Train Accuracy:  0.221, Validation Accuracy:  0.222, Loss:  5.881\n",
      "Epoch   0 Batch   27/269 - Train Accuracy:  0.182, Validation Accuracy:  0.222, Loss:  5.881\n",
      "Epoch   0 Batch   28/269 - Train Accuracy:  0.141, Validation Accuracy:  0.222, Loss:  5.881\n",
      "Epoch   0 Batch   29/269 - Train Accuracy:  0.143, Validation Accuracy:  0.222, Loss:  5.881\n",
      "Epoch   0 Batch   30/269 - Train Accuracy:  0.182, Validation Accuracy:  0.222, Loss:  5.881\n",
      "Epoch   0 Batch   31/269 - Train Accuracy:  0.183, Validation Accuracy:  0.222, Loss:  5.881\n",
      "Epoch   0 Batch   32/269 - Train Accuracy:  0.180, Validation Accuracy:  0.222, Loss:  5.881\n",
      "Epoch   0 Batch   33/269 - Train Accuracy:  0.184, Validation Accuracy:  0.222, Loss:  5.881\n",
      "Epoch   0 Batch   34/269 - Train Accuracy:  0.182, Validation Accuracy:  0.222, Loss:  5.881\n",
      "Epoch   0 Batch   35/269 - Train Accuracy:  0.185, Validation Accuracy:  0.222, Loss:  5.881\n",
      "Epoch   0 Batch   36/269 - Train Accuracy:  0.184, Validation Accuracy:  0.222, Loss:  5.881\n",
      "Epoch   0 Batch   37/269 - Train Accuracy:  0.186, Validation Accuracy:  0.222, Loss:  5.881\n",
      "Epoch   0 Batch   38/269 - Train Accuracy:  0.183, Validation Accuracy:  0.222, Loss:  5.881\n",
      "Epoch   0 Batch   39/269 - Train Accuracy:  0.184, Validation Accuracy:  0.222, Loss:  5.881\n",
      "Epoch   0 Batch   40/269 - Train Accuracy:  0.144, Validation Accuracy:  0.222, Loss:  5.881\n",
      "Epoch   0 Batch   41/269 - Train Accuracy:  0.182, Validation Accuracy:  0.222, Loss:  5.881\n",
      "Epoch   0 Batch   42/269 - Train Accuracy:  0.220, Validation Accuracy:  0.222, Loss:  5.881\n",
      "Epoch   0 Batch   43/269 - Train Accuracy:  0.144, Validation Accuracy:  0.222, Loss:  5.881\n",
      "Epoch   0 Batch   44/269 - Train Accuracy:  0.183, Validation Accuracy:  0.222, Loss:  5.881\n",
      "Epoch   0 Batch   45/269 - Train Accuracy:  0.142, Validation Accuracy:  0.222, Loss:  5.881\n",
      "Epoch   0 Batch   46/269 - Train Accuracy:  0.143, Validation Accuracy:  0.222, Loss:  5.881\n",
      "Epoch   0 Batch   47/269 - Train Accuracy:  0.222, Validation Accuracy:  0.222, Loss:  5.881\n",
      "Epoch   0 Batch   48/269 - Train Accuracy:  0.183, Validation Accuracy:  0.222, Loss:  5.881\n",
      "Epoch   0 Batch   49/269 - Train Accuracy:  0.141, Validation Accuracy:  0.222, Loss:  5.881\n",
      "Epoch   0 Batch   50/269 - Train Accuracy:  0.142, Validation Accuracy:  0.222, Loss:  5.881\n",
      "Epoch   0 Batch   51/269 - Train Accuracy:  0.182, Validation Accuracy:  0.222, Loss:  5.881\n",
      "Epoch   0 Batch   52/269 - Train Accuracy:  0.183, Validation Accuracy:  0.222, Loss:  5.881\n",
      "Epoch   0 Batch   53/269 - Train Accuracy:  0.143, Validation Accuracy:  0.222, Loss:  5.881\n",
      "Epoch   0 Batch   54/269 - Train Accuracy:  0.145, Validation Accuracy:  0.222, Loss:  5.881\n",
      "Epoch   0 Batch   55/269 - Train Accuracy:  0.183, Validation Accuracy:  0.222, Loss:  5.881\n",
      "Epoch   0 Batch   56/269 - Train Accuracy:  0.182, Validation Accuracy:  0.222, Loss:  5.881\n",
      "Epoch   0 Batch   57/269 - Train Accuracy:  0.185, Validation Accuracy:  0.222, Loss:  5.881\n",
      "Epoch   0 Batch   58/269 - Train Accuracy:  0.183, Validation Accuracy:  0.222, Loss:  5.881\n",
      "Epoch   0 Batch   59/269 - Train Accuracy:  0.182, Validation Accuracy:  0.222, Loss:  5.881\n",
      "Epoch   0 Batch   60/269 - Train Accuracy:  0.219, Validation Accuracy:  0.222, Loss:  5.881\n",
      "Epoch   0 Batch   61/269 - Train Accuracy:  0.221, Validation Accuracy:  0.222, Loss:  5.881\n",
      "Epoch   0 Batch   62/269 - Train Accuracy:  0.219, Validation Accuracy:  0.222, Loss:  5.881\n",
      "Epoch   0 Batch   63/269 - Train Accuracy:  0.183, Validation Accuracy:  0.222, Loss:  5.881\n",
      "Epoch   0 Batch   64/269 - Train Accuracy:  0.181, Validation Accuracy:  0.222, Loss:  5.881\n",
      "Epoch   0 Batch   65/269 - Train Accuracy:  0.185, Validation Accuracy:  0.222, Loss:  5.881\n",
      "Epoch   0 Batch   66/269 - Train Accuracy:  0.219, Validation Accuracy:  0.222, Loss:  5.881\n",
      "Epoch   0 Batch   67/269 - Train Accuracy:  0.182, Validation Accuracy:  0.222, Loss:  5.881\n",
      "Epoch   0 Batch   68/269 - Train Accuracy:  0.180, Validation Accuracy:  0.222, Loss:  5.881\n",
      "Epoch   0 Batch   69/269 - Train Accuracy:  0.143, Validation Accuracy:  0.222, Loss:  5.881\n",
      "Epoch   0 Batch   70/269 - Train Accuracy:  0.183, Validation Accuracy:  0.222, Loss:  5.881\n",
      "Epoch   0 Batch   71/269 - Train Accuracy:  0.144, Validation Accuracy:  0.222, Loss:  5.881\n",
      "Epoch   0 Batch   72/269 - Train Accuracy:  0.217, Validation Accuracy:  0.222, Loss:  5.881\n",
      "Epoch   0 Batch   73/269 - Train Accuracy:  0.183, Validation Accuracy:  0.222, Loss:  5.881\n",
      "Epoch   0 Batch   74/269 - Train Accuracy:  0.144, Validation Accuracy:  0.222, Loss:  5.881\n",
      "Epoch   0 Batch   75/269 - Train Accuracy:  0.181, Validation Accuracy:  0.222, Loss:  5.881\n",
      "Epoch   0 Batch   76/269 - Train Accuracy:  0.182, Validation Accuracy:  0.222, Loss:  5.881\n",
      "Epoch   0 Batch   77/269 - Train Accuracy:  0.185, Validation Accuracy:  0.222, Loss:  5.881\n",
      "Epoch   0 Batch   78/269 - Train Accuracy:  0.181, Validation Accuracy:  0.222, Loss:  5.881\n",
      "Epoch   0 Batch   79/269 - Train Accuracy:  0.181, Validation Accuracy:  0.222, Loss:  5.881\n",
      "Epoch   0 Batch   80/269 - Train Accuracy:  0.186, Validation Accuracy:  0.222, Loss:  5.881\n",
      "Epoch   0 Batch   81/269 - Train Accuracy:  0.183, Validation Accuracy:  0.222, Loss:  5.881\n",
      "Epoch   0 Batch   82/269 - Train Accuracy:  0.186, Validation Accuracy:  0.222, Loss:  5.881\n",
      "Epoch   0 Batch   83/269 - Train Accuracy:  0.185, Validation Accuracy:  0.222, Loss:  5.881\n",
      "Epoch   0 Batch   84/269 - Train Accuracy:  0.184, Validation Accuracy:  0.222, Loss:  5.881\n",
      "Epoch   0 Batch   85/269 - Train Accuracy:  0.184, Validation Accuracy:  0.222, Loss:  5.881\n",
      "Epoch   0 Batch   86/269 - Train Accuracy:  0.183, Validation Accuracy:  0.222, Loss:  5.881\n",
      "Epoch   0 Batch   87/269 - Train Accuracy:  0.142, Validation Accuracy:  0.222, Loss:  5.881\n",
      "Epoch   0 Batch   88/269 - Train Accuracy:  0.184, Validation Accuracy:  0.222, Loss:  5.881\n",
      "Epoch   0 Batch   89/269 - Train Accuracy:  0.187, Validation Accuracy:  0.222, Loss:  5.881\n",
      "Epoch   0 Batch   90/269 - Train Accuracy:  0.141, Validation Accuracy:  0.222, Loss:  5.881\n",
      "Epoch   0 Batch   91/269 - Train Accuracy:  0.181, Validation Accuracy:  0.222, Loss:  5.881\n",
      "Epoch   0 Batch   92/269 - Train Accuracy:  0.182, Validation Accuracy:  0.222, Loss:  5.881\n",
      "Epoch   0 Batch   93/269 - Train Accuracy:  0.218, Validation Accuracy:  0.222, Loss:  5.881\n",
      "Epoch   0 Batch   94/269 - Train Accuracy:  0.184, Validation Accuracy:  0.222, Loss:  5.881\n",
      "Epoch   0 Batch   95/269 - Train Accuracy:  0.184, Validation Accuracy:  0.222, Loss:  5.881\n",
      "Epoch   0 Batch   96/269 - Train Accuracy:  0.181, Validation Accuracy:  0.222, Loss:  5.881\n",
      "Epoch   0 Batch   97/269 - Train Accuracy:  0.185, Validation Accuracy:  0.222, Loss:  5.881\n",
      "Epoch   0 Batch   98/269 - Train Accuracy:  0.185, Validation Accuracy:  0.222, Loss:  5.881\n",
      "Epoch   0 Batch   99/269 - Train Accuracy:  0.144, Validation Accuracy:  0.222, Loss:  5.881\n",
      "Epoch   0 Batch  100/269 - Train Accuracy:  0.186, Validation Accuracy:  0.222, Loss:  5.881\n",
      "Epoch   0 Batch  101/269 - Train Accuracy:  0.142, Validation Accuracy:  0.222, Loss:  5.881\n",
      "Epoch   0 Batch  102/269 - Train Accuracy:  0.183, Validation Accuracy:  0.222, Loss:  5.881\n",
      "Epoch   0 Batch  103/269 - Train Accuracy:  0.181, Validation Accuracy:  0.222, Loss:  5.881\n",
      "Epoch   0 Batch  104/269 - Train Accuracy:  0.182, Validation Accuracy:  0.222, Loss:  5.881\n",
      "Epoch   0 Batch  105/269 - Train Accuracy:  0.185, Validation Accuracy:  0.222, Loss:  5.881\n",
      "Epoch   0 Batch  106/269 - Train Accuracy:  0.183, Validation Accuracy:  0.222, Loss:  5.881\n",
      "Epoch   0 Batch  107/269 - Train Accuracy:  0.141, Validation Accuracy:  0.222, Loss:  5.881\n",
      "Epoch   0 Batch  108/269 - Train Accuracy:  0.181, Validation Accuracy:  0.222, Loss:  5.881\n",
      "Epoch   0 Batch  109/269 - Train Accuracy:  0.181, Validation Accuracy:  0.222, Loss:  5.881\n",
      "Epoch   0 Batch  110/269 - Train Accuracy:  0.182, Validation Accuracy:  0.222, Loss:  5.881\n",
      "Epoch   0 Batch  111/269 - Train Accuracy:  0.140, Validation Accuracy:  0.222, Loss:  5.881\n",
      "Epoch   0 Batch  112/269 - Train Accuracy:  0.182, Validation Accuracy:  0.222, Loss:  5.881\n",
      "Epoch   0 Batch  113/269 - Train Accuracy:  0.218, Validation Accuracy:  0.222, Loss:  5.881\n",
      "Epoch   0 Batch  114/269 - Train Accuracy:  0.182, Validation Accuracy:  0.222, Loss:  5.881\n",
      "Epoch   0 Batch  115/269 - Train Accuracy:  0.143, Validation Accuracy:  0.222, Loss:  5.881\n",
      "Epoch   0 Batch  116/269 - Train Accuracy:  0.182, Validation Accuracy:  0.222, Loss:  5.881\n",
      "Epoch   0 Batch  117/269 - Train Accuracy:  0.183, Validation Accuracy:  0.222, Loss:  5.881\n",
      "Epoch   0 Batch  118/269 - Train Accuracy:  0.186, Validation Accuracy:  0.222, Loss:  5.881\n",
      "Epoch   0 Batch  119/269 - Train Accuracy:  0.143, Validation Accuracy:  0.222, Loss:  5.881\n",
      "Epoch   0 Batch  120/269 - Train Accuracy:  0.142, Validation Accuracy:  0.222, Loss:  5.881\n",
      "Epoch   0 Batch  121/269 - Train Accuracy:  0.184, Validation Accuracy:  0.222, Loss:  5.881\n",
      "Epoch   0 Batch  122/269 - Train Accuracy:  0.184, Validation Accuracy:  0.222, Loss:  5.881\n",
      "Epoch   0 Batch  123/269 - Train Accuracy:  0.139, Validation Accuracy:  0.222, Loss:  5.881\n",
      "Epoch   0 Batch  124/269 - Train Accuracy:  0.182, Validation Accuracy:  0.222, Loss:  5.881\n",
      "Epoch   0 Batch  125/269 - Train Accuracy:  0.184, Validation Accuracy:  0.222, Loss:  5.881\n",
      "Epoch   0 Batch  126/269 - Train Accuracy:  0.184, Validation Accuracy:  0.222, Loss:  5.881\n",
      "Epoch   0 Batch  127/269 - Train Accuracy:  0.143, Validation Accuracy:  0.222, Loss:  5.881\n",
      "Epoch   0 Batch  128/269 - Train Accuracy:  0.184, Validation Accuracy:  0.222, Loss:  5.881\n",
      "Epoch   0 Batch  129/269 - Train Accuracy:  0.182, Validation Accuracy:  0.222, Loss:  5.881\n",
      "Epoch   0 Batch  130/269 - Train Accuracy:  0.140, Validation Accuracy:  0.222, Loss:  5.881\n",
      "Epoch   0 Batch  131/269 - Train Accuracy:  0.142, Validation Accuracy:  0.222, Loss:  5.881\n",
      "Epoch   0 Batch  132/269 - Train Accuracy:  0.182, Validation Accuracy:  0.222, Loss:  5.881\n",
      "Epoch   0 Batch  133/269 - Train Accuracy:  0.183, Validation Accuracy:  0.222, Loss:  5.881\n",
      "Epoch   0 Batch  134/269 - Train Accuracy:  0.142, Validation Accuracy:  0.222, Loss:  5.881\n",
      "Epoch   0 Batch  135/269 - Train Accuracy:  0.141, Validation Accuracy:  0.222, Loss:  5.881\n",
      "Epoch   0 Batch  136/269 - Train Accuracy:  0.142, Validation Accuracy:  0.222, Loss:  5.881\n",
      "Epoch   0 Batch  137/269 - Train Accuracy:  0.144, Validation Accuracy:  0.222, Loss:  5.881\n",
      "Epoch   0 Batch  138/269 - Train Accuracy:  0.142, Validation Accuracy:  0.222, Loss:  5.881\n",
      "Epoch   0 Batch  139/269 - Train Accuracy:  0.183, Validation Accuracy:  0.222, Loss:  5.881\n",
      "Epoch   0 Batch  140/269 - Train Accuracy:  0.185, Validation Accuracy:  0.222, Loss:  5.881\n",
      "Epoch   0 Batch  141/269 - Train Accuracy:  0.145, Validation Accuracy:  0.222, Loss:  5.881\n",
      "Epoch   0 Batch  142/269 - Train Accuracy:  0.181, Validation Accuracy:  0.222, Loss:  5.881\n",
      "Epoch   0 Batch  143/269 - Train Accuracy:  0.184, Validation Accuracy:  0.222, Loss:  5.881\n",
      "Epoch   0 Batch  144/269 - Train Accuracy:  0.184, Validation Accuracy:  0.222, Loss:  5.881\n",
      "Epoch   0 Batch  145/269 - Train Accuracy:  0.182, Validation Accuracy:  0.222, Loss:  5.881\n",
      "Epoch   0 Batch  146/269 - Train Accuracy:  0.184, Validation Accuracy:  0.222, Loss:  5.881\n",
      "Epoch   0 Batch  147/269 - Train Accuracy:  0.220, Validation Accuracy:  0.222, Loss:  5.881\n",
      "Epoch   0 Batch  148/269 - Train Accuracy:  0.183, Validation Accuracy:  0.222, Loss:  5.881\n",
      "Epoch   0 Batch  149/269 - Train Accuracy:  0.184, Validation Accuracy:  0.222, Loss:  5.881\n",
      "Epoch   0 Batch  150/269 - Train Accuracy:  0.182, Validation Accuracy:  0.222, Loss:  5.881\n",
      "Epoch   0 Batch  151/269 - Train Accuracy:  0.222, Validation Accuracy:  0.222, Loss:  5.881\n",
      "Epoch   0 Batch  152/269 - Train Accuracy:  0.182, Validation Accuracy:  0.222, Loss:  5.881\n",
      "Epoch   0 Batch  153/269 - Train Accuracy:  0.184, Validation Accuracy:  0.222, Loss:  5.881\n",
      "Epoch   0 Batch  154/269 - Train Accuracy:  0.141, Validation Accuracy:  0.222, Loss:  5.881\n",
      "Epoch   0 Batch  155/269 - Train Accuracy:  0.220, Validation Accuracy:  0.222, Loss:  5.881\n",
      "Epoch   0 Batch  156/269 - Train Accuracy:  0.143, Validation Accuracy:  0.222, Loss:  5.881\n",
      "Epoch   0 Batch  157/269 - Train Accuracy:  0.185, Validation Accuracy:  0.222, Loss:  5.881\n",
      "Epoch   0 Batch  158/269 - Train Accuracy:  0.185, Validation Accuracy:  0.222, Loss:  5.881\n",
      "Epoch   0 Batch  159/269 - Train Accuracy:  0.181, Validation Accuracy:  0.222, Loss:  5.881\n",
      "Epoch   0 Batch  160/269 - Train Accuracy:  0.184, Validation Accuracy:  0.222, Loss:  5.881\n",
      "Epoch   0 Batch  161/269 - Train Accuracy:  0.183, Validation Accuracy:  0.222, Loss:  5.881\n",
      "Epoch   0 Batch  162/269 - Train Accuracy:  0.184, Validation Accuracy:  0.222, Loss:  5.881\n",
      "Epoch   0 Batch  163/269 - Train Accuracy:  0.185, Validation Accuracy:  0.222, Loss:  5.881\n",
      "Epoch   0 Batch  164/269 - Train Accuracy:  0.183, Validation Accuracy:  0.222, Loss:  5.881\n",
      "Epoch   0 Batch  165/269 - Train Accuracy:  0.142, Validation Accuracy:  0.222, Loss:  5.881\n",
      "Epoch   0 Batch  166/269 - Train Accuracy:  0.221, Validation Accuracy:  0.222, Loss:  5.881\n",
      "Epoch   0 Batch  167/269 - Train Accuracy:  0.186, Validation Accuracy:  0.222, Loss:  5.881\n",
      "Epoch   0 Batch  168/269 - Train Accuracy:  0.184, Validation Accuracy:  0.222, Loss:  5.881\n",
      "Epoch   0 Batch  169/269 - Train Accuracy:  0.182, Validation Accuracy:  0.222, Loss:  5.881\n",
      "Epoch   0 Batch  170/269 - Train Accuracy:  0.185, Validation Accuracy:  0.222, Loss:  5.881\n",
      "Epoch   0 Batch  171/269 - Train Accuracy:  0.145, Validation Accuracy:  0.222, Loss:  5.881\n",
      "Epoch   0 Batch  172/269 - Train Accuracy:  0.184, Validation Accuracy:  0.222, Loss:  5.881\n",
      "Epoch   0 Batch  173/269 - Train Accuracy:  0.184, Validation Accuracy:  0.222, Loss:  5.881\n",
      "Epoch   0 Batch  174/269 - Train Accuracy:  0.182, Validation Accuracy:  0.222, Loss:  5.881\n",
      "Epoch   0 Batch  175/269 - Train Accuracy:  0.183, Validation Accuracy:  0.222, Loss:  5.881\n",
      "Epoch   0 Batch  176/269 - Train Accuracy:  0.143, Validation Accuracy:  0.222, Loss:  5.881\n",
      "Epoch   0 Batch  177/269 - Train Accuracy:  0.220, Validation Accuracy:  0.222, Loss:  5.881\n",
      "Epoch   0 Batch  178/269 - Train Accuracy:  0.143, Validation Accuracy:  0.222, Loss:  5.881\n",
      "Epoch   0 Batch  179/269 - Train Accuracy:  0.185, Validation Accuracy:  0.222, Loss:  5.881\n",
      "Epoch   0 Batch  180/269 - Train Accuracy:  0.183, Validation Accuracy:  0.222, Loss:  5.881\n",
      "Epoch   0 Batch  181/269 - Train Accuracy:  0.182, Validation Accuracy:  0.222, Loss:  5.881\n",
      "Epoch   0 Batch  182/269 - Train Accuracy:  0.185, Validation Accuracy:  0.222, Loss:  5.881\n",
      "Epoch   0 Batch  183/269 - Train Accuracy:  0.284, Validation Accuracy:  0.222, Loss:  5.881\n",
      "Epoch   0 Batch  184/269 - Train Accuracy:  0.142, Validation Accuracy:  0.222, Loss:  5.881\n",
      "Epoch   0 Batch  185/269 - Train Accuracy:  0.185, Validation Accuracy:  0.222, Loss:  5.881\n",
      "Epoch   0 Batch  186/269 - Train Accuracy:  0.145, Validation Accuracy:  0.222, Loss:  5.881\n",
      "Epoch   0 Batch  187/269 - Train Accuracy:  0.186, Validation Accuracy:  0.222, Loss:  5.881\n",
      "Epoch   0 Batch  188/269 - Train Accuracy:  0.184, Validation Accuracy:  0.222, Loss:  5.881\n",
      "Epoch   0 Batch  189/269 - Train Accuracy:  0.184, Validation Accuracy:  0.222, Loss:  5.881\n",
      "Epoch   0 Batch  190/269 - Train Accuracy:  0.182, Validation Accuracy:  0.222, Loss:  5.881\n",
      "Epoch   0 Batch  191/269 - Train Accuracy:  0.182, Validation Accuracy:  0.222, Loss:  5.881\n",
      "Epoch   0 Batch  192/269 - Train Accuracy:  0.181, Validation Accuracy:  0.222, Loss:  5.881\n",
      "Epoch   0 Batch  193/269 - Train Accuracy:  0.181, Validation Accuracy:  0.222, Loss:  5.881\n",
      "Epoch   0 Batch  194/269 - Train Accuracy:  0.185, Validation Accuracy:  0.222, Loss:  5.881\n",
      "Epoch   0 Batch  195/269 - Train Accuracy:  0.181, Validation Accuracy:  0.222, Loss:  5.881\n",
      "Epoch   0 Batch  196/269 - Train Accuracy:  0.182, Validation Accuracy:  0.222, Loss:  5.881\n",
      "Epoch   0 Batch  197/269 - Train Accuracy:  0.142, Validation Accuracy:  0.222, Loss:  5.881\n",
      "Epoch   0 Batch  198/269 - Train Accuracy:  0.143, Validation Accuracy:  0.222, Loss:  5.881\n",
      "Epoch   0 Batch  199/269 - Train Accuracy:  0.183, Validation Accuracy:  0.222, Loss:  5.881\n",
      "Epoch   0 Batch  200/269 - Train Accuracy:  0.147, Validation Accuracy:  0.222, Loss:  5.881\n",
      "Epoch   0 Batch  201/269 - Train Accuracy:  0.183, Validation Accuracy:  0.222, Loss:  5.881\n",
      "Epoch   0 Batch  202/269 - Train Accuracy:  0.185, Validation Accuracy:  0.222, Loss:  5.881\n",
      "Epoch   0 Batch  203/269 - Train Accuracy:  0.143, Validation Accuracy:  0.222, Loss:  5.881\n",
      "Epoch   0 Batch  204/269 - Train Accuracy:  0.144, Validation Accuracy:  0.222, Loss:  5.881\n",
      "Epoch   0 Batch  205/269 - Train Accuracy:  0.182, Validation Accuracy:  0.222, Loss:  5.881\n",
      "Epoch   0 Batch  206/269 - Train Accuracy:  0.144, Validation Accuracy:  0.222, Loss:  5.881\n",
      "Epoch   0 Batch  207/269 - Train Accuracy:  0.218, Validation Accuracy:  0.222, Loss:  5.881\n",
      "Epoch   0 Batch  208/269 - Train Accuracy:  0.142, Validation Accuracy:  0.222, Loss:  5.881\n",
      "Epoch   0 Batch  209/269 - Train Accuracy:  0.142, Validation Accuracy:  0.222, Loss:  5.881\n",
      "Epoch   0 Batch  210/269 - Train Accuracy:  0.185, Validation Accuracy:  0.222, Loss:  5.881\n",
      "Epoch   0 Batch  211/269 - Train Accuracy:  0.184, Validation Accuracy:  0.222, Loss:  5.881\n",
      "Epoch   0 Batch  212/269 - Train Accuracy:  0.187, Validation Accuracy:  0.222, Loss:  5.881\n",
      "Epoch   0 Batch  213/269 - Train Accuracy:  0.181, Validation Accuracy:  0.222, Loss:  5.881\n",
      "Epoch   0 Batch  214/269 - Train Accuracy:  0.186, Validation Accuracy:  0.222, Loss:  5.881\n",
      "Epoch   0 Batch  215/269 - Train Accuracy:  0.222, Validation Accuracy:  0.222, Loss:  5.881\n",
      "Epoch   0 Batch  216/269 - Train Accuracy:  0.144, Validation Accuracy:  0.222, Loss:  5.881\n",
      "Epoch   0 Batch  217/269 - Train Accuracy:  0.142, Validation Accuracy:  0.222, Loss:  5.881\n",
      "Epoch   0 Batch  218/269 - Train Accuracy:  0.145, Validation Accuracy:  0.222, Loss:  5.881\n",
      "Epoch   0 Batch  219/269 - Train Accuracy:  0.145, Validation Accuracy:  0.222, Loss:  5.881\n",
      "Epoch   0 Batch  220/269 - Train Accuracy:  0.218, Validation Accuracy:  0.222, Loss:  5.881\n",
      "Epoch   0 Batch  221/269 - Train Accuracy:  0.185, Validation Accuracy:  0.222, Loss:  5.881\n",
      "Epoch   0 Batch  222/269 - Train Accuracy:  0.187, Validation Accuracy:  0.222, Loss:  5.881\n",
      "Epoch   0 Batch  223/269 - Train Accuracy:  0.182, Validation Accuracy:  0.222, Loss:  5.881\n",
      "Epoch   0 Batch  224/269 - Train Accuracy:  0.187, Validation Accuracy:  0.222, Loss:  5.881\n",
      "Epoch   0 Batch  225/269 - Train Accuracy:  0.143, Validation Accuracy:  0.222, Loss:  5.881\n",
      "Epoch   0 Batch  226/269 - Train Accuracy:  0.183, Validation Accuracy:  0.222, Loss:  5.881\n",
      "Epoch   0 Batch  227/269 - Train Accuracy:  0.286, Validation Accuracy:  0.222, Loss:  5.881\n",
      "Epoch   0 Batch  228/269 - Train Accuracy:  0.182, Validation Accuracy:  0.222, Loss:  5.881\n",
      "Epoch   0 Batch  229/269 - Train Accuracy:  0.183, Validation Accuracy:  0.222, Loss:  5.881\n",
      "Epoch   0 Batch  230/269 - Train Accuracy:  0.184, Validation Accuracy:  0.222, Loss:  5.881\n",
      "Epoch   0 Batch  231/269 - Train Accuracy:  0.142, Validation Accuracy:  0.222, Loss:  5.881\n",
      "Epoch   0 Batch  232/269 - Train Accuracy:  0.142, Validation Accuracy:  0.222, Loss:  5.881\n",
      "Epoch   0 Batch  233/269 - Train Accuracy:  0.185, Validation Accuracy:  0.222, Loss:  5.881\n",
      "Epoch   0 Batch  234/269 - Train Accuracy:  0.182, Validation Accuracy:  0.222, Loss:  5.881\n",
      "Epoch   0 Batch  235/269 - Train Accuracy:  0.185, Validation Accuracy:  0.222, Loss:  5.881\n",
      "Epoch   0 Batch  236/269 - Train Accuracy:  0.182, Validation Accuracy:  0.222, Loss:  5.881\n",
      "Epoch   0 Batch  237/269 - Train Accuracy:  0.183, Validation Accuracy:  0.222, Loss:  5.881\n",
      "Epoch   0 Batch  238/269 - Train Accuracy:  0.183, Validation Accuracy:  0.222, Loss:  5.881\n",
      "Epoch   0 Batch  239/269 - Train Accuracy:  0.184, Validation Accuracy:  0.222, Loss:  5.881\n",
      "Epoch   0 Batch  240/269 - Train Accuracy:  0.254, Validation Accuracy:  0.222, Loss:  5.881\n",
      "Epoch   0 Batch  241/269 - Train Accuracy:  0.183, Validation Accuracy:  0.222, Loss:  5.881\n",
      "Epoch   0 Batch  242/269 - Train Accuracy:  0.182, Validation Accuracy:  0.222, Loss:  5.881\n",
      "Epoch   0 Batch  243/269 - Train Accuracy:  0.186, Validation Accuracy:  0.222, Loss:  5.881\n",
      "Epoch   0 Batch  244/269 - Train Accuracy:  0.185, Validation Accuracy:  0.222, Loss:  5.881\n",
      "Epoch   0 Batch  245/269 - Train Accuracy:  0.144, Validation Accuracy:  0.222, Loss:  5.881\n",
      "Epoch   0 Batch  246/269 - Train Accuracy:  0.183, Validation Accuracy:  0.222, Loss:  5.881\n",
      "Epoch   0 Batch  247/269 - Train Accuracy:  0.146, Validation Accuracy:  0.222, Loss:  5.881\n",
      "Epoch   0 Batch  248/269 - Train Accuracy:  0.184, Validation Accuracy:  0.222, Loss:  5.881\n",
      "Epoch   0 Batch  249/269 - Train Accuracy:  0.218, Validation Accuracy:  0.222, Loss:  5.881\n",
      "Epoch   0 Batch  250/269 - Train Accuracy:  0.144, Validation Accuracy:  0.222, Loss:  5.881\n",
      "Epoch   0 Batch  251/269 - Train Accuracy:  0.184, Validation Accuracy:  0.222, Loss:  5.881\n",
      "Epoch   0 Batch  252/269 - Train Accuracy:  0.183, Validation Accuracy:  0.222, Loss:  5.881\n",
      "Epoch   0 Batch  253/269 - Train Accuracy:  0.186, Validation Accuracy:  0.222, Loss:  5.881\n",
      "Epoch   0 Batch  254/269 - Train Accuracy:  0.184, Validation Accuracy:  0.222, Loss:  5.881\n",
      "Epoch   0 Batch  255/269 - Train Accuracy:  0.222, Validation Accuracy:  0.222, Loss:  5.881\n",
      "Epoch   0 Batch  256/269 - Train Accuracy:  0.182, Validation Accuracy:  0.222, Loss:  5.881\n",
      "Epoch   0 Batch  257/269 - Train Accuracy:  0.183, Validation Accuracy:  0.222, Loss:  5.881\n",
      "Epoch   0 Batch  258/269 - Train Accuracy:  0.181, Validation Accuracy:  0.222, Loss:  5.881\n",
      "Epoch   0 Batch  259/269 - Train Accuracy:  0.185, Validation Accuracy:  0.222, Loss:  5.881\n",
      "Epoch   0 Batch  260/269 - Train Accuracy:  0.144, Validation Accuracy:  0.222, Loss:  5.881\n",
      "Epoch   0 Batch  261/269 - Train Accuracy:  0.143, Validation Accuracy:  0.222, Loss:  5.881\n",
      "Epoch   0 Batch  262/269 - Train Accuracy:  0.183, Validation Accuracy:  0.222, Loss:  5.881\n",
      "Epoch   0 Batch  263/269 - Train Accuracy:  0.144, Validation Accuracy:  0.222, Loss:  5.881\n",
      "Epoch   0 Batch  264/269 - Train Accuracy:  0.142, Validation Accuracy:  0.222, Loss:  5.881\n",
      "Epoch   0 Batch  265/269 - Train Accuracy:  0.144, Validation Accuracy:  0.222, Loss:  5.881\n",
      "Epoch   0 Batch  266/269 - Train Accuracy:  0.181, Validation Accuracy:  0.222, Loss:  5.881\n",
      "Epoch   0 Batch  267/269 - Train Accuracy:  0.185, Validation Accuracy:  0.222, Loss:  5.881\n",
      "Epoch   1 Batch    0/269 - Train Accuracy:  0.144, Validation Accuracy:  0.222, Loss:  5.881\n",
      "Epoch   1 Batch    1/269 - Train Accuracy:  0.141, Validation Accuracy:  0.222, Loss:  5.881\n",
      "Epoch   1 Batch    2/269 - Train Accuracy:  0.183, Validation Accuracy:  0.222, Loss:  5.881\n",
      "Epoch   1 Batch    3/269 - Train Accuracy:  0.142, Validation Accuracy:  0.222, Loss:  5.881\n",
      "Epoch   1 Batch    4/269 - Train Accuracy:  0.143, Validation Accuracy:  0.222, Loss:  5.881\n",
      "Epoch   1 Batch    5/269 - Train Accuracy:  0.142, Validation Accuracy:  0.222, Loss:  5.881\n",
      "Epoch   1 Batch    6/269 - Train Accuracy:  0.183, Validation Accuracy:  0.222, Loss:  5.881\n",
      "Epoch   1 Batch    7/269 - Train Accuracy:  0.184, Validation Accuracy:  0.222, Loss:  5.881\n",
      "Epoch   1 Batch    8/269 - Train Accuracy:  0.144, Validation Accuracy:  0.222, Loss:  5.881\n",
      "Epoch   1 Batch    9/269 - Train Accuracy:  0.184, Validation Accuracy:  0.222, Loss:  5.881\n",
      "Epoch   1 Batch   10/269 - Train Accuracy:  0.145, Validation Accuracy:  0.222, Loss:  5.881\n",
      "Epoch   1 Batch   11/269 - Train Accuracy:  0.182, Validation Accuracy:  0.222, Loss:  5.881\n",
      "Epoch   1 Batch   12/269 - Train Accuracy:  0.144, Validation Accuracy:  0.222, Loss:  5.881\n",
      "Epoch   1 Batch   13/269 - Train Accuracy:  0.219, Validation Accuracy:  0.222, Loss:  5.881\n",
      "Epoch   1 Batch   14/269 - Train Accuracy:  0.185, Validation Accuracy:  0.222, Loss:  5.881\n",
      "Epoch   1 Batch   15/269 - Train Accuracy:  0.183, Validation Accuracy:  0.222, Loss:  5.881\n",
      "Epoch   1 Batch   16/269 - Train Accuracy:  0.184, Validation Accuracy:  0.222, Loss:  5.881\n",
      "Epoch   1 Batch   17/269 - Train Accuracy:  0.182, Validation Accuracy:  0.222, Loss:  5.881\n",
      "Epoch   1 Batch   18/269 - Train Accuracy:  0.144, Validation Accuracy:  0.222, Loss:  5.881\n",
      "Epoch   1 Batch   19/269 - Train Accuracy:  0.223, Validation Accuracy:  0.222, Loss:  5.881\n",
      "Epoch   1 Batch   20/269 - Train Accuracy:  0.145, Validation Accuracy:  0.222, Loss:  5.881\n",
      "Epoch   1 Batch   21/269 - Train Accuracy:  0.145, Validation Accuracy:  0.222, Loss:  5.881\n",
      "Epoch   1 Batch   22/269 - Train Accuracy:  0.184, Validation Accuracy:  0.222, Loss:  5.881\n",
      "Epoch   1 Batch   23/269 - Train Accuracy:  0.182, Validation Accuracy:  0.222, Loss:  5.881\n",
      "Epoch   1 Batch   24/269 - Train Accuracy:  0.142, Validation Accuracy:  0.222, Loss:  5.881\n",
      "Epoch   1 Batch   25/269 - Train Accuracy:  0.143, Validation Accuracy:  0.222, Loss:  5.881\n",
      "Epoch   1 Batch   26/269 - Train Accuracy:  0.221, Validation Accuracy:  0.222, Loss:  5.881\n",
      "Epoch   1 Batch   27/269 - Train Accuracy:  0.182, Validation Accuracy:  0.222, Loss:  5.881\n",
      "Epoch   1 Batch   28/269 - Train Accuracy:  0.141, Validation Accuracy:  0.222, Loss:  5.881\n",
      "Epoch   1 Batch   29/269 - Train Accuracy:  0.143, Validation Accuracy:  0.222, Loss:  5.881\n",
      "Epoch   1 Batch   30/269 - Train Accuracy:  0.182, Validation Accuracy:  0.222, Loss:  5.881\n",
      "Epoch   1 Batch   31/269 - Train Accuracy:  0.183, Validation Accuracy:  0.222, Loss:  5.881\n"
     ]
    },
    {
     "ename": "KeyboardInterrupt",
     "evalue": "",
     "output_type": "error",
     "traceback": [
      "\u001b[0;31m---------------------------------------------------------------------------\u001b[0m",
      "\u001b[0;31mKeyboardInterrupt\u001b[0m                         Traceback (most recent call last)",
      "\u001b[0;32m<ipython-input-16-d7dd20c512f1>\u001b[0m in \u001b[0;36m<module>\u001b[0;34m()\u001b[0m\n\u001b[1;32m     49\u001b[0m             batch_valid_logits = sess.run(\n\u001b[1;32m     50\u001b[0m                 \u001b[0minference_logits\u001b[0m\u001b[0;34m,\u001b[0m\u001b[0;34m\u001b[0m\u001b[0m\n\u001b[0;32m---> 51\u001b[0;31m                 {input_data: valid_source, keep_prob: 1.0})\n\u001b[0m\u001b[1;32m     52\u001b[0m \u001b[0;34m\u001b[0m\u001b[0m\n\u001b[1;32m     53\u001b[0m             \u001b[0mtrain_acc\u001b[0m \u001b[0;34m=\u001b[0m \u001b[0mget_accuracy\u001b[0m\u001b[0;34m(\u001b[0m\u001b[0mtarget_batch\u001b[0m\u001b[0;34m,\u001b[0m \u001b[0mbatch_train_logits\u001b[0m\u001b[0;34m)\u001b[0m\u001b[0;34m\u001b[0m\u001b[0m\n",
      "\u001b[0;32m/home/carnd/anaconda3/envs/carnd-term1/lib/python3.5/site-packages/tensorflow/python/client/session.py\u001b[0m in \u001b[0;36mrun\u001b[0;34m(self, fetches, feed_dict, options, run_metadata)\u001b[0m\n\u001b[1;32m    765\u001b[0m     \u001b[0;32mtry\u001b[0m\u001b[0;34m:\u001b[0m\u001b[0;34m\u001b[0m\u001b[0m\n\u001b[1;32m    766\u001b[0m       result = self._run(None, fetches, feed_dict, options_ptr,\n\u001b[0;32m--> 767\u001b[0;31m                          run_metadata_ptr)\n\u001b[0m\u001b[1;32m    768\u001b[0m       \u001b[0;32mif\u001b[0m \u001b[0mrun_metadata\u001b[0m\u001b[0;34m:\u001b[0m\u001b[0;34m\u001b[0m\u001b[0m\n\u001b[1;32m    769\u001b[0m         \u001b[0mproto_data\u001b[0m \u001b[0;34m=\u001b[0m \u001b[0mtf_session\u001b[0m\u001b[0;34m.\u001b[0m\u001b[0mTF_GetBuffer\u001b[0m\u001b[0;34m(\u001b[0m\u001b[0mrun_metadata_ptr\u001b[0m\u001b[0;34m)\u001b[0m\u001b[0;34m\u001b[0m\u001b[0m\n",
      "\u001b[0;32m/home/carnd/anaconda3/envs/carnd-term1/lib/python3.5/site-packages/tensorflow/python/client/session.py\u001b[0m in \u001b[0;36m_run\u001b[0;34m(self, handle, fetches, feed_dict, options, run_metadata)\u001b[0m\n\u001b[1;32m    963\u001b[0m     \u001b[0;32mif\u001b[0m \u001b[0mfinal_fetches\u001b[0m \u001b[0;32mor\u001b[0m \u001b[0mfinal_targets\u001b[0m\u001b[0;34m:\u001b[0m\u001b[0;34m\u001b[0m\u001b[0m\n\u001b[1;32m    964\u001b[0m       results = self._do_run(handle, final_targets, final_fetches,\n\u001b[0;32m--> 965\u001b[0;31m                              feed_dict_string, options, run_metadata)\n\u001b[0m\u001b[1;32m    966\u001b[0m     \u001b[0;32melse\u001b[0m\u001b[0;34m:\u001b[0m\u001b[0;34m\u001b[0m\u001b[0m\n\u001b[1;32m    967\u001b[0m       \u001b[0mresults\u001b[0m \u001b[0;34m=\u001b[0m \u001b[0;34m[\u001b[0m\u001b[0;34m]\u001b[0m\u001b[0;34m\u001b[0m\u001b[0m\n",
      "\u001b[0;32m/home/carnd/anaconda3/envs/carnd-term1/lib/python3.5/site-packages/tensorflow/python/client/session.py\u001b[0m in \u001b[0;36m_do_run\u001b[0;34m(self, handle, target_list, fetch_list, feed_dict, options, run_metadata)\u001b[0m\n\u001b[1;32m   1013\u001b[0m     \u001b[0;32mif\u001b[0m \u001b[0mhandle\u001b[0m \u001b[0;32mis\u001b[0m \u001b[0;32mNone\u001b[0m\u001b[0;34m:\u001b[0m\u001b[0;34m\u001b[0m\u001b[0m\n\u001b[1;32m   1014\u001b[0m       return self._do_call(_run_fn, self._session, feed_dict, fetch_list,\n\u001b[0;32m-> 1015\u001b[0;31m                            target_list, options, run_metadata)\n\u001b[0m\u001b[1;32m   1016\u001b[0m     \u001b[0;32melse\u001b[0m\u001b[0;34m:\u001b[0m\u001b[0;34m\u001b[0m\u001b[0m\n\u001b[1;32m   1017\u001b[0m       return self._do_call(_prun_fn, self._session, handle, feed_dict,\n",
      "\u001b[0;32m/home/carnd/anaconda3/envs/carnd-term1/lib/python3.5/site-packages/tensorflow/python/client/session.py\u001b[0m in \u001b[0;36m_do_call\u001b[0;34m(self, fn, *args)\u001b[0m\n\u001b[1;32m   1020\u001b[0m   \u001b[0;32mdef\u001b[0m \u001b[0m_do_call\u001b[0m\u001b[0;34m(\u001b[0m\u001b[0mself\u001b[0m\u001b[0;34m,\u001b[0m \u001b[0mfn\u001b[0m\u001b[0;34m,\u001b[0m \u001b[0;34m*\u001b[0m\u001b[0margs\u001b[0m\u001b[0;34m)\u001b[0m\u001b[0;34m:\u001b[0m\u001b[0;34m\u001b[0m\u001b[0m\n\u001b[1;32m   1021\u001b[0m     \u001b[0;32mtry\u001b[0m\u001b[0;34m:\u001b[0m\u001b[0;34m\u001b[0m\u001b[0m\n\u001b[0;32m-> 1022\u001b[0;31m       \u001b[0;32mreturn\u001b[0m \u001b[0mfn\u001b[0m\u001b[0;34m(\u001b[0m\u001b[0;34m*\u001b[0m\u001b[0margs\u001b[0m\u001b[0;34m)\u001b[0m\u001b[0;34m\u001b[0m\u001b[0m\n\u001b[0m\u001b[1;32m   1023\u001b[0m     \u001b[0;32mexcept\u001b[0m \u001b[0merrors\u001b[0m\u001b[0;34m.\u001b[0m\u001b[0mOpError\u001b[0m \u001b[0;32mas\u001b[0m \u001b[0me\u001b[0m\u001b[0;34m:\u001b[0m\u001b[0;34m\u001b[0m\u001b[0m\n\u001b[1;32m   1024\u001b[0m       \u001b[0mmessage\u001b[0m \u001b[0;34m=\u001b[0m \u001b[0mcompat\u001b[0m\u001b[0;34m.\u001b[0m\u001b[0mas_text\u001b[0m\u001b[0;34m(\u001b[0m\u001b[0me\u001b[0m\u001b[0;34m.\u001b[0m\u001b[0mmessage\u001b[0m\u001b[0;34m)\u001b[0m\u001b[0;34m\u001b[0m\u001b[0m\n",
      "\u001b[0;32m/home/carnd/anaconda3/envs/carnd-term1/lib/python3.5/site-packages/tensorflow/python/client/session.py\u001b[0m in \u001b[0;36m_run_fn\u001b[0;34m(session, feed_dict, fetch_list, target_list, options, run_metadata)\u001b[0m\n\u001b[1;32m   1002\u001b[0m         return tf_session.TF_Run(session, options,\n\u001b[1;32m   1003\u001b[0m                                  \u001b[0mfeed_dict\u001b[0m\u001b[0;34m,\u001b[0m \u001b[0mfetch_list\u001b[0m\u001b[0;34m,\u001b[0m \u001b[0mtarget_list\u001b[0m\u001b[0;34m,\u001b[0m\u001b[0;34m\u001b[0m\u001b[0m\n\u001b[0;32m-> 1004\u001b[0;31m                                  status, run_metadata)\n\u001b[0m\u001b[1;32m   1005\u001b[0m \u001b[0;34m\u001b[0m\u001b[0m\n\u001b[1;32m   1006\u001b[0m     \u001b[0;32mdef\u001b[0m \u001b[0m_prun_fn\u001b[0m\u001b[0;34m(\u001b[0m\u001b[0msession\u001b[0m\u001b[0;34m,\u001b[0m \u001b[0mhandle\u001b[0m\u001b[0;34m,\u001b[0m \u001b[0mfeed_dict\u001b[0m\u001b[0;34m,\u001b[0m \u001b[0mfetch_list\u001b[0m\u001b[0;34m)\u001b[0m\u001b[0;34m:\u001b[0m\u001b[0;34m\u001b[0m\u001b[0m\n",
      "\u001b[0;31mKeyboardInterrupt\u001b[0m: "
     ]
    }
   ],
   "source": [
    "\"\"\"\n",
    "DON'T MODIFY ANYTHING IN THIS CELL\n",
    "\"\"\"\n",
    "import time\n",
    "\n",
    "def get_accuracy(target, logits):\n",
    "    \"\"\"\n",
    "    Calculate accuracy\n",
    "    \"\"\"\n",
    "    max_seq = max(target.shape[1], logits.shape[1])\n",
    "    if max_seq - target.shape[1]:\n",
    "        target = np.pad(\n",
    "            target,\n",
    "            [(0,0),(0,max_seq - target.shape[1])],\n",
    "            'constant')\n",
    "    if max_seq - logits.shape[1]:\n",
    "        logits = np.pad(\n",
    "            logits,\n",
    "            [(0,0),(0,max_seq - logits.shape[1]), (0,0)],\n",
    "            'constant')\n",
    "\n",
    "    return np.mean(np.equal(target, np.argmax(logits, 2)))\n",
    "\n",
    "train_source = source_int_text[batch_size:]\n",
    "train_target = target_int_text[batch_size:]\n",
    "\n",
    "valid_source = helper.pad_sentence_batch(source_int_text[:batch_size])\n",
    "valid_target = helper.pad_sentence_batch(target_int_text[:batch_size])\n",
    "\n",
    "with tf.Session(graph=train_graph) as sess:\n",
    "    sess.run(tf.global_variables_initializer())\n",
    "\n",
    "    for epoch_i in range(epochs):\n",
    "        for batch_i, (source_batch, target_batch) in enumerate(\n",
    "                helper.batch_data(train_source, train_target, batch_size)):\n",
    "            start_time = time.time()\n",
    "            \n",
    "            _, loss = sess.run(\n",
    "                [train_op, cost],\n",
    "                {input_data: source_batch,\n",
    "                 targets: target_batch,\n",
    "                 lr: learning_rate,\n",
    "                 sequence_length: target_batch.shape[1],\n",
    "                 keep_prob: keep_probability})\n",
    "            \n",
    "            batch_train_logits = sess.run(\n",
    "                inference_logits,\n",
    "                {input_data: source_batch, keep_prob: 1.0})\n",
    "            batch_valid_logits = sess.run(\n",
    "                inference_logits,\n",
    "                {input_data: valid_source, keep_prob: 1.0})\n",
    "                \n",
    "            train_acc = get_accuracy(target_batch, batch_train_logits)\n",
    "            valid_acc = get_accuracy(np.array(valid_target), batch_valid_logits)\n",
    "            end_time = time.time()\n",
    "            print('Epoch {:>3} Batch {:>4}/{} - Train Accuracy: {:>6.3f}, Validation Accuracy: {:>6.3f}, Loss: {:>6.3f}'\n",
    "                  .format(epoch_i, batch_i, len(source_int_text) // batch_size, train_acc, valid_acc, loss))\n",
    "\n",
    "    # Save Model\n",
    "    saver = tf.train.Saver()\n",
    "    saver.save(sess, save_path)\n",
    "    print('Model Trained and Saved')"
   ]
  },
  {
   "cell_type": "markdown",
   "metadata": {
    "deletable": true,
    "editable": true
   },
   "source": [
    "### Save Parameters\n",
    "Save the `batch_size` and `save_path` parameters for inference."
   ]
  },
  {
   "cell_type": "code",
   "execution_count": null,
   "metadata": {
    "collapsed": false,
    "deletable": true,
    "editable": true
   },
   "outputs": [],
   "source": [
    "\"\"\"\n",
    "DON'T MODIFY ANYTHING IN THIS CELL\n",
    "\"\"\"\n",
    "# Save parameters for checkpoint\n",
    "helper.save_params(save_path)"
   ]
  },
  {
   "cell_type": "markdown",
   "metadata": {
    "deletable": true,
    "editable": true
   },
   "source": [
    "# Checkpoint"
   ]
  },
  {
   "cell_type": "code",
   "execution_count": null,
   "metadata": {
    "collapsed": false,
    "deletable": true,
    "editable": true
   },
   "outputs": [],
   "source": [
    "\"\"\"\n",
    "DON'T MODIFY ANYTHING IN THIS CELL\n",
    "\"\"\"\n",
    "import tensorflow as tf\n",
    "import numpy as np\n",
    "import helper\n",
    "import problem_unittests as tests\n",
    "\n",
    "_, (source_vocab_to_int, target_vocab_to_int), (source_int_to_vocab, target_int_to_vocab) = helper.load_preprocess()\n",
    "load_path = helper.load_params()"
   ]
  },
  {
   "cell_type": "markdown",
   "metadata": {
    "deletable": true,
    "editable": true
   },
   "source": [
    "## Sentence to Sequence\n",
    "To feed a sentence into the model for translation, you first need to preprocess it.  Implement the function `sentence_to_seq()` to preprocess new sentences.\n",
    "\n",
    "- Convert the sentence to lowercase\n",
    "- Convert words into ids using `vocab_to_int`\n",
    " - Convert words not in the vocabulary, to the `<UNK>` word id."
   ]
  },
  {
   "cell_type": "code",
   "execution_count": null,
   "metadata": {
    "collapsed": false,
    "deletable": true,
    "editable": true
   },
   "outputs": [],
   "source": [
    "def sentence_to_seq(sentence, vocab_to_int):\n",
    "    \"\"\"\n",
    "    Convert a sentence to a sequence of ids\n",
    "    :param sentence: String\n",
    "    :param vocab_to_int: Dictionary to go from the words to an id\n",
    "    :return: List of word ids\n",
    "    \"\"\"\n",
    "    # TODO: Implement Function\n",
    "    return None\n",
    "\n",
    "\n",
    "\"\"\"\n",
    "DON'T MODIFY ANYTHING IN THIS CELL THAT IS BELOW THIS LINE\n",
    "\"\"\"\n",
    "tests.test_sentence_to_seq(sentence_to_seq)"
   ]
  },
  {
   "cell_type": "markdown",
   "metadata": {
    "deletable": true,
    "editable": true
   },
   "source": [
    "## Translate\n",
    "This will translate `translate_sentence` from English to French."
   ]
  },
  {
   "cell_type": "code",
   "execution_count": null,
   "metadata": {
    "collapsed": false,
    "deletable": true,
    "editable": true
   },
   "outputs": [],
   "source": [
    "translate_sentence = 'he saw a old yellow truck .'\n",
    "\n",
    "\n",
    "\"\"\"\n",
    "DON'T MODIFY ANYTHING IN THIS CELL\n",
    "\"\"\"\n",
    "translate_sentence = sentence_to_seq(translate_sentence, source_vocab_to_int)\n",
    "\n",
    "loaded_graph = tf.Graph()\n",
    "with tf.Session(graph=loaded_graph) as sess:\n",
    "    # Load saved model\n",
    "    loader = tf.train.import_meta_graph(load_path + '.meta')\n",
    "    loader.restore(sess, load_path)\n",
    "\n",
    "    input_data = loaded_graph.get_tensor_by_name('input:0')\n",
    "    logits = loaded_graph.get_tensor_by_name('logits:0')\n",
    "    keep_prob = loaded_graph.get_tensor_by_name('keep_prob:0')\n",
    "\n",
    "    translate_logits = sess.run(logits, {input_data: [translate_sentence], keep_prob: 1.0})[0]\n",
    "\n",
    "print('Input')\n",
    "print('  Word Ids:      {}'.format([i for i in translate_sentence]))\n",
    "print('  English Words: {}'.format([source_int_to_vocab[i] for i in translate_sentence]))\n",
    "\n",
    "print('\\nPrediction')\n",
    "print('  Word Ids:      {}'.format([i for i in np.argmax(translate_logits, 1)]))\n",
    "print('  French Words: {}'.format([target_int_to_vocab[i] for i in np.argmax(translate_logits, 1)]))"
   ]
  },
  {
   "cell_type": "markdown",
   "metadata": {
    "deletable": true,
    "editable": true
   },
   "source": [
    "## Imperfect Translation\n",
    "You might notice that some sentences translate better than others.  Since the dataset you're using only has a vocabulary of 227 English words of the thousands that you use, you're only going to see good results using these words.  For this project, you don't need a perfect translation. However, if you want to create a better translation model, you'll need better data.\n",
    "\n",
    "You can train on the [WMT10 French-English corpus](http://www.statmt.org/wmt10/training-giga-fren.tar).  This dataset has more vocabulary and richer in topics discussed.  However, this will take you days to train, so make sure you've a GPU and the neural network is performing well on dataset we provided.  Just make sure you play with the WMT10 corpus after you've submitted this project.\n",
    "## Submitting This Project\n",
    "When submitting this project, make sure to run all the cells before saving the notebook. Save the notebook file as \"dlnd_language_translation.ipynb\" and save it as a HTML file under \"File\" -> \"Download as\". Include the \"helper.py\" and \"problem_unittests.py\" files in your submission."
   ]
  }
 ],
 "metadata": {
  "anaconda-cloud": {},
  "kernelspec": {
   "display_name": "Python [conda env:carnd-term1]",
   "language": "python",
   "name": "conda-env-carnd-term1-py"
  },
  "language_info": {
   "codemirror_mode": {
    "name": "ipython",
    "version": 3
   },
   "file_extension": ".py",
   "mimetype": "text/x-python",
   "name": "python",
   "nbconvert_exporter": "python",
   "pygments_lexer": "ipython3",
   "version": "3.5.2"
  }
 },
 "nbformat": 4,
 "nbformat_minor": 0
}
