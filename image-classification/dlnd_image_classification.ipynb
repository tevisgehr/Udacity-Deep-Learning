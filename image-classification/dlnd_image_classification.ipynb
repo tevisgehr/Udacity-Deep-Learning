{
 "cells": [
  {
   "cell_type": "markdown",
   "metadata": {
    "collapsed": true
   },
   "source": [
    "# Image Classification\n",
    "In this project, you'll classify images from the [CIFAR-10 dataset](https://www.cs.toronto.edu/~kriz/cifar.html).  The dataset consists of airplanes, dogs, cats, and other objects. You'll preprocess the images, then train a convolutional neural network on all the samples. The images need to be normalized and the labels need to be one-hot encoded.  You'll get to apply what you learned and build a convolutional, max pooling, dropout, and fully connected layers.  At the end, you'll get to see your neural network's predictions on the sample images.\n",
    "## Get the Data\n",
    "Run the following cell to download the [CIFAR-10 dataset for python](https://www.cs.toronto.edu/~kriz/cifar-10-python.tar.gz)."
   ]
  },
  {
   "cell_type": "code",
   "execution_count": 2,
   "metadata": {
    "collapsed": false
   },
   "outputs": [
    {
     "ename": "ModuleNotFoundError",
     "evalue": "No module named 'tqdm'",
     "output_type": "error",
     "traceback": [
      "\u001b[0;31m---------------------------------------------------------------------------\u001b[0m",
      "\u001b[0;31mModuleNotFoundError\u001b[0m                       Traceback (most recent call last)",
      "\u001b[0;32m<ipython-input-2-60712b9de575>\u001b[0m in \u001b[0;36m<module>\u001b[0;34m()\u001b[0m\n\u001b[1;32m      4\u001b[0m \u001b[0;32mfrom\u001b[0m \u001b[0murllib\u001b[0m\u001b[0;34m.\u001b[0m\u001b[0mrequest\u001b[0m \u001b[0;32mimport\u001b[0m \u001b[0murlretrieve\u001b[0m\u001b[0;34m\u001b[0m\u001b[0m\n\u001b[1;32m      5\u001b[0m \u001b[0;32mfrom\u001b[0m \u001b[0mos\u001b[0m\u001b[0;34m.\u001b[0m\u001b[0mpath\u001b[0m \u001b[0;32mimport\u001b[0m \u001b[0misfile\u001b[0m\u001b[0;34m,\u001b[0m \u001b[0misdir\u001b[0m\u001b[0;34m\u001b[0m\u001b[0m\n\u001b[0;32m----> 6\u001b[0;31m \u001b[0;32mfrom\u001b[0m \u001b[0mtqdm\u001b[0m \u001b[0;32mimport\u001b[0m \u001b[0mtqdm\u001b[0m\u001b[0;34m\u001b[0m\u001b[0m\n\u001b[0m\u001b[1;32m      7\u001b[0m \u001b[0;32mimport\u001b[0m \u001b[0mproblem_unittests\u001b[0m \u001b[0;32mas\u001b[0m \u001b[0mtests\u001b[0m\u001b[0;34m\u001b[0m\u001b[0m\n\u001b[1;32m      8\u001b[0m \u001b[0;32mimport\u001b[0m \u001b[0mtarfile\u001b[0m\u001b[0;34m\u001b[0m\u001b[0m\n",
      "\u001b[0;31mModuleNotFoundError\u001b[0m: No module named 'tqdm'"
     ]
    }
   ],
   "source": [
    "\"\"\"\n",
    "DON'T MODIFY ANYTHING IN THIS CELL THAT IS BELOW THIS LINE\n",
    "\"\"\"\n",
    "from urllib.request import urlretrieve\n",
    "from os.path import isfile, isdir\n",
    "from tqdm import tqdm\n",
    "import problem_unittests as tests\n",
    "import tarfile\n",
    "\n",
    "cifar10_dataset_folder_path = 'cifar-10-batches-py'\n",
    "\n",
    "class DLProgress(tqdm):\n",
    "    last_block = 0\n",
    "\n",
    "    def hook(self, block_num=1, block_size=1, total_size=None):\n",
    "        self.total = total_size\n",
    "        self.update((block_num - self.last_block) * block_size)\n",
    "        self.last_block = block_num\n",
    "\n",
    "if not isfile('cifar-10-python.tar.gz'):\n",
    "    with DLProgress(unit='B', unit_scale=True, miniters=1, desc='CIFAR-10 Dataset') as pbar:\n",
    "        urlretrieve(\n",
    "            'https://www.cs.toronto.edu/~kriz/cifar-10-python.tar.gz',\n",
    "            'cifar-10-python.tar.gz',\n",
    "            pbar.hook)\n",
    "\n",
    "if not isdir(cifar10_dataset_folder_path):\n",
    "    with tarfile.open('cifar-10-python.tar.gz') as tar:\n",
    "        tar.extractall()\n",
    "        tar.close()\n",
    "\n",
    "\n",
    "tests.test_folder_path(cifar10_dataset_folder_path)"
   ]
  },
  {
   "cell_type": "markdown",
   "metadata": {},
   "source": [
    "## Explore the Data\n",
    "The dataset is broken into batches to prevent your machine from running out of memory.  The CIFAR-10 dataset consists of 5 batches, named `data_batch_1`, `data_batch_2`, etc.. Each batch contains the labels and images that are one of the following:\n",
    "* airplane\n",
    "* automobile\n",
    "* bird\n",
    "* cat\n",
    "* deer\n",
    "* dog\n",
    "* frog\n",
    "* horse\n",
    "* ship\n",
    "* truck\n",
    "\n",
    "Understanding a dataset is part of making predictions on the data.  Play around with the code cell below by changing the `batch_id` and `sample_id`. The `batch_id` is the id for a batch (1-5). The `sample_id` is the id for a image and label pair in the batch.\n",
    "\n",
    "Ask yourself \"What are all possible labels?\", \"What is the range of values for the image data?\", \"Are the labels in order or random?\".  Answers to questions like these will help you preprocess the data and end up with better predictions."
   ]
  },
  {
   "cell_type": "code",
   "execution_count": 1,
   "metadata": {
    "collapsed": false
   },
   "outputs": [
    {
     "ename": "NameError",
     "evalue": "name 'cifar10_dataset_folder_path' is not defined",
     "output_type": "error",
     "traceback": [
      "\u001b[0;31m---------------------------------------------------------------------------\u001b[0m",
      "\u001b[0;31mNameError\u001b[0m                                 Traceback (most recent call last)",
      "\u001b[0;32m<ipython-input-1-83dee4509a81>\u001b[0m in \u001b[0;36m<module>\u001b[0;34m()\u001b[0m\n\u001b[1;32m      8\u001b[0m \u001b[0mbatch_id\u001b[0m \u001b[0;34m=\u001b[0m \u001b[0;36m1\u001b[0m\u001b[0;34m\u001b[0m\u001b[0m\n\u001b[1;32m      9\u001b[0m \u001b[0msample_id\u001b[0m \u001b[0;34m=\u001b[0m \u001b[0;36m4\u001b[0m\u001b[0;34m\u001b[0m\u001b[0m\n\u001b[0;32m---> 10\u001b[0;31m \u001b[0mhelper\u001b[0m\u001b[0;34m.\u001b[0m\u001b[0mdisplay_stats\u001b[0m\u001b[0;34m(\u001b[0m\u001b[0mcifar10_dataset_folder_path\u001b[0m\u001b[0;34m,\u001b[0m \u001b[0mbatch_id\u001b[0m\u001b[0;34m,\u001b[0m \u001b[0msample_id\u001b[0m\u001b[0;34m)\u001b[0m\u001b[0;34m\u001b[0m\u001b[0m\n\u001b[0m",
      "\u001b[0;31mNameError\u001b[0m: name 'cifar10_dataset_folder_path' is not defined"
     ]
    }
   ],
   "source": [
    "%matplotlib inline\n",
    "%config InlineBackend.figure_format = 'retina'\n",
    "\n",
    "import helper\n",
    "import numpy as np\n",
    "\n",
    "# Explore the dataset\n",
    "batch_id = 1\n",
    "sample_id = 4\n",
    "helper.display_stats(cifar10_dataset_folder_path, batch_id, sample_id)"
   ]
  },
  {
   "cell_type": "markdown",
   "metadata": {},
   "source": [
    "## Implement Preprocess Functions\n",
    "### Normalize\n",
    "In the cell below, implement the `normalize` function to take in image data, `x`, and return it as a normalized Numpy array. The values should be in the range of 0 to 1, inclusive.  The return object should be the same shape as `x`."
   ]
  },
  {
   "cell_type": "code",
   "execution_count": 3,
   "metadata": {
    "collapsed": false
   },
   "outputs": [
    {
     "name": "stdout",
     "output_type": "stream",
     "text": [
      "Tests Passed\n"
     ]
    }
   ],
   "source": [
    "def normalize(image_data):\n",
    "    \"\"\"\n",
    "    Normalize a list of sample image data in the range of 0 to 1\n",
    "    : x: List of image data.  The image shape is (32, 32, 3)\n",
    "    : return: Numpy array of normalize data\n",
    "    \"\"\"\n",
    "\n",
    "    Xmin = np.amax(image_data)\n",
    "    Xmax = np.amin(image_data)\n",
    "    return ( image_data - Xmin )/( Xmax - Xmin ) \n",
    "'''\n",
    "    output = []\n",
    "    for image in images:\n",
    "        normalized_image = np.zeros((32,32,3))\n",
    "        Xmin = np.amax(image)\n",
    "        Xmax = np.amin(image)\n",
    "        for row in range(32):\n",
    "            for column in range(32):\n",
    "                for color in range(3):\n",
    "                    X = image[row,column,color]\n",
    "                    #print(X)\n",
    "                    normalized_image[row,column,color] = (X-Xmin)/(Xmax-Xmin)\n",
    "        output.append(normalized_image)\n",
    "\n",
    "    return np.array(output)\n",
    "'''\n",
    "\"\"\"\n",
    "DON'T MODIFY ANYTHING IN THIS CELL THAT IS BELOW THIS LINE\n",
    "\"\"\"\n",
    "tests.test_normalize(normalize)"
   ]
  },
  {
   "cell_type": "markdown",
   "metadata": {},
   "source": [
    "### One-hot encode\n",
    "Just like the previous code cell, you'll be implementing a function for preprocessing.  This time, you'll implement the `one_hot_encode` function. The input, `x`, are a list of labels.  Implement the function to return the list of labels as One-Hot encoded Numpy array.  The possible values for labels are 0 to 9. The one-hot encoding function should return the same encoding for each value between each call to `one_hot_encode`.  Make sure to save the map of encodings outside the function.\n",
    "\n",
    "**Hint:**\n",
    "\n",
    "Look into LabelBinarizer in the preprocessing module of sklearn."
   ]
  },
  {
   "cell_type": "code",
   "execution_count": 4,
   "metadata": {
    "collapsed": false
   },
   "outputs": [
    {
     "name": "stdout",
     "output_type": "stream",
     "text": [
      "Tests Passed\n"
     ]
    }
   ],
   "source": [
    "from sklearn import preprocessing\n",
    "lb = preprocessing.LabelBinarizer()\n",
    "\n",
    "def one_hot_encode(x):\n",
    "    \"\"\"\n",
    "    One hot encode a list of sample labels. Return a one-hot encoded vector for each label.\n",
    "    : x: List of sample Labels\n",
    "    : return: Numpy array of one-hot encoded labels\n",
    "    \"\"\"\n",
    "    lb.fit([0,1,2,3,4,5,6,7,8,9])\n",
    "    return lb.transform(x)\n",
    "\n",
    "\n",
    "\"\"\"\n",
    "DON'T MODIFY ANYTHING IN THIS CELL THAT IS BELOW THIS LINE\n",
    "\"\"\"\n",
    "tests.test_one_hot_encode(one_hot_encode)"
   ]
  },
  {
   "cell_type": "markdown",
   "metadata": {},
   "source": [
    "### Randomize Data\n",
    "As you saw from exploring the data above, the order of the samples are randomized.  It doesn't hurt to randomize it again, but you don't need to for this dataset."
   ]
  },
  {
   "cell_type": "markdown",
   "metadata": {},
   "source": [
    "## Preprocess all the data and save it\n",
    "Running the code cell below will preprocess all the CIFAR-10 data and save it to file. The code below also uses 10% of the training data for validation."
   ]
  },
  {
   "cell_type": "code",
   "execution_count": 176,
   "metadata": {
    "collapsed": false
   },
   "outputs": [
    {
     "ename": "NameError",
     "evalue": "name 'cifar10_dataset_folder_path' is not defined",
     "output_type": "error",
     "traceback": [
      "\u001b[0;31m---------------------------------------------------------------------------\u001b[0m",
      "\u001b[0;31mNameError\u001b[0m                                 Traceback (most recent call last)",
      "\u001b[0;32m<ipython-input-176-2e43b03e04f3>\u001b[0m in \u001b[0;36m<module>\u001b[0;34m()\u001b[0m\n\u001b[1;32m      3\u001b[0m \"\"\"\n\u001b[1;32m      4\u001b[0m \u001b[0;31m# Preprocess Training, Validation, and Testing Data\u001b[0m\u001b[0;34m\u001b[0m\u001b[0;34m\u001b[0m\u001b[0m\n\u001b[0;32m----> 5\u001b[0;31m \u001b[0mhelper\u001b[0m\u001b[0;34m.\u001b[0m\u001b[0mpreprocess_and_save_data\u001b[0m\u001b[0;34m(\u001b[0m\u001b[0mcifar10_dataset_folder_path\u001b[0m\u001b[0;34m,\u001b[0m \u001b[0mnormalize\u001b[0m\u001b[0;34m,\u001b[0m \u001b[0mone_hot_encode\u001b[0m\u001b[0;34m)\u001b[0m\u001b[0;34m\u001b[0m\u001b[0m\n\u001b[0m",
      "\u001b[0;31mNameError\u001b[0m: name 'cifar10_dataset_folder_path' is not defined"
     ]
    }
   ],
   "source": [
    "\"\"\"\n",
    "DON'T MODIFY ANYTHING IN THIS CELL\n",
    "\"\"\"\n",
    "# Preprocess Training, Validation, and Testing Data\n",
    "helper.preprocess_and_save_data(cifar10_dataset_folder_path, normalize, one_hot_encode)"
   ]
  },
  {
   "cell_type": "markdown",
   "metadata": {},
   "source": [
    "# Check Point\n",
    "This is your first checkpoint.  If you ever decide to come back to this notebook or have to restart the notebook, you can start from here.  The preprocessed data has been saved to disk."
   ]
  },
  {
   "cell_type": "code",
   "execution_count": 232,
   "metadata": {
    "collapsed": false
   },
   "outputs": [],
   "source": [
    "\"\"\"\n",
    "DON'T MODIFY ANYTHING IN THIS CELL\n",
    "\"\"\"\n",
    "import pickle\n",
    "import problem_unittests as tests\n",
    "import helper\n",
    "\n",
    "# Load the Preprocessed Validation data\n",
    "valid_features, valid_labels = pickle.load(open('preprocess_validation.p', mode='rb'))"
   ]
  },
  {
   "cell_type": "markdown",
   "metadata": {},
   "source": [
    "## Build the network\n",
    "For the neural network, you'll build each layer into a function.  Most of the code you've seen has been outside of functions. To test your code more thoroughly, we require that you put each layer in a function.  This allows us to give you better feedback and test for simple mistakes using our unittests before you submit your project.\n",
    "\n",
    ">**Note:** If you're finding it hard to dedicate enough time for this course each week, we've provided a small shortcut to this part of the project. In the next couple of problems, you'll have the option to use classes from the [TensorFlow Layers](https://www.tensorflow.org/api_docs/python/tf/layers) or [TensorFlow Layers (contrib)](https://www.tensorflow.org/api_guides/python/contrib.layers) packages to build each layer, except the layers you build in the \"Convolutional and Max Pooling Layer\" section.  TF Layers is similar to Keras's and TFLearn's abstraction to layers, so it's easy to pickup.\n",
    "\n",
    ">However, if you would like to get the most out of this course, try to solve all the problems _without_ using anything from the TF Layers packages. You **can** still use classes from other packages that happen to have the same name as ones you find in TF Layers! For example, instead of using the TF Layers version of the `conv2d` class, [tf.layers.conv2d](https://www.tensorflow.org/api_docs/python/tf/layers/conv2d), you would want to use the TF Neural Network version of `conv2d`, [tf.nn.conv2d](https://www.tensorflow.org/api_docs/python/tf/nn/conv2d). \n",
    "\n",
    "Let's begin!\n",
    "\n",
    "### Input\n",
    "The neural network needs to read the image data, one-hot encoded labels, and dropout keep probability. Implement the following functions\n",
    "* Implement `neural_net_image_input`\n",
    " * Return a [TF Placeholder](https://www.tensorflow.org/api_docs/python/tf/placeholder)\n",
    " * Set the shape using `image_shape` with batch size set to `None`.\n",
    " * Name the TensorFlow placeholder \"x\" using the TensorFlow `name` parameter in the [TF Placeholder](https://www.tensorflow.org/api_docs/python/tf/placeholder).\n",
    "* Implement `neural_net_label_input`\n",
    " * Return a [TF Placeholder](https://www.tensorflow.org/api_docs/python/tf/placeholder)\n",
    " * Set the shape using `n_classes` with batch size set to `None`.\n",
    " * Name the TensorFlow placeholder \"y\" using the TensorFlow `name` parameter in the [TF Placeholder](https://www.tensorflow.org/api_docs/python/tf/placeholder).\n",
    "* Implement `neural_net_keep_prob_input`\n",
    " * Return a [TF Placeholder](https://www.tensorflow.org/api_docs/python/tf/placeholder) for dropout keep probability.\n",
    " * Name the TensorFlow placeholder \"keep_prob\" using the TensorFlow `name` parameter in the [TF Placeholder](https://www.tensorflow.org/api_docs/python/tf/placeholder).\n",
    "\n",
    "These names will be used at the end of the project to load your saved model.\n",
    "\n",
    "Note: `None` for shapes in TensorFlow allow for a dynamic size."
   ]
  },
  {
   "cell_type": "code",
   "execution_count": 233,
   "metadata": {
    "collapsed": false
   },
   "outputs": [
    {
     "name": "stdout",
     "output_type": "stream",
     "text": [
      "Image Input Tests Passed.\n",
      "Label Input Tests Passed.\n",
      "Keep Prob Tests Passed.\n"
     ]
    }
   ],
   "source": [
    "import tensorflow as tf\n",
    "\n",
    "def neural_net_image_input(image_shape):\n",
    "    \"\"\"\n",
    "    Return a Tensor for a batch of image input\n",
    "    : image_shape: Shape of the images\n",
    "    : return: Tensor for image input.\n",
    "    \"\"\"\n",
    "    image_shape = list((None,)+image_shape)\n",
    "    return tf.placeholder(tf.float32,shape=image_shape,name='x')\n",
    "\n",
    "\n",
    "def neural_net_label_input(n_classes):\n",
    "    \"\"\"\n",
    "    Return a Tensor for a batch of label input\n",
    "    : n_classes: Number of classes\n",
    "    : return: Tensor for label input.\n",
    "    \"\"\"\n",
    "    n_classes = [None, n_classes]\n",
    "    return tf.placeholder(tf.float32,shape=n_classes,name='y')\n",
    "\n",
    "\n",
    "def neural_net_keep_prob_input():\n",
    "    \"\"\"\n",
    "    Return a Tensor for keep probability\n",
    "    : return: Tensor for keep probability.\n",
    "    \"\"\"\n",
    "    # TODO: Implement Function\n",
    "    return tf.placeholder(tf.float32,name='keep_prob')\n",
    "\n",
    "\n",
    "\"\"\"\n",
    "DON'T MODIFY ANYTHING IN THIS CELL THAT IS BELOW THIS LINE\n",
    "\"\"\"\n",
    "tf.reset_default_graph()\n",
    "tests.test_nn_image_inputs(neural_net_image_input)\n",
    "tests.test_nn_label_inputs(neural_net_label_input)\n",
    "tests.test_nn_keep_prob_inputs(neural_net_keep_prob_input)"
   ]
  },
  {
   "cell_type": "markdown",
   "metadata": {},
   "source": [
    "### Convolution and Max Pooling Layer\n",
    "Convolution layers have a lot of success with images. For this code cell, you should implement the function `conv2d_maxpool` to apply convolution then max pooling:\n",
    "* Create the weight and bias using `conv_ksize`, `conv_num_outputs` and the shape of `x_tensor`.\n",
    "* Apply a convolution to `x_tensor` using weight and `conv_strides`.\n",
    " * We recommend you use same padding, but you're welcome to use any padding.\n",
    "* Add bias\n",
    "* Add a nonlinear activation to the convolution.\n",
    "* Apply Max Pooling using `pool_ksize` and `pool_strides`.\n",
    " * We recommend you use same padding, but you're welcome to use any padding.\n",
    "\n",
    "**Note:** You **can't** use [TensorFlow Layers](https://www.tensorflow.org/api_docs/python/tf/layers) or [TensorFlow Layers (contrib)](https://www.tensorflow.org/api_guides/python/contrib.layers) for **this** layer, but you can still use TensorFlow's [Neural Network](https://www.tensorflow.org/api_docs/python/tf/nn) package. You may still use the shortcut option for all the **other** layers.\n",
    "\n",
    "** Hint: **\n",
    "\n",
    "When unpacking values as an argument in Python, look into the [unpacking](https://docs.python.org/3/tutorial/controlflow.html#unpacking-argument-lists) operator. "
   ]
  },
  {
   "cell_type": "code",
   "execution_count": 234,
   "metadata": {
    "collapsed": false
   },
   "outputs": [],
   "source": [
    "def conv2d(input):\n",
    "    # Filter (weights and bias)\n",
    "    # The shape of the filter weight is (height, width, input_depth, output_depth)\n",
    "    # The shape of the filter bias is (output_depth,)\n",
    "    # TODO: Define the filter weights `F_W` and filter bias `F_b`.\n",
    "    # NOTE: Remember to wrap them in `tf.Variable`, they are trainable parameters after all.\n",
    "    F_W = tf.Variable(tf.truncated_normal([2,2,1,3], mean=0.0, stddev=1.0, dtype=tf.float32, seed=None, name=None))\n",
    "    F_b = tf.Variable(tf.zeros([3], dtype=tf.float32, name=None))\n",
    "    # TODO: Set the stride for each dimension (batch_size, height, width, depth)\n",
    "    strides = [1,2,2,1]\n",
    "    # TODO: set the padding, either 'VALID' or 'SAME'.\n",
    "    padding = 'SAME'\n",
    "    # https://www.tensorflow.org/versions/r0.11/api_docs/python/nn.html#conv2d\n",
    "    # `tf.nn.conv2d` does not include the bias computation so we have to add it ourselves after.\n",
    "    return tf.nn.conv2d(input, F_W, strides, padding) + F_b\n"
   ]
  },
  {
   "cell_type": "code",
   "execution_count": null,
   "metadata": {
    "collapsed": true
   },
   "outputs": [],
   "source": []
  },
  {
   "cell_type": "code",
   "execution_count": 235,
   "metadata": {
    "collapsed": false
   },
   "outputs": [
    {
     "name": "stdout",
     "output_type": "stream",
     "text": [
      "Tests Passed\n"
     ]
    }
   ],
   "source": [
    "def conv2d_maxpool(x_tensor, conv_num_outputs, conv_ksize, conv_strides, pool_ksize, pool_strides):\n",
    "    \"\"\"\n",
    "    Apply convolution then max pooling to x_tensor\n",
    "    :param x_tensor: TensorFlow Tensor\n",
    "    :param conv_num_outputs: Number of outputs for the convolutional layer\n",
    "    :param conv_ksize: kernal size 2-D Tuple for the convolutional layer\n",
    "    :param conv_strides: Stride 2-D Tuple for convolution\n",
    "    :param pool_ksize: kernal size 2-D Tuple for pool\n",
    "    :param pool_strides: Stride 2-D Tuple for pool\n",
    "    : return: A tensor that represents convolution and max pooling of x_tensor\n",
    "    \"\"\"\n",
    "    in_channels = int(list(x_tensor.shape)[3])\n",
    "    #print(in_channels)\n",
    "    F_W_shape = [conv_ksize[0],conv_ksize[1],in_channels,conv_num_outputs]\n",
    "    #print(F_W_shape)\n",
    "    F_W = tf.Variable(tf.truncated_normal(F_W_shape, mean=0.0, stddev=1.0, dtype=tf.float32))\n",
    "    F_b = tf.Variable(tf.zeros([conv_num_outputs], dtype=tf.float32, name=None))\n",
    "    padding = 'SAME'\n",
    "    #print('f_W:', F_W)\n",
    "    #print('f_b:', F_b)\n",
    "    #print('x_tensor: ', x_tensor, 'conv_num_outputs: ', conv_num_outputs, 'conv_ksize: ', conv_ksize)\n",
    "    #print('conv_strides: ',conv_strides, 'pool_ksize: ', pool_ksize,'pool_strides: ', pool_strides)\n",
    "    conv_strides = list((1,)+conv_strides+(1,))\n",
    "    #print(conv_strides)\n",
    "    out = tf.nn.conv2d(x_tensor, F_W, conv_strides, padding) + F_b\n",
    "    pool_ksize = list((1,)+pool_ksize+(1,))\n",
    "    pool_strides = list((1,)+pool_strides+(1,))\n",
    "    return tf.nn.max_pool(out, pool_ksize, pool_strides, padding) \n",
    "\"\"\"\n",
    "DON'T MODIFY ANYTHING IN THIS CELL THAT IS BELOW THIS LINE\n",
    "\"\"\"\n",
    "tests.test_con_pool(conv2d_maxpool)"
   ]
  },
  {
   "cell_type": "markdown",
   "metadata": {},
   "source": [
    "### Flatten Layer\n",
    "Implement the `flatten` function to change the dimension of `x_tensor` from a 4-D tensor to a 2-D tensor.  The output should be the shape (*Batch Size*, *Flattened Image Size*). Shortcut option: you can use classes from the [TensorFlow Layers](https://www.tensorflow.org/api_docs/python/tf/layers) or [TensorFlow Layers (contrib)](https://www.tensorflow.org/api_guides/python/contrib.layers) packages for this layer. For more of a challenge, only use other TensorFlow packages."
   ]
  },
  {
   "cell_type": "code",
   "execution_count": 236,
   "metadata": {
    "collapsed": false
   },
   "outputs": [
    {
     "name": "stdout",
     "output_type": "stream",
     "text": [
      "Tests Passed\n"
     ]
    }
   ],
   "source": [
    "import numpy as np\n",
    "def flatten(x_tensor):\n",
    "    \"\"\"\n",
    "    Flatten x_tensor to (Batch Size, Flattened Image Size)\n",
    "    : x_tensor: A tensor of size (Batch Size, ...), where ... are the image dimensions.\n",
    "    : return: A tensor of size (Batch Size, Flattened Image Size).\n",
    "    \"\"\"\n",
    "    shape = x_tensor.get_shape().as_list()        \n",
    "    #print(shape)\n",
    "    \n",
    "    dim = np.prod(shape[1:])\n",
    "    #print(dim)\n",
    "    return tf.reshape(x_tensor, [-1, dim])\n",
    "\n",
    "\n",
    "\"\"\"\n",
    "DON'T MODIFY ANYTHING IN THIS CELL THAT IS BELOW THIS LINE\n",
    "\"\"\"\n",
    "tests.test_flatten(flatten)"
   ]
  },
  {
   "cell_type": "markdown",
   "metadata": {},
   "source": [
    "### Fully-Connected Layer\n",
    "Implement the `fully_conn` function to apply a fully connected layer to `x_tensor` with the shape (*Batch Size*, *num_outputs*). Shortcut option: you can use classes from the [TensorFlow Layers](https://www.tensorflow.org/api_docs/python/tf/layers) or [TensorFlow Layers (contrib)](https://www.tensorflow.org/api_guides/python/contrib.layers) packages for this layer. For more of a challenge, only use other TensorFlow packages."
   ]
  },
  {
   "cell_type": "code",
   "execution_count": 237,
   "metadata": {
    "collapsed": true
   },
   "outputs": [],
   "source": [
    "#####NOTE TO SELF: Change the names of the variables in this cell to be more general for hidden layers (not just output)\n",
    "def get_weights(n_features, n_labels):\n",
    "    \"\"\"\n",
    "    Return TensorFlow weights\n",
    "    :param n_features: Number of features\n",
    "    :param n_labels: Number of labels\n",
    "    :return: TensorFlow weights\n",
    "    \"\"\"\n",
    "    return tf.Variable(tf.truncated_normal((n_features, n_labels)))\n",
    "\n",
    "\n",
    "def get_biases(n_labels):\n",
    "    \"\"\"\n",
    "    Return TensorFlow bias\n",
    "    :param n_labels: Number of labels\n",
    "    :return: TensorFlow bias\n",
    "    \"\"\"\n",
    "    return tf.Variable(tf.zeros(n_labels))\n",
    "\n",
    "\n",
    "def linear(input, w, b):\n",
    "    \"\"\"\n",
    "    Return linear function in TensorFlow\n",
    "    :param input: TensorFlow input\n",
    "    :param w: TensorFlow weights\n",
    "    :param b: TensorFlow biases\n",
    "    :return: TensorFlow linear function\n",
    "    \"\"\"\n",
    "    return tf.add(tf.matmul(input,w),b)"
   ]
  },
  {
   "cell_type": "code",
   "execution_count": 238,
   "metadata": {
    "collapsed": false
   },
   "outputs": [
    {
     "name": "stdout",
     "output_type": "stream",
     "text": [
      "Tests Passed\n"
     ]
    }
   ],
   "source": [
    "def fully_conn(x_tensor, num_outputs):\n",
    "    \"\"\"\n",
    "    Apply a fully connected layer to x_tensor using weight and bias\n",
    "    : x_tensor: A 2-D tensor where the first dimension is batch size.\n",
    "    : num_outputs: The number of output that the new tensor should be.\n",
    "    : return: A 2-D tensor where the second dimension is num_outputs.\n",
    "    \"\"\"\n",
    "    num_inputs = x_tensor.shape.as_list()[1]\n",
    "    weights = get_weights(num_inputs,num_outputs)\n",
    "    biases = get_biases(num_outputs)\n",
    "    return linear(x_tensor,weights,biases)\n",
    "\n",
    "\n",
    "\"\"\"\n",
    "DON'T MODIFY ANYTHING IN THIS CELL THAT IS BELOW THIS LINE\n",
    "\"\"\"\n",
    "tests.test_fully_conn(fully_conn)"
   ]
  },
  {
   "cell_type": "markdown",
   "metadata": {},
   "source": [
    "### Output Layer\n",
    "Implement the `output` function to apply a fully connected layer to `x_tensor` with the shape (*Batch Size*, *num_outputs*). Shortcut option: you can use classes from the [TensorFlow Layers](https://www.tensorflow.org/api_docs/python/tf/layers) or [TensorFlow Layers (contrib)](https://www.tensorflow.org/api_guides/python/contrib.layers) packages for this layer. For more of a challenge, only use other TensorFlow packages.\n",
    "\n",
    "**Note:** Activation, softmax, or cross entropy should **not** be applied to this."
   ]
  },
  {
   "cell_type": "code",
   "execution_count": 239,
   "metadata": {
    "collapsed": false
   },
   "outputs": [
    {
     "name": "stdout",
     "output_type": "stream",
     "text": [
      "Tests Passed\n"
     ]
    }
   ],
   "source": [
    "def output(x_tensor, num_outputs):\n",
    "    \"\"\"\n",
    "    Apply a output layer to x_tensor using weight and bias\n",
    "    : x_tensor: A 2-D tensor where the first dimension is batch size.\n",
    "    : num_outputs: The number of output that the new tensor should be.\n",
    "    : return: A 2-D tensor where the second dimension is num_outputs.\n",
    "    \"\"\"\n",
    "    num_inputs = x_tensor.shape.as_list()[1]\n",
    "    weights = get_weights(num_inputs,num_outputs)\n",
    "    biases = get_biases(num_outputs)\n",
    "    return linear(x_tensor,weights,biases)\n",
    "\n",
    "\n",
    "\"\"\"\n",
    "DON'T MODIFY ANYTHING IN THIS CELL THAT IS BELOW THIS LINE\n",
    "\"\"\"\n",
    "tests.test_output(output)"
   ]
  },
  {
   "cell_type": "markdown",
   "metadata": {},
   "source": [
    "### Create Convolutional Model\n",
    "Implement the function `conv_net` to create a convolutional neural network model. The function takes in a batch of images, `x`, and outputs logits.  Use the layers you created above to create this model:\n",
    "\n",
    "* Apply 1, 2, or 3 Convolution and Max Pool layers\n",
    "* Apply a Flatten Layer\n",
    "* Apply 1, 2, or 3 Fully Connected Layers\n",
    "* Apply an Output Layer\n",
    "* Return the output\n",
    "* Apply [TensorFlow's Dropout](https://www.tensorflow.org/api_docs/python/tf/nn/dropout) to one or more layers in the model using `keep_prob`. "
   ]
  },
  {
   "cell_type": "code",
   "execution_count": 292,
   "metadata": {
    "collapsed": false
   },
   "outputs": [
    {
     "name": "stdout",
     "output_type": "stream",
     "text": [
      "First convolutional layer:  Tensor(\"MaxPool:0\", shape=(?, 16, 16, 10), dtype=float32)\n",
      "Second convolutional layer:  Tensor(\"MaxPool_1:0\", shape=(?, 8, 8, 10), dtype=float32)\n",
      "Flattened:  Tensor(\"Reshape:0\", shape=(?, 640), dtype=float32)\n",
      "First fully connected layer:  Tensor(\"Add:0\", shape=(?, 30), dtype=float32)\n",
      "Output layer:  Tensor(\"Add_1:0\", shape=(?, 10), dtype=float32)\n",
      "First convolutional layer:  Tensor(\"MaxPool_2:0\", shape=(?, 16, 16, 10), dtype=float32)\n",
      "Second convolutional layer:  Tensor(\"MaxPool_3:0\", shape=(?, 8, 8, 10), dtype=float32)\n",
      "Flattened:  Tensor(\"Reshape_4:0\", shape=(?, 640), dtype=float32)\n",
      "First fully connected layer:  Tensor(\"Add_2:0\", shape=(?, 30), dtype=float32)\n",
      "Output layer:  Tensor(\"Add_3:0\", shape=(?, 10), dtype=float32)\n",
      "Neural Network Built!\n"
     ]
    }
   ],
   "source": [
    "#NOTE TO SELF: need to look at DROPOUT with keep_prob\n",
    "def conv_net(x, keep_prob):\n",
    "    \"\"\"\n",
    "    Create a convolutional neural network model\n",
    "    : x: Placeholder tensor that holds image data.\n",
    "    : keep_prob: Placeholder tensor that hold dropout keep probability.\n",
    "    : return: Tensor that represents logits\n",
    "    \"\"\"\n",
    "    # TODO: Apply 1, 2, or 3 Convolution and Max Pool layers\n",
    "    #    Play around with different number of outputs, kernel size and stride\n",
    "    # Function Definition from Above:\n",
    "    #    conv2d_maxpool(x_tensor, conv_num_outputs, conv_ksize, conv_strides, pool_ksize, pool_strides)\n",
    "    conv_num_outputs = 10\n",
    "    conv_ksize = (4,4)\n",
    "    conv_strides = (1,1)\n",
    "    pool_ksize = (2,2)\n",
    "    pool_strides = (2,2)\n",
    "    x = conv2d_maxpool(x, conv_num_outputs, conv_ksize, conv_strides, pool_ksize, pool_strides)\n",
    "    print(\"First convolutional layer: \",x)\n",
    "    x = conv2d_maxpool(x, conv_num_outputs, conv_ksize, conv_strides, pool_ksize, pool_strides)\n",
    "    print(\"Second convolutional layer: \",x)\n",
    "    # TODO: Apply a Flatten Layer\n",
    "    # Function Definition from Above:\n",
    "    #   flatten(x_tensor)\n",
    "    x = flatten(x)\n",
    "    print(\"Flattened: \",x)\n",
    "\n",
    "    # TODO: Apply 1, 2, or 3 Fully Connected Layers\n",
    "    #    Play around with different number of outputs\n",
    "    # Function Definition from Above:\n",
    "    #   fully_conn(x_tensor, num_outputs)\n",
    "    num_outputs_fully_conn_layer = 30 \n",
    "    x = fully_conn(x, num_outputs_fully_conn_layer)\n",
    "    print(\"First fully connected layer: \",x)\n",
    "    \n",
    "    # TODO: Apply an Output Layer\n",
    "    #    Set this to the number of classes\n",
    "    # Function Definition from Above:\n",
    "    #   output(x_tensor, num_outputs)\n",
    "    num_outputs_output_layer = 10\n",
    "    x = output(x,num_outputs_output_layer)\n",
    "    print(\"Output layer: \",x)\n",
    "    \n",
    "    # TODO: return output\n",
    "    return x\n",
    "\n",
    "\n",
    "\"\"\"\n",
    "DON'T MODIFY ANYTHING IN THIS CELL THAT IS BELOW THIS LINE\n",
    "\"\"\"\n",
    "\n",
    "##############################\n",
    "## Build the Neural Network ##\n",
    "##############################\n",
    "\n",
    "# Remove previous weights, bias, inputs, etc..\n",
    "tf.reset_default_graph()\n",
    "\n",
    "# Inputs\n",
    "x = neural_net_image_input((32, 32, 3))\n",
    "y = neural_net_label_input(10)\n",
    "keep_prob = neural_net_keep_prob_input()\n",
    "\n",
    "# Model\n",
    "logits = conv_net(x, keep_prob)\n",
    "\n",
    "# Name logits Tensor, so that is can be loaded from disk after training\n",
    "logits = tf.identity(logits, name='logits')\n",
    "\n",
    "# Loss and Optimizer\n",
    "cost = tf.reduce_mean(tf.nn.softmax_cross_entropy_with_logits(logits=logits, labels=y))\n",
    "optimizer = tf.train.AdamOptimizer().minimize(cost)\n",
    "\n",
    "# Accuracy\n",
    "correct_pred = tf.equal(tf.argmax(logits, 1), tf.argmax(y, 1))\n",
    "accuracy = tf.reduce_mean(tf.cast(correct_pred, tf.float32), name='accuracy')\n",
    "\n",
    "tests.test_conv_net(conv_net)"
   ]
  },
  {
   "cell_type": "code",
   "execution_count": 293,
   "metadata": {
    "collapsed": false
   },
   "outputs": [
    {
     "data": {
      "text/plain": [
       "<tf.Tensor 'x:0' shape=(?, 32, 32, 3) dtype=float32>"
      ]
     },
     "execution_count": 293,
     "metadata": {},
     "output_type": "execute_result"
    }
   ],
   "source": [
    "x"
   ]
  },
  {
   "cell_type": "markdown",
   "metadata": {},
   "source": [
    "## Train the Neural Network\n",
    "### Single Optimization\n",
    "Implement the function `train_neural_network` to do a single optimization.  The optimization should use `optimizer` to optimize in `session` with a `feed_dict` of the following:\n",
    "* `x` for image input\n",
    "* `y` for labels\n",
    "* `keep_prob` for keep probability for dropout\n",
    "\n",
    "This function will be called for each batch, so `tf.global_variables_initializer()` has already been called.\n",
    "\n",
    "Note: Nothing needs to be returned. This function is only optimizing the neural network."
   ]
  },
  {
   "cell_type": "code",
   "execution_count": 294,
   "metadata": {
    "collapsed": false
   },
   "outputs": [
    {
     "name": "stdout",
     "output_type": "stream",
     "text": [
      "Tests Passed\n"
     ]
    }
   ],
   "source": [
    "def train_neural_network(session, optimizer, keep_probability, feature_batch, label_batch):\n",
    "    \"\"\"\n",
    "    Optimize the session on a batch of images and labels\n",
    "    : session: Current TensorFlow session\n",
    "    : optimizer: TensorFlow optimizer function\n",
    "    : keep_probability: keep probability\n",
    "    : feature_batch: Batch of Numpy image data\n",
    "    : label_batch: Batch of Numpy label data\n",
    "    \"\"\"\n",
    "    # TODO: Implement Function\n",
    "    #print(session, optimizer, keep_probability, feature_batch, label_batch)\n",
    "    #print(optimizer)\n",
    "    \n",
    "    _ = session.run(optimizer, feed_dict={x: feature_batch, y: label_batch, keep_prob: keep_probability})\n",
    "\n",
    "\"\"\"\n",
    "DON'T MODIFY ANYTHING IN THIS CELL THAT IS BELOW THIS LINE\n",
    "\"\"\"\n",
    "tests.test_train_nn(train_neural_network)"
   ]
  },
  {
   "cell_type": "markdown",
   "metadata": {},
   "source": [
    "### Show Stats\n",
    "Implement the function `print_stats` to print loss and validation accuracy.  Use the global variables `valid_features` and `valid_labels` to calculate validation accuracy.  Use a keep probability of `1.0` to calculate the loss and validation accuracy."
   ]
  },
  {
   "cell_type": "code",
   "execution_count": 295,
   "metadata": {
    "collapsed": false
   },
   "outputs": [],
   "source": [
    "def print_stats(session, feature_batch, label_batch, cost, accuracy):\n",
    "    \"\"\"\n",
    "    Print information about loss and validation accuracy\n",
    "    : session: Current TensorFlow session\n",
    "    : feature_batch: Batch of Numpy image data\n",
    "    : label_batch: Batch of Numpy label data\n",
    "    : cost: TensorFlow cost function\n",
    "    : accuracy: TensorFlow accuracy function\n",
    "    \"\"\"\n",
    "    print('Cost: ', session.run(cost,feed_dict={x:feature_batch,y:label_batch,keep_prob: 1.0}))\n",
    "    print('Accuracy: ',session.run(accuracy,feed_dict={x:feature_batch,y:label_batch,keep_prob: 1.0}))\n",
    "    \n",
    "    \n",
    "    #print(type(label_batch))\n",
    "    #print(tf.cast(feature_batch,tf.float32))\n",
    "    #print(session.run(tf.cast(feature_batch,tf.float32)))\n",
    "    #features = tf.cast(feature_batch,tf.float32)\n",
    "    #logits = conv_net(features, tf.cast(1.0,tf.float32))\n",
    "    #_ = session.run(logits, feed_dict={x:feature_batch,y:label_batch,keep_prob: 1.0})\n",
    "    #print(\"LOGITS:\",logits)\n",
    "    #print(session.run(logits))\n",
    "    \n",
    "    #c = session.run(cost, feed_dict = {logits:logits, y:label_batch})\n",
    "    # TODO: Implement Function\n",
    "    #print('Cost: ',c,'Accuracy: ',accuracy)\n",
    "\n",
    "    "
   ]
  },
  {
   "cell_type": "markdown",
   "metadata": {},
   "source": [
    "### Hyperparameters\n",
    "Tune the following parameters:\n",
    "* Set `epochs` to the number of iterations until the network stops learning or start overfitting\n",
    "* Set `batch_size` to the highest number that your machine has memory for.  Most people set them to common sizes of memory:\n",
    " * 64\n",
    " * 128\n",
    " * 256\n",
    " * ...\n",
    "* Set `keep_probability` to the probability of keeping a node using dropout"
   ]
  },
  {
   "cell_type": "code",
   "execution_count": 296,
   "metadata": {
    "collapsed": true
   },
   "outputs": [],
   "source": [
    "# TODO: Tune Parameters\n",
    "epochs = 100\n",
    "batch_size = 128\n",
    "keep_probability = .8"
   ]
  },
  {
   "cell_type": "markdown",
   "metadata": {},
   "source": [
    "### Train on a Single CIFAR-10 Batch\n",
    "Instead of training the neural network on all the CIFAR-10 batches of data, let's use a single batch. This should save time while you iterate on the model to get a better accuracy.  Once the final validation accuracy is 50% or greater, run the model on all the data in the next section."
   ]
  },
  {
   "cell_type": "code",
   "execution_count": 297,
   "metadata": {
    "collapsed": false
   },
   "outputs": [
    {
     "name": "stdout",
     "output_type": "stream",
     "text": [
      "Checking the Training on a Single Batch...\n",
      "Epoch  1, CIFAR-10 Batch 1:  Cost:  210187.0\n",
      "Accuracy:  0.225\n",
      "Epoch  2, CIFAR-10 Batch 1:  Cost:  167978.0\n",
      "Accuracy:  0.25\n",
      "Epoch  3, CIFAR-10 Batch 1:  Cost:  155726.0\n",
      "Accuracy:  0.225\n",
      "Epoch  4, CIFAR-10 Batch 1:  Cost:  141532.0\n",
      "Accuracy:  0.225\n",
      "Epoch  5, CIFAR-10 Batch 1:  Cost:  126977.0\n",
      "Accuracy:  0.225\n",
      "Epoch  6, CIFAR-10 Batch 1:  Cost:  113779.0\n",
      "Accuracy:  0.225\n",
      "Epoch  7, CIFAR-10 Batch 1:  Cost:  103661.0\n",
      "Accuracy:  0.175\n",
      "Epoch  8, CIFAR-10 Batch 1:  Cost:  93316.4\n",
      "Accuracy:  0.175\n",
      "Epoch  9, CIFAR-10 Batch 1:  Cost:  83773.2\n",
      "Accuracy:  0.175\n",
      "Epoch 10, CIFAR-10 Batch 1:  Cost:  75150.3\n",
      "Accuracy:  0.2\n",
      "Epoch 11, CIFAR-10 Batch 1:  Cost:  67538.9\n",
      "Accuracy:  0.2\n",
      "Epoch 12, CIFAR-10 Batch 1:  Cost:  60091.3\n",
      "Accuracy:  0.25\n",
      "Epoch 13, CIFAR-10 Batch 1:  Cost:  54303.1\n",
      "Accuracy:  0.275\n",
      "Epoch 14, CIFAR-10 Batch 1:  Cost:  48762.4\n",
      "Accuracy:  0.25\n",
      "Epoch 15, CIFAR-10 Batch 1:  Cost:  43613.7\n",
      "Accuracy:  0.3\n",
      "Epoch 16, CIFAR-10 Batch 1:  Cost:  39221.0\n",
      "Accuracy:  0.3\n",
      "Epoch 17, CIFAR-10 Batch 1:  Cost:  35741.7\n",
      "Accuracy:  0.3\n",
      "Epoch 18, CIFAR-10 Batch 1:  Cost:  32366.6\n",
      "Accuracy:  0.3\n",
      "Epoch 19, CIFAR-10 Batch 1:  Cost:  28851.9\n",
      "Accuracy:  0.325\n",
      "Epoch 20, CIFAR-10 Batch 1:  Cost:  26031.6\n",
      "Accuracy:  0.35\n",
      "Epoch 21, CIFAR-10 Batch 1:  Cost:  23711.7\n",
      "Accuracy:  0.4\n",
      "Epoch 22, CIFAR-10 Batch 1:  Cost:  21936.1\n",
      "Accuracy:  0.425\n",
      "Epoch 23, CIFAR-10 Batch 1:  Cost:  20377.0\n",
      "Accuracy:  0.375\n",
      "Epoch 24, CIFAR-10 Batch 1:  Cost:  19137.9\n",
      "Accuracy:  0.425\n",
      "Epoch 25, CIFAR-10 Batch 1:  Cost:  17815.6\n",
      "Accuracy:  0.35\n",
      "Epoch 26, CIFAR-10 Batch 1:  Cost:  16520.0\n",
      "Accuracy:  0.45\n",
      "Epoch 27, CIFAR-10 Batch 1:  Cost:  15628.0\n",
      "Accuracy:  0.475\n",
      "Epoch 28, CIFAR-10 Batch 1:  Cost:  14854.6\n",
      "Accuracy:  0.475\n",
      "Epoch 29, CIFAR-10 Batch 1:  Cost:  14199.0\n",
      "Accuracy:  0.425\n",
      "Epoch 30, CIFAR-10 Batch 1:  Cost:  13429.2\n",
      "Accuracy:  0.425\n",
      "Epoch 31, CIFAR-10 Batch 1:  Cost:  12529.5\n",
      "Accuracy:  0.45\n",
      "Epoch 32, CIFAR-10 Batch 1:  Cost:  11834.3\n",
      "Accuracy:  0.475\n",
      "Epoch 33, CIFAR-10 Batch 1:  Cost:  11150.3\n",
      "Accuracy:  0.525\n",
      "Epoch 34, CIFAR-10 Batch 1:  Cost:  10507.3\n",
      "Accuracy:  0.55\n",
      "Epoch 35, CIFAR-10 Batch 1:  Cost:  9840.18\n",
      "Accuracy:  0.55\n",
      "Epoch 36, CIFAR-10 Batch 1:  Cost:  9337.65\n",
      "Accuracy:  0.475\n",
      "Epoch 37, CIFAR-10 Batch 1:  Cost:  8762.38\n",
      "Accuracy:  0.475\n",
      "Epoch 38, CIFAR-10 Batch 1:  Cost:  8238.42\n",
      "Accuracy:  0.55\n",
      "Epoch 39, CIFAR-10 Batch 1:  Cost:  7917.62\n",
      "Accuracy:  0.5\n",
      "Epoch 40, CIFAR-10 Batch 1:  Cost:  7518.09\n",
      "Accuracy:  0.55\n",
      "Epoch 41, CIFAR-10 Batch 1:  Cost:  7201.8\n",
      "Accuracy:  0.55\n",
      "Epoch 42, CIFAR-10 Batch 1:  Cost:  6780.14\n",
      "Accuracy:  0.525\n"
     ]
    },
    {
     "ename": "KeyboardInterrupt",
     "evalue": "",
     "output_type": "error",
     "traceback": [
      "\u001b[0;31m---------------------------------------------------------------------------\u001b[0m",
      "\u001b[0;31mKeyboardInterrupt\u001b[0m                         Traceback (most recent call last)",
      "\u001b[0;32m<ipython-input-297-0ebd1bbc35ad>\u001b[0m in \u001b[0;36m<module>\u001b[0;34m()\u001b[0m\n\u001b[1;32m     11\u001b[0m         \u001b[0mbatch_i\u001b[0m \u001b[0;34m=\u001b[0m \u001b[0;36m1\u001b[0m\u001b[0;34m\u001b[0m\u001b[0m\n\u001b[1;32m     12\u001b[0m         \u001b[0;32mfor\u001b[0m \u001b[0mbatch_features\u001b[0m\u001b[0;34m,\u001b[0m \u001b[0mbatch_labels\u001b[0m \u001b[0;32min\u001b[0m \u001b[0mhelper\u001b[0m\u001b[0;34m.\u001b[0m\u001b[0mload_preprocess_training_batch\u001b[0m\u001b[0;34m(\u001b[0m\u001b[0mbatch_i\u001b[0m\u001b[0;34m,\u001b[0m \u001b[0mbatch_size\u001b[0m\u001b[0;34m)\u001b[0m\u001b[0;34m:\u001b[0m\u001b[0;34m\u001b[0m\u001b[0m\n\u001b[0;32m---> 13\u001b[0;31m             \u001b[0mtrain_neural_network\u001b[0m\u001b[0;34m(\u001b[0m\u001b[0msess\u001b[0m\u001b[0;34m,\u001b[0m \u001b[0moptimizer\u001b[0m\u001b[0;34m,\u001b[0m \u001b[0mkeep_probability\u001b[0m\u001b[0;34m,\u001b[0m \u001b[0mbatch_features\u001b[0m\u001b[0;34m,\u001b[0m \u001b[0mbatch_labels\u001b[0m\u001b[0;34m)\u001b[0m\u001b[0;34m\u001b[0m\u001b[0m\n\u001b[0m\u001b[1;32m     14\u001b[0m         \u001b[0mprint\u001b[0m\u001b[0;34m(\u001b[0m\u001b[0;34m'Epoch {:>2}, CIFAR-10 Batch {}:  '\u001b[0m\u001b[0;34m.\u001b[0m\u001b[0mformat\u001b[0m\u001b[0;34m(\u001b[0m\u001b[0mepoch\u001b[0m \u001b[0;34m+\u001b[0m \u001b[0;36m1\u001b[0m\u001b[0;34m,\u001b[0m \u001b[0mbatch_i\u001b[0m\u001b[0;34m)\u001b[0m\u001b[0;34m,\u001b[0m \u001b[0mend\u001b[0m\u001b[0;34m=\u001b[0m\u001b[0;34m''\u001b[0m\u001b[0;34m)\u001b[0m\u001b[0;34m\u001b[0m\u001b[0m\n\u001b[1;32m     15\u001b[0m         \u001b[0mprint_stats\u001b[0m\u001b[0;34m(\u001b[0m\u001b[0msess\u001b[0m\u001b[0;34m,\u001b[0m \u001b[0mbatch_features\u001b[0m\u001b[0;34m,\u001b[0m \u001b[0mbatch_labels\u001b[0m\u001b[0;34m,\u001b[0m \u001b[0mcost\u001b[0m\u001b[0;34m,\u001b[0m \u001b[0maccuracy\u001b[0m\u001b[0;34m)\u001b[0m\u001b[0;34m\u001b[0m\u001b[0m\n",
      "\u001b[0;32m<ipython-input-294-10151ed14e68>\u001b[0m in \u001b[0;36mtrain_neural_network\u001b[0;34m(session, optimizer, keep_probability, feature_batch, label_batch)\u001b[0m\n\u001b[1;32m     12\u001b[0m     \u001b[0;31m#print(optimizer)\u001b[0m\u001b[0;34m\u001b[0m\u001b[0;34m\u001b[0m\u001b[0m\n\u001b[1;32m     13\u001b[0m \u001b[0;34m\u001b[0m\u001b[0m\n\u001b[0;32m---> 14\u001b[0;31m     \u001b[0m_\u001b[0m \u001b[0;34m=\u001b[0m \u001b[0msession\u001b[0m\u001b[0;34m.\u001b[0m\u001b[0mrun\u001b[0m\u001b[0;34m(\u001b[0m\u001b[0moptimizer\u001b[0m\u001b[0;34m,\u001b[0m \u001b[0mfeed_dict\u001b[0m\u001b[0;34m=\u001b[0m\u001b[0;34m{\u001b[0m\u001b[0mx\u001b[0m\u001b[0;34m:\u001b[0m \u001b[0mfeature_batch\u001b[0m\u001b[0;34m,\u001b[0m \u001b[0my\u001b[0m\u001b[0;34m:\u001b[0m \u001b[0mlabel_batch\u001b[0m\u001b[0;34m,\u001b[0m \u001b[0mkeep_prob\u001b[0m\u001b[0;34m:\u001b[0m \u001b[0mkeep_probability\u001b[0m\u001b[0;34m}\u001b[0m\u001b[0;34m)\u001b[0m\u001b[0;34m\u001b[0m\u001b[0m\n\u001b[0m\u001b[1;32m     15\u001b[0m \u001b[0;34m\u001b[0m\u001b[0m\n\u001b[1;32m     16\u001b[0m \"\"\"\n",
      "\u001b[0;32m/Applications/anaconda/envs/dlnd-tf-lab/lib/python3.5/site-packages/tensorflow/python/client/session.py\u001b[0m in \u001b[0;36mrun\u001b[0;34m(self, fetches, feed_dict, options, run_metadata)\u001b[0m\n\u001b[1;32m    765\u001b[0m     \u001b[0;32mtry\u001b[0m\u001b[0;34m:\u001b[0m\u001b[0;34m\u001b[0m\u001b[0m\n\u001b[1;32m    766\u001b[0m       result = self._run(None, fetches, feed_dict, options_ptr,\n\u001b[0;32m--> 767\u001b[0;31m                          run_metadata_ptr)\n\u001b[0m\u001b[1;32m    768\u001b[0m       \u001b[0;32mif\u001b[0m \u001b[0mrun_metadata\u001b[0m\u001b[0;34m:\u001b[0m\u001b[0;34m\u001b[0m\u001b[0m\n\u001b[1;32m    769\u001b[0m         \u001b[0mproto_data\u001b[0m \u001b[0;34m=\u001b[0m \u001b[0mtf_session\u001b[0m\u001b[0;34m.\u001b[0m\u001b[0mTF_GetBuffer\u001b[0m\u001b[0;34m(\u001b[0m\u001b[0mrun_metadata_ptr\u001b[0m\u001b[0;34m)\u001b[0m\u001b[0;34m\u001b[0m\u001b[0m\n",
      "\u001b[0;32m/Applications/anaconda/envs/dlnd-tf-lab/lib/python3.5/site-packages/tensorflow/python/client/session.py\u001b[0m in \u001b[0;36m_run\u001b[0;34m(self, handle, fetches, feed_dict, options, run_metadata)\u001b[0m\n\u001b[1;32m    963\u001b[0m     \u001b[0;32mif\u001b[0m \u001b[0mfinal_fetches\u001b[0m \u001b[0;32mor\u001b[0m \u001b[0mfinal_targets\u001b[0m\u001b[0;34m:\u001b[0m\u001b[0;34m\u001b[0m\u001b[0m\n\u001b[1;32m    964\u001b[0m       results = self._do_run(handle, final_targets, final_fetches,\n\u001b[0;32m--> 965\u001b[0;31m                              feed_dict_string, options, run_metadata)\n\u001b[0m\u001b[1;32m    966\u001b[0m     \u001b[0;32melse\u001b[0m\u001b[0;34m:\u001b[0m\u001b[0;34m\u001b[0m\u001b[0m\n\u001b[1;32m    967\u001b[0m       \u001b[0mresults\u001b[0m \u001b[0;34m=\u001b[0m \u001b[0;34m[\u001b[0m\u001b[0;34m]\u001b[0m\u001b[0;34m\u001b[0m\u001b[0m\n",
      "\u001b[0;32m/Applications/anaconda/envs/dlnd-tf-lab/lib/python3.5/site-packages/tensorflow/python/client/session.py\u001b[0m in \u001b[0;36m_do_run\u001b[0;34m(self, handle, target_list, fetch_list, feed_dict, options, run_metadata)\u001b[0m\n\u001b[1;32m   1013\u001b[0m     \u001b[0;32mif\u001b[0m \u001b[0mhandle\u001b[0m \u001b[0;32mis\u001b[0m \u001b[0;32mNone\u001b[0m\u001b[0;34m:\u001b[0m\u001b[0;34m\u001b[0m\u001b[0m\n\u001b[1;32m   1014\u001b[0m       return self._do_call(_run_fn, self._session, feed_dict, fetch_list,\n\u001b[0;32m-> 1015\u001b[0;31m                            target_list, options, run_metadata)\n\u001b[0m\u001b[1;32m   1016\u001b[0m     \u001b[0;32melse\u001b[0m\u001b[0;34m:\u001b[0m\u001b[0;34m\u001b[0m\u001b[0m\n\u001b[1;32m   1017\u001b[0m       return self._do_call(_prun_fn, self._session, handle, feed_dict,\n",
      "\u001b[0;32m/Applications/anaconda/envs/dlnd-tf-lab/lib/python3.5/site-packages/tensorflow/python/client/session.py\u001b[0m in \u001b[0;36m_do_call\u001b[0;34m(self, fn, *args)\u001b[0m\n\u001b[1;32m   1020\u001b[0m   \u001b[0;32mdef\u001b[0m \u001b[0m_do_call\u001b[0m\u001b[0;34m(\u001b[0m\u001b[0mself\u001b[0m\u001b[0;34m,\u001b[0m \u001b[0mfn\u001b[0m\u001b[0;34m,\u001b[0m \u001b[0;34m*\u001b[0m\u001b[0margs\u001b[0m\u001b[0;34m)\u001b[0m\u001b[0;34m:\u001b[0m\u001b[0;34m\u001b[0m\u001b[0m\n\u001b[1;32m   1021\u001b[0m     \u001b[0;32mtry\u001b[0m\u001b[0;34m:\u001b[0m\u001b[0;34m\u001b[0m\u001b[0m\n\u001b[0;32m-> 1022\u001b[0;31m       \u001b[0;32mreturn\u001b[0m \u001b[0mfn\u001b[0m\u001b[0;34m(\u001b[0m\u001b[0;34m*\u001b[0m\u001b[0margs\u001b[0m\u001b[0;34m)\u001b[0m\u001b[0;34m\u001b[0m\u001b[0m\n\u001b[0m\u001b[1;32m   1023\u001b[0m     \u001b[0;32mexcept\u001b[0m \u001b[0merrors\u001b[0m\u001b[0;34m.\u001b[0m\u001b[0mOpError\u001b[0m \u001b[0;32mas\u001b[0m \u001b[0me\u001b[0m\u001b[0;34m:\u001b[0m\u001b[0;34m\u001b[0m\u001b[0m\n\u001b[1;32m   1024\u001b[0m       \u001b[0mmessage\u001b[0m \u001b[0;34m=\u001b[0m \u001b[0mcompat\u001b[0m\u001b[0;34m.\u001b[0m\u001b[0mas_text\u001b[0m\u001b[0;34m(\u001b[0m\u001b[0me\u001b[0m\u001b[0;34m.\u001b[0m\u001b[0mmessage\u001b[0m\u001b[0;34m)\u001b[0m\u001b[0;34m\u001b[0m\u001b[0m\n",
      "\u001b[0;32m/Applications/anaconda/envs/dlnd-tf-lab/lib/python3.5/site-packages/tensorflow/python/client/session.py\u001b[0m in \u001b[0;36m_run_fn\u001b[0;34m(session, feed_dict, fetch_list, target_list, options, run_metadata)\u001b[0m\n\u001b[1;32m   1002\u001b[0m         return tf_session.TF_Run(session, options,\n\u001b[1;32m   1003\u001b[0m                                  \u001b[0mfeed_dict\u001b[0m\u001b[0;34m,\u001b[0m \u001b[0mfetch_list\u001b[0m\u001b[0;34m,\u001b[0m \u001b[0mtarget_list\u001b[0m\u001b[0;34m,\u001b[0m\u001b[0;34m\u001b[0m\u001b[0m\n\u001b[0;32m-> 1004\u001b[0;31m                                  status, run_metadata)\n\u001b[0m\u001b[1;32m   1005\u001b[0m \u001b[0;34m\u001b[0m\u001b[0m\n\u001b[1;32m   1006\u001b[0m     \u001b[0;32mdef\u001b[0m \u001b[0m_prun_fn\u001b[0m\u001b[0;34m(\u001b[0m\u001b[0msession\u001b[0m\u001b[0;34m,\u001b[0m \u001b[0mhandle\u001b[0m\u001b[0;34m,\u001b[0m \u001b[0mfeed_dict\u001b[0m\u001b[0;34m,\u001b[0m \u001b[0mfetch_list\u001b[0m\u001b[0;34m)\u001b[0m\u001b[0;34m:\u001b[0m\u001b[0;34m\u001b[0m\u001b[0m\n",
      "\u001b[0;31mKeyboardInterrupt\u001b[0m: "
     ]
    }
   ],
   "source": [
    "\"\"\"\n",
    "DON'T MODIFY ANYTHING IN THIS CELL\n",
    "\"\"\"\n",
    "print('Checking the Training on a Single Batch...')\n",
    "with tf.Session() as sess:\n",
    "    # Initializing the variables\n",
    "    sess.run(tf.global_variables_initializer())\n",
    "    \n",
    "    # Training cycle\n",
    "    for epoch in range(epochs):\n",
    "        batch_i = 1\n",
    "        for batch_features, batch_labels in helper.load_preprocess_training_batch(batch_i, batch_size):\n",
    "            train_neural_network(sess, optimizer, keep_probability, batch_features, batch_labels)\n",
    "        print('Epoch {:>2}, CIFAR-10 Batch {}:  '.format(epoch + 1, batch_i), end='')\n",
    "        print_stats(sess, batch_features, batch_labels, cost, accuracy)"
   ]
  },
  {
   "cell_type": "markdown",
   "metadata": {},
   "source": [
    "### Fully Train the Model\n",
    "Now that you got a good accuracy with a single CIFAR-10 batch, try it with all five batches."
   ]
  },
  {
   "cell_type": "code",
   "execution_count": 289,
   "metadata": {
    "collapsed": false
   },
   "outputs": [
    {
     "name": "stdout",
     "output_type": "stream",
     "text": [
      "Training...\n",
      "Epoch  1, CIFAR-10 Batch 1:  Cost:  7166.23\n",
      "Accuracy:  0.075\n",
      "Epoch  1, CIFAR-10 Batch 2:  Cost:  5525.91\n",
      "Accuracy:  0.1\n",
      "Epoch  1, CIFAR-10 Batch 3:  Cost:  5440.56\n",
      "Accuracy:  0.125\n",
      "Epoch  1, CIFAR-10 Batch 4:  Cost:  4968.67\n",
      "Accuracy:  0.1\n",
      "Epoch  1, CIFAR-10 Batch 5:  Cost:  3026.02\n",
      "Accuracy:  0.225\n",
      "Epoch  2, CIFAR-10 Batch 1:  Cost:  2932.66\n",
      "Accuracy:  0.175\n",
      "Epoch  2, CIFAR-10 Batch 2:  Cost:  3088.25\n",
      "Accuracy:  0.1\n",
      "Epoch  2, CIFAR-10 Batch 3:  Cost:  2919.62\n",
      "Accuracy:  0.1\n",
      "Epoch  2, CIFAR-10 Batch 4:  Cost:  2651.78\n",
      "Accuracy:  0.125\n",
      "Epoch  2, CIFAR-10 Batch 5:  Cost:  1771.87\n",
      "Accuracy:  0.2\n",
      "Epoch  3, CIFAR-10 Batch 1:  Cost:  1710.4\n",
      "Accuracy:  0.2\n",
      "Epoch  3, CIFAR-10 Batch 2:  Cost:  2028.03\n",
      "Accuracy:  0.2\n",
      "Epoch  3, CIFAR-10 Batch 3:  Cost:  1763.99\n",
      "Accuracy:  0.1\n",
      "Epoch  3, CIFAR-10 Batch 4:  Cost:  1734.41\n",
      "Accuracy:  0.2\n",
      "Epoch  3, CIFAR-10 Batch 5:  Cost:  1241.31\n",
      "Accuracy:  0.25\n",
      "Epoch  4, CIFAR-10 Batch 1:  Cost:  1091.93\n",
      "Accuracy:  0.2\n",
      "Epoch  4, CIFAR-10 Batch 2:  Cost:  1404.78\n",
      "Accuracy:  0.225\n",
      "Epoch  4, CIFAR-10 Batch 3:  Cost:  1203.17\n",
      "Accuracy:  0.125\n",
      "Epoch  4, CIFAR-10 Batch 4:  Cost:  1272.95\n",
      "Accuracy:  0.2\n",
      "Epoch  4, CIFAR-10 Batch 5:  Cost:  967.145\n",
      "Accuracy:  0.25\n",
      "Epoch  5, CIFAR-10 Batch 1:  Cost:  748.893\n",
      "Accuracy:  0.2\n",
      "Epoch  5, CIFAR-10 Batch 2:  Cost:  1027.6\n",
      "Accuracy:  0.175\n",
      "Epoch  5, CIFAR-10 Batch 3:  Cost:  867.177\n",
      "Accuracy:  0.15\n",
      "Epoch  5, CIFAR-10 Batch 4:  Cost:  969.511\n",
      "Accuracy:  0.15\n",
      "Epoch  5, CIFAR-10 Batch 5:  Cost:  760.521\n",
      "Accuracy:  0.225\n",
      "Epoch  6, CIFAR-10 Batch 1:  Cost:  538.507\n",
      "Accuracy:  0.25\n",
      "Epoch  6, CIFAR-10 Batch 2:  Cost:  740.921\n",
      "Accuracy:  0.175\n",
      "Epoch  6, CIFAR-10 Batch 3:  Cost:  622.266\n",
      "Accuracy:  0.175\n",
      "Epoch  6, CIFAR-10 Batch 4:  Cost:  742.946\n",
      "Accuracy:  0.15\n",
      "Epoch  6, CIFAR-10 Batch 5:  Cost:  581.032\n",
      "Accuracy:  0.25\n",
      "Epoch  7, CIFAR-10 Batch 1:  Cost:  404.321\n",
      "Accuracy:  0.3\n",
      "Epoch  7, CIFAR-10 Batch 2:  Cost:  542.624\n",
      "Accuracy:  0.15\n",
      "Epoch  7, CIFAR-10 Batch 3:  Cost:  442.506\n",
      "Accuracy:  0.175\n",
      "Epoch  7, CIFAR-10 Batch 4:  Cost:  559.842\n",
      "Accuracy:  0.15\n",
      "Epoch  7, CIFAR-10 Batch 5:  Cost:  431.7\n",
      "Accuracy:  0.225\n",
      "Epoch  8, CIFAR-10 Batch 1:  Cost:  309.727\n",
      "Accuracy:  0.35\n",
      "Epoch  8, CIFAR-10 Batch 2:  Cost:  396.986\n",
      "Accuracy:  0.15\n",
      "Epoch  8, CIFAR-10 Batch 3:  Cost:  307.962\n",
      "Accuracy:  0.225\n",
      "Epoch  8, CIFAR-10 Batch 4:  Cost:  411.392\n",
      "Accuracy:  0.2\n",
      "Epoch  8, CIFAR-10 Batch 5:  Cost:  313.675\n",
      "Accuracy:  0.225\n",
      "Epoch  9, CIFAR-10 Batch 1:  Cost:  239.677\n",
      "Accuracy:  0.3\n",
      "Epoch  9, CIFAR-10 Batch 2:  Cost:  292.031\n",
      "Accuracy:  0.15\n",
      "Epoch  9, CIFAR-10 Batch 3:  Cost:  216.016\n",
      "Accuracy:  0.275\n",
      "Epoch  9, CIFAR-10 Batch 4:  Cost:  303.458\n",
      "Accuracy:  0.225\n",
      "Epoch  9, CIFAR-10 Batch 5:  Cost:  225.214\n",
      "Accuracy:  0.25\n",
      "Epoch 10, CIFAR-10 Batch 1:  Cost:  197.436\n",
      "Accuracy:  0.275\n",
      "Epoch 10, CIFAR-10 Batch 2:  Cost:  214.967\n",
      "Accuracy:  0.175\n",
      "Epoch 10, CIFAR-10 Batch 3:  Cost:  151.908\n",
      "Accuracy:  0.35\n",
      "Epoch 10, CIFAR-10 Batch 4:  Cost:  230.908\n",
      "Accuracy:  0.275\n",
      "Epoch 10, CIFAR-10 Batch 5:  Cost:  165.811\n",
      "Accuracy:  0.25\n",
      "Epoch 11, CIFAR-10 Batch 1:  Cost:  153.928\n",
      "Accuracy:  0.225\n",
      "Epoch 11, CIFAR-10 Batch 2:  Cost:  157.272\n",
      "Accuracy:  0.175\n",
      "Epoch 11, CIFAR-10 Batch 3:  Cost:  107.4\n",
      "Accuracy:  0.325\n",
      "Epoch 11, CIFAR-10 Batch 4:  Cost:  175.631\n",
      "Accuracy:  0.25\n",
      "Epoch 11, CIFAR-10 Batch 5:  Cost:  119.482\n",
      "Accuracy:  0.25\n",
      "Epoch 12, CIFAR-10 Batch 1:  Cost:  123.721\n",
      "Accuracy:  0.175\n",
      "Epoch 12, CIFAR-10 Batch 2:  Cost:  113.407\n",
      "Accuracy:  0.175\n",
      "Epoch 12, CIFAR-10 Batch 3:  Cost:  75.2791\n",
      "Accuracy:  0.3\n",
      "Epoch 12, CIFAR-10 Batch 4:  Cost:  131.184\n",
      "Accuracy:  0.2\n",
      "Epoch 12, CIFAR-10 Batch 5:  Cost:  85.6289\n",
      "Accuracy:  0.175\n",
      "Epoch 13, CIFAR-10 Batch 1:  Cost:  100.963\n",
      "Accuracy:  0.15\n",
      "Epoch 13, CIFAR-10 Batch 2:  Cost:  79.3766\n",
      "Accuracy:  0.15\n",
      "Epoch 13, CIFAR-10 Batch 3:  Cost:  54.9338\n",
      "Accuracy:  0.275\n",
      "Epoch 13, CIFAR-10 Batch 4:  Cost:  96.1572\n",
      "Accuracy:  0.225\n",
      "Epoch 13, CIFAR-10 Batch 5:  Cost:  59.4909\n",
      "Accuracy:  0.175\n",
      "Epoch 14, CIFAR-10 Batch 1:  Cost:  77.9037\n",
      "Accuracy:  0.175\n",
      "Epoch 14, CIFAR-10 Batch 2:  Cost:  56.6\n",
      "Accuracy:  0.2\n",
      "Epoch 14, CIFAR-10 Batch 3:  Cost:  40.1191\n",
      "Accuracy:  0.2\n",
      "Epoch 14, CIFAR-10 Batch 4:  Cost:  68.6439\n",
      "Accuracy:  0.2\n",
      "Epoch 14, CIFAR-10 Batch 5:  Cost:  39.815\n",
      "Accuracy:  0.15\n",
      "Epoch 15, CIFAR-10 Batch 1:  Cost:  54.6129\n",
      "Accuracy:  0.1\n",
      "Epoch 15, CIFAR-10 Batch 2:  Cost:  39.5611\n",
      "Accuracy:  0.15\n",
      "Epoch 15, CIFAR-10 Batch 3:  Cost:  27.8698\n",
      "Accuracy:  0.175\n",
      "Epoch 15, CIFAR-10 Batch 4:  Cost:  44.4111\n",
      "Accuracy:  0.225\n",
      "Epoch 15, CIFAR-10 Batch 5:  Cost:  25.1042\n",
      "Accuracy:  0.225\n",
      "Epoch 16, CIFAR-10 Batch 1:  Cost:  35.7323\n",
      "Accuracy:  0.175\n",
      "Epoch 16, CIFAR-10 Batch 2:  Cost:  25.9863\n",
      "Accuracy:  0.2\n",
      "Epoch 16, CIFAR-10 Batch 3:  Cost:  17.7438\n",
      "Accuracy:  0.225\n",
      "Epoch 16, CIFAR-10 Batch 4:  Cost:  26.1028\n",
      "Accuracy:  0.125\n",
      "Epoch 16, CIFAR-10 Batch 5:  Cost:  16.2614\n",
      "Accuracy:  0.275\n",
      "Epoch 17, CIFAR-10 Batch 1:  Cost:  22.1248\n",
      "Accuracy:  0.175\n",
      "Epoch 17, CIFAR-10 Batch 2:  Cost:  18.1632\n",
      "Accuracy:  0.225\n",
      "Epoch 17, CIFAR-10 Batch 3:  Cost:  11.4786\n",
      "Accuracy:  0.225\n",
      "Epoch 17, CIFAR-10 Batch 4:  Cost:  13.2625\n",
      "Accuracy:  0.225\n",
      "Epoch 17, CIFAR-10 Batch 5:  Cost:  10.7842\n",
      "Accuracy:  0.25\n",
      "Epoch 18, CIFAR-10 Batch 1:  Cost:  15.5149\n",
      "Accuracy:  0.2\n",
      "Epoch 18, CIFAR-10 Batch 2:  Cost:  14.2401\n",
      "Accuracy:  0.25\n",
      "Epoch 18, CIFAR-10 Batch 3:  Cost:  8.20876\n",
      "Accuracy:  0.2\n",
      "Epoch 18, CIFAR-10 Batch 4:  Cost:  7.38002\n",
      "Accuracy:  0.275\n",
      "Epoch 18, CIFAR-10 Batch 5:  Cost:  8.44028\n",
      "Accuracy:  0.175\n",
      "Epoch 19, CIFAR-10 Batch 1:  Cost:  10.8141\n",
      "Accuracy:  0.175\n",
      "Epoch 19, CIFAR-10 Batch 2:  Cost:  11.4523\n",
      "Accuracy:  0.175\n",
      "Epoch 19, CIFAR-10 Batch 3:  Cost:  6.25811\n",
      "Accuracy:  0.175\n",
      "Epoch 19, CIFAR-10 Batch 4:  Cost:  4.6703\n",
      "Accuracy:  0.325\n",
      "Epoch 19, CIFAR-10 Batch 5:  Cost:  6.36593\n",
      "Accuracy:  0.2\n",
      "Epoch 20, CIFAR-10 Batch 1:  Cost:  7.35957\n",
      "Accuracy:  0.15\n",
      "Epoch 20, CIFAR-10 Batch 2:  Cost:  7.53467\n",
      "Accuracy:  0.225\n",
      "Epoch 20, CIFAR-10 Batch 3:  Cost:  4.82355\n",
      "Accuracy:  0.225\n",
      "Epoch 20, CIFAR-10 Batch 4:  Cost:  4.04888\n",
      "Accuracy:  0.275\n",
      "Epoch 20, CIFAR-10 Batch 5:  Cost:  4.3411\n",
      "Accuracy:  0.25\n",
      "Epoch 21, CIFAR-10 Batch 1:  Cost:  5.06472\n",
      "Accuracy:  0.225\n",
      "Epoch 21, CIFAR-10 Batch 2:  Cost:  5.03176\n",
      "Accuracy:  0.225\n",
      "Epoch 21, CIFAR-10 Batch 3:  Cost:  3.52659\n",
      "Accuracy:  0.225\n",
      "Epoch 21, CIFAR-10 Batch 4:  Cost:  2.88064\n",
      "Accuracy:  0.3\n",
      "Epoch 21, CIFAR-10 Batch 5:  Cost:  2.99697\n",
      "Accuracy:  0.2\n",
      "Epoch 22, CIFAR-10 Batch 1:  Cost:  3.22642\n",
      "Accuracy:  0.275\n",
      "Epoch 22, CIFAR-10 Batch 2:  Cost:  3.13973\n",
      "Accuracy:  0.2\n",
      "Epoch 22, CIFAR-10 Batch 3:  Cost:  2.43366\n",
      "Accuracy:  0.275\n",
      "Epoch 22, CIFAR-10 Batch 4:  Cost:  2.78215\n",
      "Accuracy:  0.225\n",
      "Epoch 22, CIFAR-10 Batch 5:  Cost:  2.31811\n",
      "Accuracy:  0.3\n",
      "Epoch 23, CIFAR-10 Batch 1:  Cost:  2.63025\n",
      "Accuracy:  0.35\n",
      "Epoch 23, CIFAR-10 Batch 2:  Cost:  2.6217\n",
      "Accuracy:  0.225\n",
      "Epoch 23, CIFAR-10 Batch 3:  Cost:  2.16555\n",
      "Accuracy:  0.2\n",
      "Epoch 23, CIFAR-10 Batch 4:  Cost:  3.00611\n",
      "Accuracy:  0.275\n",
      "Epoch 23, CIFAR-10 Batch 5:  Cost:  2.08161\n",
      "Accuracy:  0.25\n",
      "Epoch 24, CIFAR-10 Batch 1:  Cost:  2.56917\n",
      "Accuracy:  0.3\n",
      "Epoch 24, CIFAR-10 Batch 2:  Cost:  2.50622\n",
      "Accuracy:  0.175\n",
      "Epoch 24, CIFAR-10 Batch 3:  Cost:  1.93833\n",
      "Accuracy:  0.25\n",
      "Epoch 24, CIFAR-10 Batch 4:  Cost:  2.60337\n",
      "Accuracy:  0.275\n",
      "Epoch 24, CIFAR-10 Batch 5:  Cost:  2.03476\n",
      "Accuracy:  0.225\n",
      "Epoch 25, CIFAR-10 Batch 1:  Cost:  2.40781\n",
      "Accuracy:  0.2\n",
      "Epoch 25, CIFAR-10 Batch 2:  Cost:  2.64535\n",
      "Accuracy:  0.1\n",
      "Epoch 25, CIFAR-10 Batch 3:  Cost:  1.97644\n",
      "Accuracy:  0.225\n",
      "Epoch 25, CIFAR-10 Batch 4:  Cost:  2.60931\n",
      "Accuracy:  0.275\n",
      "Epoch 25, CIFAR-10 Batch 5:  Cost:  2.03519\n",
      "Accuracy:  0.2\n",
      "Epoch 26, CIFAR-10 Batch 1:  Cost:  2.49387\n",
      "Accuracy:  0.25\n",
      "Epoch 26, CIFAR-10 Batch 2:  Cost:  2.51015\n",
      "Accuracy:  0.15\n",
      "Epoch 26, CIFAR-10 Batch 3:  Cost:  1.97351\n",
      "Accuracy:  0.25\n",
      "Epoch 26, CIFAR-10 Batch 4:  Cost:  2.66692\n",
      "Accuracy:  0.25\n",
      "Epoch 26, CIFAR-10 Batch 5:  Cost:  2.04204\n",
      "Accuracy:  0.225\n",
      "Epoch 27, CIFAR-10 Batch 1:  Cost:  2.38745\n",
      "Accuracy:  0.2\n",
      "Epoch 27, CIFAR-10 Batch 2:  Cost:  2.41775\n",
      "Accuracy:  0.175\n",
      "Epoch 27, CIFAR-10 Batch 3:  Cost:  1.92859\n",
      "Accuracy:  0.225\n",
      "Epoch 27, CIFAR-10 Batch 4:  Cost:  2.55695\n",
      "Accuracy:  0.25\n",
      "Epoch 27, CIFAR-10 Batch 5:  Cost:  2.05041\n",
      "Accuracy:  0.2\n",
      "Epoch 28, CIFAR-10 Batch 1:  Cost:  2.2093\n",
      "Accuracy:  0.2\n",
      "Epoch 28, CIFAR-10 Batch 2:  Cost:  2.29453\n",
      "Accuracy:  0.25\n",
      "Epoch 28, CIFAR-10 Batch 3:  Cost:  1.92649\n",
      "Accuracy:  0.275\n",
      "Epoch 28, CIFAR-10 Batch 4:  Cost:  2.3389\n",
      "Accuracy:  0.225\n",
      "Epoch 28, CIFAR-10 Batch 5:  Cost:  2.05307\n",
      "Accuracy:  0.2\n",
      "Epoch 29, CIFAR-10 Batch 1:  Cost:  2.25037\n",
      "Accuracy:  0.25\n",
      "Epoch 29, CIFAR-10 Batch 2:  Cost:  2.2264\n",
      "Accuracy:  0.225\n",
      "Epoch 29, CIFAR-10 Batch 3:  Cost:  1.92133\n",
      "Accuracy:  0.275\n",
      "Epoch 29, CIFAR-10 Batch 4:  Cost:  2.25281\n",
      "Accuracy:  0.3\n",
      "Epoch 29, CIFAR-10 Batch 5:  Cost:  2.01767\n",
      "Accuracy:  0.2\n",
      "Epoch 30, CIFAR-10 Batch 1:  Cost:  2.1957\n",
      "Accuracy:  0.275\n",
      "Epoch 30, CIFAR-10 Batch 2:  Cost:  2.23326\n",
      "Accuracy:  0.25\n",
      "Epoch 30, CIFAR-10 Batch 3:  Cost:  1.90655\n",
      "Accuracy:  0.25\n",
      "Epoch 30, CIFAR-10 Batch 4:  Cost:  2.25095\n",
      "Accuracy:  0.325\n",
      "Epoch 30, CIFAR-10 Batch 5:  Cost:  1.98757\n",
      "Accuracy:  0.225\n"
     ]
    }
   ],
   "source": [
    "\"\"\"\n",
    "DON'T MODIFY ANYTHING IN THIS CELL\n",
    "\"\"\"\n",
    "save_model_path = './image_classification'\n",
    "\n",
    "print('Training...')\n",
    "with tf.Session() as sess:\n",
    "    # Initializing the variables\n",
    "    sess.run(tf.global_variables_initializer())\n",
    "    \n",
    "    # Training cycle\n",
    "    for epoch in range(epochs):\n",
    "        # Loop over all batches\n",
    "        n_batches = 5\n",
    "        for batch_i in range(1, n_batches + 1):\n",
    "            for batch_features, batch_labels in helper.load_preprocess_training_batch(batch_i, batch_size):\n",
    "                train_neural_network(sess, optimizer, keep_probability, batch_features, batch_labels)\n",
    "            print('Epoch {:>2}, CIFAR-10 Batch {}:  '.format(epoch + 1, batch_i), end='')\n",
    "            print_stats(sess, batch_features, batch_labels, cost, accuracy)\n",
    "            \n",
    "    # Save Model\n",
    "    saver = tf.train.Saver()\n",
    "    save_path = saver.save(sess, save_model_path)"
   ]
  },
  {
   "cell_type": "markdown",
   "metadata": {},
   "source": [
    "# Checkpoint\n",
    "The model has been saved to disk.\n",
    "## Test Model\n",
    "Test your model against the test dataset.  This will be your final accuracy. You should have an accuracy greater than 50%. If you don't, keep tweaking the model architecture and parameters."
   ]
  },
  {
   "cell_type": "code",
   "execution_count": null,
   "metadata": {
    "collapsed": false
   },
   "outputs": [],
   "source": [
    "\"\"\"\n",
    "DON'T MODIFY ANYTHING IN THIS CELL\n",
    "\"\"\"\n",
    "%matplotlib inline\n",
    "%config InlineBackend.figure_format = 'retina'\n",
    "\n",
    "import tensorflow as tf\n",
    "import pickle\n",
    "import helper\n",
    "import random\n",
    "\n",
    "# Set batch size if not already set\n",
    "try:\n",
    "    if batch_size:\n",
    "        pass\n",
    "except NameError:\n",
    "    batch_size = 64\n",
    "\n",
    "save_model_path = './image_classification'\n",
    "n_samples = 4\n",
    "top_n_predictions = 3\n",
    "\n",
    "def test_model():\n",
    "    \"\"\"\n",
    "    Test the saved model against the test dataset\n",
    "    \"\"\"\n",
    "\n",
    "    test_features, test_labels = pickle.load(open('preprocess_training.p', mode='rb'))\n",
    "    loaded_graph = tf.Graph()\n",
    "\n",
    "    with tf.Session(graph=loaded_graph) as sess:\n",
    "        # Load model\n",
    "        loader = tf.train.import_meta_graph(save_model_path + '.meta')\n",
    "        loader.restore(sess, save_model_path)\n",
    "\n",
    "        # Get Tensors from loaded model\n",
    "        loaded_x = loaded_graph.get_tensor_by_name('x:0')\n",
    "        loaded_y = loaded_graph.get_tensor_by_name('y:0')\n",
    "        loaded_keep_prob = loaded_graph.get_tensor_by_name('keep_prob:0')\n",
    "        loaded_logits = loaded_graph.get_tensor_by_name('logits:0')\n",
    "        loaded_acc = loaded_graph.get_tensor_by_name('accuracy:0')\n",
    "        \n",
    "        # Get accuracy in batches for memory limitations\n",
    "        test_batch_acc_total = 0\n",
    "        test_batch_count = 0\n",
    "        \n",
    "        for train_feature_batch, train_label_batch in helper.batch_features_labels(test_features, test_labels, batch_size):\n",
    "            test_batch_acc_total += sess.run(\n",
    "                loaded_acc,\n",
    "                feed_dict={loaded_x: train_feature_batch, loaded_y: train_label_batch, loaded_keep_prob: 1.0})\n",
    "            test_batch_count += 1\n",
    "\n",
    "        print('Testing Accuracy: {}\\n'.format(test_batch_acc_total/test_batch_count))\n",
    "\n",
    "        # Print Random Samples\n",
    "        random_test_features, random_test_labels = tuple(zip(*random.sample(list(zip(test_features, test_labels)), n_samples)))\n",
    "        random_test_predictions = sess.run(\n",
    "            tf.nn.top_k(tf.nn.softmax(loaded_logits), top_n_predictions),\n",
    "            feed_dict={loaded_x: random_test_features, loaded_y: random_test_labels, loaded_keep_prob: 1.0})\n",
    "        helper.display_image_predictions(random_test_features, random_test_labels, random_test_predictions)\n",
    "\n",
    "\n",
    "test_model()"
   ]
  },
  {
   "cell_type": "markdown",
   "metadata": {},
   "source": [
    "## Why 50-80% Accuracy?\n",
    "You might be wondering why you can't get an accuracy any higher. First things first, 50% isn't bad for a simple CNN.  Pure guessing would get you 10% accuracy. That's because there are many more techniques that can be applied to your model and we recemmond that once you are done with this project, you explore!\n",
    "\n",
    "## Submitting This Project\n",
    "When submitting this project, make sure to run all the cells before saving the notebook.  Save the notebook file as \"dlnd_image_classification.ipynb\" and save it as a HTML file under \"File\" -> \"Download as\".  Include the \"helper.py\" and \"problem_unittests.py\" files in your submission."
   ]
  },
  {
   "cell_type": "code",
   "execution_count": null,
   "metadata": {
    "collapsed": true
   },
   "outputs": [],
   "source": []
  }
 ],
 "metadata": {
  "anaconda-cloud": {},
  "kernelspec": {
   "display_name": "Python [conda env:dlnd-tf-lab]",
   "language": "python",
   "name": "conda-env-dlnd-tf-lab-py"
  },
  "language_info": {
   "codemirror_mode": {
    "name": "ipython",
    "version": 3
   },
   "file_extension": ".py",
   "mimetype": "text/x-python",
   "name": "python",
   "nbconvert_exporter": "python",
   "pygments_lexer": "ipython3",
   "version": "3.5.3"
  }
 },
 "nbformat": 4,
 "nbformat_minor": 0
}
